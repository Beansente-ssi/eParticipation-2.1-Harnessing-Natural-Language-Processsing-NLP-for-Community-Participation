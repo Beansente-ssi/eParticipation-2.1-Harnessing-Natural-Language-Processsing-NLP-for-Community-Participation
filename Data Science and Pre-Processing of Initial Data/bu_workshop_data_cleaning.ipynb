{
 "cells": [
  {
   "cell_type": "markdown",
   "id": "6a795441",
   "metadata": {},
   "source": [
    "# Bicol University Workshop: Data Cleaning\n",
    "Prepared by: John Raymond B. Barajas"
   ]
  },
  {
   "cell_type": "markdown",
   "id": "d0938be4",
   "metadata": {},
   "source": [
    "## Confidentiality Notice"
   ]
  },
  {
   "cell_type": "markdown",
   "id": "1bb1bc29",
   "metadata": {},
   "source": [
    "This Jupyter Notebook and its contents are confidential and intended solely for the use of the intended recipient(s). If you have received this Notebook in error, please notify the sender immediately and delete it from your system. Any unauthorized use, disclosure, copying, or distribution of this Notebook is strictly prohibited.\n",
    "\n",
    "The information contained in this Notebook may be privileged and confidential, and is intended only for the named recipient(s). Any review, dissemination, distribution, or copying of this Notebook by anyone other than the intended recipient(s) is strictly prohibited.\n",
    "\n",
    "The content and opinions expressed in this Notebook are those of the author(s) and may not necessarily reflect the official policies or positions of the organization. Any views or opinions presented in this Notebook are solely those of the author(s) and do not necessarily represent those of the organization.\n",
    "\n",
    "The security and integrity of the content of this Notebook cannot be guaranteed, and the author(s) shall not be held responsible for any unauthorized modification or alteration of the content.\n",
    "\n",
    "Please treat this Notebook and its contents with the utmost confidentiality and refrain from sharing or distributing it without explicit permission from the author(s) or the organization.\n",
    "\n",
    "Thank you for your cooperation and understanding."
   ]
  },
  {
   "cell_type": "markdown",
   "id": "9a1461b8",
   "metadata": {},
   "source": [
    "## Install the Necessary Libraries"
   ]
  },
  {
   "cell_type": "code",
   "execution_count": 1,
   "id": "2ec183ed",
   "metadata": {
    "ExecuteTime": {
     "end_time": "2023-07-12T12:39:19.830945Z",
     "start_time": "2023-07-12T12:39:19.827903Z"
    }
   },
   "outputs": [],
   "source": [
    "# !pip install pandas\n",
    "# !pip install openpyxl"
   ]
  },
  {
   "cell_type": "markdown",
   "id": "88dd9aa8",
   "metadata": {},
   "source": [
    "## Import the Necessary Libraries"
   ]
  },
  {
   "cell_type": "code",
   "execution_count": 2,
   "id": "689e4618",
   "metadata": {
    "ExecuteTime": {
     "end_time": "2023-07-12T12:39:21.086485Z",
     "start_time": "2023-07-12T12:39:20.675154Z"
    }
   },
   "outputs": [],
   "source": [
    "import pandas as pd"
   ]
  },
  {
   "cell_type": "markdown",
   "id": "c1bae25a",
   "metadata": {},
   "source": [
    "## Clean FHE and TES Data"
   ]
  },
  {
   "cell_type": "markdown",
   "id": "57e6fdde",
   "metadata": {},
   "source": [
    "### Make FHE Excel Data into a Single csv file"
   ]
  },
  {
   "cell_type": "code",
   "execution_count": 3,
   "id": "e4c07c6c",
   "metadata": {
    "ExecuteTime": {
     "end_time": "2023-07-12T12:39:22.495999Z",
     "start_time": "2023-07-12T12:39:22.186764Z"
    }
   },
   "outputs": [],
   "source": [
    "# read data\n",
    "df_fhe_20182019 = pd.read_excel('FHE_Data_AY_2018-2019_to_2022-2023_edited.xlsx', sheet_name='2018-2019')\n",
    "\n",
    "# edit column names\n",
    "df_fhe_20182019.columns = ['REGION', 'HEI_NAME', 'HEI_TYPE', 'HEI_CITY', 'HEI_PROVINCE',\n",
    "                           'FHE_GRANTEES', 'SEX_M', 'SEX_F', 'NOT_INDICATED']\n",
    "\n",
    "# put year in new column\n",
    "df_fhe_20182019['YEAR'] = '2018-2019'"
   ]
  },
  {
   "cell_type": "code",
   "execution_count": 4,
   "id": "d6a7bd77",
   "metadata": {
    "ExecuteTime": {
     "end_time": "2023-07-12T12:39:24.218506Z",
     "start_time": "2023-07-12T12:39:24.132685Z"
    }
   },
   "outputs": [],
   "source": [
    "# read data\n",
    "df_fhe_20192020 = pd.read_excel('FHE_Data_AY_2018-2019_to_2022-2023_edited.xlsx', sheet_name='2019-2020')\n",
    "\n",
    "# edit column names\n",
    "df_fhe_20192020.columns = ['REGION', 'HEI_NAME', 'HEI_TYPE', 'HEI_CITY', 'HEI_PROVINCE',\n",
    "                           'FHE_GRANTEES', 'SEX_M', 'SEX_F', 'NOT_INDICATED']\n",
    "\n",
    "# put year in new column\n",
    "df_fhe_20192020['YEAR'] = '2019-2020'"
   ]
  },
  {
   "cell_type": "code",
   "execution_count": 5,
   "id": "3ff80b50",
   "metadata": {
    "ExecuteTime": {
     "end_time": "2023-07-12T12:39:25.453785Z",
     "start_time": "2023-07-12T12:39:25.371809Z"
    }
   },
   "outputs": [],
   "source": [
    "# read data\n",
    "df_fhe_20202021 = pd.read_excel('FHE_Data_AY_2018-2019_to_2022-2023_edited.xlsx', sheet_name='2020-2021')\n",
    "\n",
    "# edit column names\n",
    "df_fhe_20202021.columns = ['REGION', 'HEI_NAME', 'HEI_TYPE', 'HEI_CITY', 'HEI_PROVINCE',\n",
    "                           'FHE_GRANTEES', 'SEX_M', 'SEX_F', 'NOT_INDICATED']\n",
    "\n",
    "# put year in new column\n",
    "df_fhe_20202021['YEAR'] = '2020-2021'"
   ]
  },
  {
   "cell_type": "code",
   "execution_count": 6,
   "id": "c156c2fa",
   "metadata": {
    "ExecuteTime": {
     "end_time": "2023-07-12T12:39:26.391785Z",
     "start_time": "2023-07-12T12:39:26.260446Z"
    }
   },
   "outputs": [],
   "source": [
    "# read data\n",
    "df_fhe_20212022 = pd.read_excel('FHE_Data_AY_2018-2019_to_2022-2023_edited.xlsx', sheet_name='2021-2022')\n",
    "\n",
    "# edit column names\n",
    "df_fhe_20212022.columns = ['REGION', 'HEI_NAME', 'HEI_TYPE', 'HEI_CITY', 'HEI_PROVINCE',\n",
    "                           'FHE_GRANTEES', 'SEX_M', 'SEX_F', 'NOT_INDICATED']\n",
    "\n",
    "# put year in new column\n",
    "df_fhe_20212022['YEAR'] = '2021-2022'"
   ]
  },
  {
   "cell_type": "code",
   "execution_count": 7,
   "id": "b680a6cf",
   "metadata": {
    "ExecuteTime": {
     "end_time": "2023-07-12T12:39:28.454749Z",
     "start_time": "2023-07-12T12:39:28.380205Z"
    }
   },
   "outputs": [],
   "source": [
    "# read data\n",
    "df_fhe_20222023 = pd.read_excel('FHE_Data_AY_2018-2019_to_2022-2023_edited.xlsx', sheet_name='2022-2023')\n",
    "\n",
    "# edit column names\n",
    "df_fhe_20222023.columns = ['REGION', 'HEI_NAME', 'HEI_TYPE', 'HEI_CITY', 'HEI_PROVINCE',\n",
    "                           'FHE_GRANTEES', 'SEX_M', 'SEX_F', 'NOT_INDICATED']\n",
    "\n",
    "# put year in new column\n",
    "df_fhe_20222023['YEAR'] = '2022-2023'"
   ]
  },
  {
   "cell_type": "code",
   "execution_count": 8,
   "id": "eb2ba98d",
   "metadata": {
    "ExecuteTime": {
     "end_time": "2023-07-12T12:39:29.224391Z",
     "start_time": "2023-07-12T12:39:29.218897Z"
    }
   },
   "outputs": [],
   "source": [
    "# merge all sheets into a single data frame\n",
    "df_fhe = pd.concat([df_fhe_20182019, df_fhe_20192020, df_fhe_20202021,\n",
    "                    df_fhe_20212022, df_fhe_20222023])"
   ]
  },
  {
   "cell_type": "code",
   "execution_count": 9,
   "id": "f8223886",
   "metadata": {
    "ExecuteTime": {
     "end_time": "2023-07-12T12:39:29.910679Z",
     "start_time": "2023-07-12T12:39:29.900345Z"
    }
   },
   "outputs": [],
   "source": [
    "# write merged data frame into a single csv file\n",
    "df_fhe.to_csv('fhe_raw_data.csv', index=False)"
   ]
  },
  {
   "cell_type": "markdown",
   "id": "618a22c9",
   "metadata": {},
   "source": [
    "### Make TES Excel Data into a Single csv file"
   ]
  },
  {
   "cell_type": "code",
   "execution_count": 10,
   "id": "edb160de",
   "metadata": {
    "ExecuteTime": {
     "end_time": "2023-07-12T12:39:32.687475Z",
     "start_time": "2023-07-12T12:39:32.275585Z"
    }
   },
   "outputs": [],
   "source": [
    "# read data\n",
    "df_tes_20182019 = pd.read_excel('TES_Data_AY_2018-2019_to_2022-2023_edited.xlsx', sheet_name='2018-2019')\n",
    "\n",
    "# edit column names\n",
    "df_tes_20182019.columns = ['REGION', 'HEI_NAME', 'HEI_TYPE', 'HEI_CITY', 'HEI_PROVINCE',\n",
    "                           'TES_GRANTEES', 'SEX_M', 'SEX_F', 'EDUC', 'ARTS', 'SOC_SCI',\n",
    "                           'BUSINESS', 'NAT_SCI', 'INFO', 'ENG', 'AGRI', 'HEALTH', 'SERVICES',\n",
    "                           'OTHERS']\n",
    "\n",
    "# put year in new column\n",
    "df_tes_20182019['YEAR'] = '2018-2019'"
   ]
  },
  {
   "cell_type": "code",
   "execution_count": 11,
   "id": "017c2128",
   "metadata": {
    "ExecuteTime": {
     "end_time": "2023-07-12T12:39:33.866860Z",
     "start_time": "2023-07-12T12:39:33.428355Z"
    }
   },
   "outputs": [],
   "source": [
    "# read data\n",
    "df_tes_20192020 = pd.read_excel('TES_Data_AY_2018-2019_to_2022-2023_edited.xlsx', sheet_name='2019-2020')\n",
    "\n",
    "# edit column names\n",
    "df_tes_20192020.columns = ['REGION', 'HEI_NAME', 'HEI_TYPE', 'HEI_CITY', 'HEI_PROVINCE',\n",
    "                           'TES_GRANTEES', 'SEX_M', 'SEX_F', 'EDUC', 'ARTS', 'SOC_SCI',\n",
    "                           'BUSINESS', 'NAT_SCI', 'INFO', 'ENG', 'AGRI', 'HEALTH', 'SERVICES',\n",
    "                           'OTHERS']\n",
    "\n",
    "# put year in new column\n",
    "df_tes_20192020['YEAR'] = '2019-2020'"
   ]
  },
  {
   "cell_type": "code",
   "execution_count": 12,
   "id": "b91e90a0",
   "metadata": {
    "ExecuteTime": {
     "end_time": "2023-07-12T12:39:35.919038Z",
     "start_time": "2023-07-12T12:39:35.435871Z"
    }
   },
   "outputs": [],
   "source": [
    "# read data\n",
    "df_tes_20202021 = pd.read_excel('TES_Data_AY_2018-2019_to_2022-2023_edited.xlsx', sheet_name='2020-2021')\n",
    "\n",
    "# edit column names\n",
    "df_tes_20202021.columns = ['REGION', 'HEI_NAME', 'HEI_TYPE', 'HEI_CITY', 'HEI_PROVINCE',\n",
    "                           'TES_GRANTEES', 'SEX_M', 'SEX_F', 'EDUC', 'ARTS', 'SOC_SCI',\n",
    "                           'BUSINESS', 'NAT_SCI', 'INFO', 'ENG', 'AGRI', 'HEALTH', 'SERVICES',\n",
    "                           'OTHERS']\n",
    "\n",
    "# put year in new column\n",
    "df_tes_20202021['YEAR'] = '2020-2021'"
   ]
  },
  {
   "cell_type": "code",
   "execution_count": 13,
   "id": "0ca5e20b",
   "metadata": {
    "ExecuteTime": {
     "end_time": "2023-07-12T12:39:37.407124Z",
     "start_time": "2023-07-12T12:39:36.980135Z"
    }
   },
   "outputs": [],
   "source": [
    "# read data\n",
    "df_tes_20212022 = pd.read_excel('TES_Data_AY_2018-2019_to_2022-2023_edited.xlsx', sheet_name='2021-2022')\n",
    "\n",
    "# edit column names\n",
    "df_tes_20212022.columns = ['REGION', 'HEI_NAME', 'HEI_TYPE', 'HEI_CITY', 'HEI_PROVINCE',\n",
    "                           'TES_GRANTEES', 'SEX_M', 'SEX_F', 'EDUC', 'ARTS', 'SOC_SCI',\n",
    "                           'BUSINESS', 'NAT_SCI', 'INFO', 'ENG', 'AGRI', 'HEALTH', 'SERVICES',\n",
    "                           'OTHERS']\n",
    "\n",
    "# put year in new column\n",
    "df_tes_20212022['YEAR'] = '2021-2022'"
   ]
  },
  {
   "cell_type": "code",
   "execution_count": 14,
   "id": "ab6fee4b",
   "metadata": {
    "ExecuteTime": {
     "end_time": "2023-07-12T12:39:39.483851Z",
     "start_time": "2023-07-12T12:39:39.083489Z"
    }
   },
   "outputs": [],
   "source": [
    "# read data\n",
    "df_tes_20222023 = pd.read_excel('TES_Data_AY_2018-2019_to_2022-2023_edited.xlsx', sheet_name='2022-2023')\n",
    "\n",
    "# edit column names\n",
    "df_tes_20222023.columns = ['REGION', 'HEI_NAME', 'HEI_TYPE', 'HEI_CITY', 'HEI_PROVINCE',\n",
    "                           'TES_GRANTEES', 'SEX_M', 'SEX_F', 'EDUC', 'ARTS', 'SOC_SCI',\n",
    "                           'BUSINESS', 'NAT_SCI', 'INFO', 'ENG', 'AGRI', 'HEALTH', 'SERVICES',\n",
    "                           'OTHERS']\n",
    "\n",
    "# put year in new column\n",
    "df_tes_20222023['YEAR'] = '2022-2023'"
   ]
  },
  {
   "cell_type": "code",
   "execution_count": 15,
   "id": "bffa6c9f",
   "metadata": {
    "ExecuteTime": {
     "end_time": "2023-07-12T12:39:40.303875Z",
     "start_time": "2023-07-12T12:39:40.299588Z"
    }
   },
   "outputs": [],
   "source": [
    "# merge all sheets into a single data frame\n",
    "df_tes = pd.concat([df_tes_20182019, df_tes_20192020, df_tes_20202021,\n",
    "                    df_tes_20212022, df_tes_20222023])"
   ]
  },
  {
   "cell_type": "code",
   "execution_count": 16,
   "id": "9960a9e4",
   "metadata": {
    "ExecuteTime": {
     "end_time": "2023-07-12T12:39:42.212100Z",
     "start_time": "2023-07-12T12:39:42.155627Z"
    }
   },
   "outputs": [],
   "source": [
    "# write merged data frame into a single csv file\n",
    "df_tes.to_csv('tes_raw_data.csv', index=False)"
   ]
  },
  {
   "cell_type": "markdown",
   "id": "a58174ab",
   "metadata": {},
   "source": [
    "## Clean Entry and Exit Survey Data"
   ]
  },
  {
   "cell_type": "markdown",
   "id": "aa05ce8b",
   "metadata": {},
   "source": [
    "### Clean Entry Survey Data"
   ]
  },
  {
   "cell_type": "code",
   "execution_count": 17,
   "id": "62e8333d",
   "metadata": {
    "ExecuteTime": {
     "end_time": "2023-07-12T12:39:43.712400Z",
     "start_time": "2023-07-12T12:39:43.451383Z"
    }
   },
   "outputs": [],
   "source": [
    "# read data\n",
    "df_entry_survey = pd.read_excel('STUDENT_SURVEY_ENTRY_EXPORTED_AT2023_06_16_8_42_19_pm_edited.xlsx',\n",
    "                                sheet_name='Responses')"
   ]
  },
  {
   "cell_type": "code",
   "execution_count": 18,
   "id": "c160bf00",
   "metadata": {
    "ExecuteTime": {
     "end_time": "2023-07-12T12:39:45.510893Z",
     "start_time": "2023-07-12T12:39:45.507519Z"
    }
   },
   "outputs": [],
   "source": [
    "# identify Check-All-That-Apply questions\n",
    "cols_CATA_entry = ['Q3', 'Q6', 'Q9']"
   ]
  },
  {
   "cell_type": "code",
   "execution_count": 19,
   "id": "3ca5c309",
   "metadata": {
    "ExecuteTime": {
     "end_time": "2023-07-12T12:39:47.293443Z",
     "start_time": "2023-07-12T12:39:47.283543Z"
    }
   },
   "outputs": [
    {
     "name": "stdout",
     "output_type": "stream",
     "text": [
      "<class 'pandas.core.frame.DataFrame'>\n",
      "RangeIndex: 750 entries, 0 to 749\n",
      "Data columns (total 25 columns):\n",
      " #   Column           Non-Null Count  Dtype \n",
      "---  ------           --------------  ----- \n",
      " 0   SURVEY_NAME      750 non-null    object\n",
      " 1   BIRTHDATE        750 non-null    object\n",
      " 2   SEX              750 non-null    object\n",
      " 3   GENDER           678 non-null    object\n",
      " 4   Q1               749 non-null    object\n",
      " 5   Q1_YES           4 non-null      object\n",
      " 6   Q1_OTHER         90 non-null     object\n",
      " 7   ADDRESS          748 non-null    object\n",
      " 8   FAMILY_INCOME    748 non-null    object\n",
      " 9   Q2               748 non-null    object\n",
      " 10  SCHOOL           748 non-null    object\n",
      " 11  SCHOOL_TYPE      748 non-null    object\n",
      " 12  ACADEMIC_STATUS  748 non-null    object\n",
      " 13  COURSE           748 non-null    object\n",
      " 14  Q3               462 non-null    object\n",
      " 15  Q3_OTHER         26 non-null     object\n",
      " 16  Q4               748 non-null    object\n",
      " 17  Q5               734 non-null    object\n",
      " 18  Q6               746 non-null    object\n",
      " 19  Q6_OTHER         5 non-null      object\n",
      " 20  Q7               748 non-null    object\n",
      " 21  Q8               747 non-null    object\n",
      " 22  Q8_OTHER         14 non-null     object\n",
      " 23  Q9               744 non-null    object\n",
      " 24  Q9_OTHER         32 non-null     object\n",
      "dtypes: object(25)\n",
      "memory usage: 146.6+ KB\n"
     ]
    }
   ],
   "source": [
    "# check metadata of dataframe\n",
    "df_entry_survey.info()"
   ]
  },
  {
   "cell_type": "markdown",
   "id": "3e89f246",
   "metadata": {},
   "source": [
    "#### Make Check-All-That-Apply Options into New Columns"
   ]
  },
  {
   "cell_type": "code",
   "execution_count": 20,
   "id": "fa3c96e2",
   "metadata": {
    "ExecuteTime": {
     "end_time": "2023-07-12T12:39:49.708882Z",
     "start_time": "2023-07-12T12:39:49.635520Z"
    }
   },
   "outputs": [],
   "source": [
    "# Count the occurrences of each string in each row\n",
    "for index, row in df_entry_survey[df_entry_survey['Q3'].notna()].iterrows():\n",
    "    counts = row['Q3'].split(',')\n",
    "    for count in counts:\n",
    "        count_name = count.strip().replace(\"'\", \"\").replace('\"', '')\n",
    "        column_name = f'Q3_{count_name}'\n",
    "        df_entry_survey.loc[index, column_name] = counts.count(count_name)"
   ]
  },
  {
   "cell_type": "code",
   "execution_count": 21,
   "id": "3782c37f",
   "metadata": {
    "ExecuteTime": {
     "end_time": "2023-07-12T12:39:50.549088Z",
     "start_time": "2023-07-12T12:39:50.395749Z"
    }
   },
   "outputs": [],
   "source": [
    "# Count the occurrences of each string in each row\n",
    "for index, row in df_entry_survey[df_entry_survey['Q6'].notna()].iterrows():\n",
    "    counts = row['Q6'].split(',')\n",
    "    for count in counts:\n",
    "        count_name = count.strip().replace(\"family’s \", \"family \").replace('\"', '').replace(\"in a\", 'in')\n",
    "        column_name = f'Q6_{count_name}'\n",
    "        df_entry_survey.loc[index, column_name] = counts.count(count_name)\n",
    "\n",
    "# drop column\n",
    "df_entry_survey.drop('Q6_please specify', inplace=True, axis=1)"
   ]
  },
  {
   "cell_type": "code",
   "execution_count": 22,
   "id": "998c0d1b",
   "metadata": {
    "ExecuteTime": {
     "end_time": "2023-07-12T12:39:51.346728Z",
     "start_time": "2023-07-12T12:39:51.203430Z"
    }
   },
   "outputs": [],
   "source": [
    "# Count the occurrences of each string in each row\n",
    "for index, row in df_entry_survey[df_entry_survey['Q9'].notna()].iterrows():\n",
    "    counts = row['Q9'].split(',')\n",
    "    for count in counts:\n",
    "        count_name = count.strip().replace('\"', '')\n",
    "        column_name = f'Q9_{count_name}'\n",
    "        df_entry_survey.loc[index, column_name] = counts.count(count_name)\n",
    "\n",
    "# drop column\n",
    "df_entry_survey.drop('Q9_please specify', inplace=True, axis=1)"
   ]
  },
  {
   "cell_type": "markdown",
   "id": "11ad453d",
   "metadata": {},
   "source": [
    "#### Make Birthdate Values Consistent"
   ]
  },
  {
   "cell_type": "code",
   "execution_count": 23,
   "id": "545f1c96",
   "metadata": {
    "ExecuteTime": {
     "end_time": "2023-07-12T12:39:53.768686Z",
     "start_time": "2023-07-12T12:39:53.763026Z"
    }
   },
   "outputs": [],
   "source": [
    "# replace identified strings with None\n",
    "df_entry_survey['BIRTHDATE'] = df_entry_survey['BIRTHDATE'].str.replace('\"', '').str.replace(\"[\", '').str.replace(\"]\",'').str.replace(\"/\",'-')"
   ]
  },
  {
   "cell_type": "code",
   "execution_count": 24,
   "id": "2db8fc72",
   "metadata": {
    "ExecuteTime": {
     "end_time": "2023-07-12T12:39:54.409971Z",
     "start_time": "2023-07-12T12:39:54.402985Z"
    }
   },
   "outputs": [],
   "source": [
    "# get only the first 4 digits that are consecutive (1234 or 2359)\n",
    "df_entry_survey['BIRTHDATE'] = df_entry_survey['BIRTHDATE'].str.extract(r'((?<!\\d)\\d{4}|\\d{4}(?!\\d))')\n",
    "df_entry_survey['BIRTHDATE'] = df_entry_survey['BIRTHDATE'].str.replace('2022', '2002').str.replace('0001', '2001').str.replace('2023', '2003').str.replace('2021', '2001')"
   ]
  },
  {
   "cell_type": "code",
   "execution_count": 25,
   "id": "d2ce2542",
   "metadata": {
    "ExecuteTime": {
     "end_time": "2023-07-12T12:39:55.033414Z",
     "start_time": "2023-07-12T12:39:55.026897Z"
    }
   },
   "outputs": [
    {
     "data": {
      "text/plain": [
       "array(['2002', '2001', '1999', '2000', '1996', '2003', '1998', '2004',\n",
       "       '1994', '1982', '1997'], dtype=object)"
      ]
     },
     "execution_count": 25,
     "metadata": {},
     "output_type": "execute_result"
    }
   ],
   "source": [
    "# check if Birthdates are made consistent\n",
    "df_entry_survey['BIRTHDATE'].unique()"
   ]
  },
  {
   "cell_type": "markdown",
   "id": "a38e38c4",
   "metadata": {},
   "source": [
    "#### Create New Column for Age"
   ]
  },
  {
   "cell_type": "code",
   "execution_count": 26,
   "id": "1b4f3a40",
   "metadata": {
    "ExecuteTime": {
     "end_time": "2023-07-12T12:39:56.023128Z",
     "start_time": "2023-07-12T12:39:56.019743Z"
    }
   },
   "outputs": [],
   "source": [
    "# create Age column\n",
    "df_entry_survey['AGE'] = [2023-int(x) for x in df_entry_survey['BIRTHDATE']]"
   ]
  },
  {
   "cell_type": "code",
   "execution_count": 27,
   "id": "efd8a22d",
   "metadata": {
    "ExecuteTime": {
     "end_time": "2023-07-12T12:39:57.022149Z",
     "start_time": "2023-07-12T12:39:56.995336Z"
    }
   },
   "outputs": [
    {
     "data": {
      "text/html": [
       "<div>\n",
       "<style scoped>\n",
       "    .dataframe tbody tr th:only-of-type {\n",
       "        vertical-align: middle;\n",
       "    }\n",
       "\n",
       "    .dataframe tbody tr th {\n",
       "        vertical-align: top;\n",
       "    }\n",
       "\n",
       "    .dataframe thead th {\n",
       "        text-align: right;\n",
       "    }\n",
       "</style>\n",
       "<table border=\"1\" class=\"dataframe\">\n",
       "  <thead>\n",
       "    <tr style=\"text-align: right;\">\n",
       "      <th></th>\n",
       "      <th>SURVEY_NAME</th>\n",
       "      <th>BIRTHDATE</th>\n",
       "      <th>SEX</th>\n",
       "      <th>GENDER</th>\n",
       "      <th>Q1</th>\n",
       "      <th>Q1_YES</th>\n",
       "      <th>Q1_OTHER</th>\n",
       "      <th>ADDRESS</th>\n",
       "      <th>FAMILY_INCOME</th>\n",
       "      <th>Q2</th>\n",
       "      <th>...</th>\n",
       "      <th>Q3_Tertiary Education Subsidy (TES)</th>\n",
       "      <th>Q6_My family socioeconomic status</th>\n",
       "      <th>Q6_My enrollment in state/government school</th>\n",
       "      <th>Q6_The type of course I am enrolled in</th>\n",
       "      <th>Q6_Others</th>\n",
       "      <th>Q9_Uniform</th>\n",
       "      <th>Q9_Books and other school materials</th>\n",
       "      <th>Q9_Subsidy for school activities</th>\n",
       "      <th>Q9_Others</th>\n",
       "      <th>AGE</th>\n",
       "    </tr>\n",
       "  </thead>\n",
       "  <tbody>\n",
       "    <tr>\n",
       "      <th>0</th>\n",
       "      <td>Student Survey Entry</td>\n",
       "      <td>2002</td>\n",
       "      <td>Male</td>\n",
       "      <td>NaN</td>\n",
       "      <td>Yes</td>\n",
       "      <td>NaN</td>\n",
       "      <td>NaN</td>\n",
       "      <td>Camarines Norte,Basud,Lidong</td>\n",
       "      <td>Less than 50,000</td>\n",
       "      <td>Yes</td>\n",
       "      <td>...</td>\n",
       "      <td>1.0</td>\n",
       "      <td>0.0</td>\n",
       "      <td>NaN</td>\n",
       "      <td>NaN</td>\n",
       "      <td>NaN</td>\n",
       "      <td>1.0</td>\n",
       "      <td>NaN</td>\n",
       "      <td>NaN</td>\n",
       "      <td>NaN</td>\n",
       "      <td>21</td>\n",
       "    </tr>\n",
       "    <tr>\n",
       "      <th>1</th>\n",
       "      <td>Student Survey Entry</td>\n",
       "      <td>2002</td>\n",
       "      <td>Female</td>\n",
       "      <td>NaN</td>\n",
       "      <td>No</td>\n",
       "      <td>NaN</td>\n",
       "      <td>NaN</td>\n",
       "      <td>Albay,Camalig,Ilawod</td>\n",
       "      <td>Less than 50,000</td>\n",
       "      <td>No</td>\n",
       "      <td>...</td>\n",
       "      <td>NaN</td>\n",
       "      <td>0.0</td>\n",
       "      <td>0.0</td>\n",
       "      <td>1.0</td>\n",
       "      <td>NaN</td>\n",
       "      <td>NaN</td>\n",
       "      <td>1.0</td>\n",
       "      <td>NaN</td>\n",
       "      <td>NaN</td>\n",
       "      <td>21</td>\n",
       "    </tr>\n",
       "    <tr>\n",
       "      <th>2</th>\n",
       "      <td>Student Survey Entry</td>\n",
       "      <td>2001</td>\n",
       "      <td>Female</td>\n",
       "      <td>NaN</td>\n",
       "      <td>No</td>\n",
       "      <td>NaN</td>\n",
       "      <td>NaN</td>\n",
       "      <td>Albay,Daraga (Locsin),Sagpon</td>\n",
       "      <td>Within 50,000 - 100,000</td>\n",
       "      <td>No</td>\n",
       "      <td>...</td>\n",
       "      <td>NaN</td>\n",
       "      <td>0.0</td>\n",
       "      <td>0.0</td>\n",
       "      <td>1.0</td>\n",
       "      <td>NaN</td>\n",
       "      <td>NaN</td>\n",
       "      <td>1.0</td>\n",
       "      <td>NaN</td>\n",
       "      <td>NaN</td>\n",
       "      <td>22</td>\n",
       "    </tr>\n",
       "    <tr>\n",
       "      <th>3</th>\n",
       "      <td>Student Survey Entry</td>\n",
       "      <td>2002</td>\n",
       "      <td>Male</td>\n",
       "      <td>NaN</td>\n",
       "      <td>No</td>\n",
       "      <td>NaN</td>\n",
       "      <td>NaN</td>\n",
       "      <td>Albay,Bacacay,Barangay 13 (Pob.)</td>\n",
       "      <td>Less than 50,000</td>\n",
       "      <td>No</td>\n",
       "      <td>...</td>\n",
       "      <td>NaN</td>\n",
       "      <td>0.0</td>\n",
       "      <td>0.0</td>\n",
       "      <td>1.0</td>\n",
       "      <td>NaN</td>\n",
       "      <td>NaN</td>\n",
       "      <td>NaN</td>\n",
       "      <td>1.0</td>\n",
       "      <td>NaN</td>\n",
       "      <td>21</td>\n",
       "    </tr>\n",
       "    <tr>\n",
       "      <th>4</th>\n",
       "      <td>Student Survey Entry</td>\n",
       "      <td>2001</td>\n",
       "      <td>Female</td>\n",
       "      <td>NaN</td>\n",
       "      <td>No</td>\n",
       "      <td>NaN</td>\n",
       "      <td>NaN</td>\n",
       "      <td>Camarines Sur,Bato,Santiago (Pob.)</td>\n",
       "      <td>Within 50,000 - 100,000</td>\n",
       "      <td>No</td>\n",
       "      <td>...</td>\n",
       "      <td>NaN</td>\n",
       "      <td>0.0</td>\n",
       "      <td>NaN</td>\n",
       "      <td>NaN</td>\n",
       "      <td>NaN</td>\n",
       "      <td>1.0</td>\n",
       "      <td>NaN</td>\n",
       "      <td>NaN</td>\n",
       "      <td>NaN</td>\n",
       "      <td>22</td>\n",
       "    </tr>\n",
       "    <tr>\n",
       "      <th>...</th>\n",
       "      <td>...</td>\n",
       "      <td>...</td>\n",
       "      <td>...</td>\n",
       "      <td>...</td>\n",
       "      <td>...</td>\n",
       "      <td>...</td>\n",
       "      <td>...</td>\n",
       "      <td>...</td>\n",
       "      <td>...</td>\n",
       "      <td>...</td>\n",
       "      <td>...</td>\n",
       "      <td>...</td>\n",
       "      <td>...</td>\n",
       "      <td>...</td>\n",
       "      <td>...</td>\n",
       "      <td>...</td>\n",
       "      <td>...</td>\n",
       "      <td>...</td>\n",
       "      <td>...</td>\n",
       "      <td>...</td>\n",
       "      <td>...</td>\n",
       "    </tr>\n",
       "    <tr>\n",
       "      <th>745</th>\n",
       "      <td>Student Survey Entry</td>\n",
       "      <td>2001</td>\n",
       "      <td>Male</td>\n",
       "      <td>Man</td>\n",
       "      <td>No</td>\n",
       "      <td>NaN</td>\n",
       "      <td>NaN</td>\n",
       "      <td>Albay,Pio Duran</td>\n",
       "      <td>25,000 – 49,999</td>\n",
       "      <td>Yes</td>\n",
       "      <td>...</td>\n",
       "      <td>NaN</td>\n",
       "      <td>NaN</td>\n",
       "      <td>1.0</td>\n",
       "      <td>NaN</td>\n",
       "      <td>NaN</td>\n",
       "      <td>NaN</td>\n",
       "      <td>NaN</td>\n",
       "      <td>1.0</td>\n",
       "      <td>NaN</td>\n",
       "      <td>22</td>\n",
       "    </tr>\n",
       "    <tr>\n",
       "      <th>746</th>\n",
       "      <td>Student Survey Entry</td>\n",
       "      <td>2000</td>\n",
       "      <td>Female</td>\n",
       "      <td>Woman</td>\n",
       "      <td>No</td>\n",
       "      <td>NaN</td>\n",
       "      <td>NaN</td>\n",
       "      <td>Sorsogon,Castilla</td>\n",
       "      <td>Less than 25,000</td>\n",
       "      <td>No</td>\n",
       "      <td>...</td>\n",
       "      <td>NaN</td>\n",
       "      <td>1.0</td>\n",
       "      <td>NaN</td>\n",
       "      <td>NaN</td>\n",
       "      <td>NaN</td>\n",
       "      <td>NaN</td>\n",
       "      <td>NaN</td>\n",
       "      <td>NaN</td>\n",
       "      <td>1.0</td>\n",
       "      <td>23</td>\n",
       "    </tr>\n",
       "    <tr>\n",
       "      <th>747</th>\n",
       "      <td>Student Survey Entry</td>\n",
       "      <td>2000</td>\n",
       "      <td>Female</td>\n",
       "      <td>Woman</td>\n",
       "      <td>No</td>\n",
       "      <td>NaN</td>\n",
       "      <td>NaN</td>\n",
       "      <td>Albay,Legazpi City (Capital)</td>\n",
       "      <td>25,000 – 49,999</td>\n",
       "      <td>No</td>\n",
       "      <td>...</td>\n",
       "      <td>1.0</td>\n",
       "      <td>1.0</td>\n",
       "      <td>1.0</td>\n",
       "      <td>1.0</td>\n",
       "      <td>NaN</td>\n",
       "      <td>1.0</td>\n",
       "      <td>1.0</td>\n",
       "      <td>1.0</td>\n",
       "      <td>NaN</td>\n",
       "      <td>23</td>\n",
       "    </tr>\n",
       "    <tr>\n",
       "      <th>748</th>\n",
       "      <td>Student Survey Entry</td>\n",
       "      <td>2001</td>\n",
       "      <td>Male</td>\n",
       "      <td>Man</td>\n",
       "      <td>No</td>\n",
       "      <td>NaN</td>\n",
       "      <td>NaN</td>\n",
       "      <td>Albay,Pio Duran</td>\n",
       "      <td>25,000 – 49,999</td>\n",
       "      <td>Yes</td>\n",
       "      <td>...</td>\n",
       "      <td>NaN</td>\n",
       "      <td>NaN</td>\n",
       "      <td>1.0</td>\n",
       "      <td>NaN</td>\n",
       "      <td>NaN</td>\n",
       "      <td>NaN</td>\n",
       "      <td>1.0</td>\n",
       "      <td>1.0</td>\n",
       "      <td>NaN</td>\n",
       "      <td>22</td>\n",
       "    </tr>\n",
       "    <tr>\n",
       "      <th>749</th>\n",
       "      <td>Student Survey Entry</td>\n",
       "      <td>2001</td>\n",
       "      <td>Female</td>\n",
       "      <td>Prefer not to say</td>\n",
       "      <td>No</td>\n",
       "      <td>NaN</td>\n",
       "      <td>NaN</td>\n",
       "      <td>Sorsogon,Pilar</td>\n",
       "      <td>Less than 25,000</td>\n",
       "      <td>Yes</td>\n",
       "      <td>...</td>\n",
       "      <td>1.0</td>\n",
       "      <td>1.0</td>\n",
       "      <td>NaN</td>\n",
       "      <td>NaN</td>\n",
       "      <td>NaN</td>\n",
       "      <td>1.0</td>\n",
       "      <td>NaN</td>\n",
       "      <td>NaN</td>\n",
       "      <td>NaN</td>\n",
       "      <td>22</td>\n",
       "    </tr>\n",
       "  </tbody>\n",
       "</table>\n",
       "<p>750 rows × 36 columns</p>\n",
       "</div>"
      ],
      "text/plain": [
       "              SURVEY_NAME BIRTHDATE     SEX             GENDER   Q1 Q1_YES  \\\n",
       "0    Student Survey Entry      2002    Male                NaN  Yes    NaN   \n",
       "1    Student Survey Entry      2002  Female                NaN   No    NaN   \n",
       "2    Student Survey Entry      2001  Female                NaN   No    NaN   \n",
       "3    Student Survey Entry      2002    Male                NaN   No    NaN   \n",
       "4    Student Survey Entry      2001  Female                NaN   No    NaN   \n",
       "..                    ...       ...     ...                ...  ...    ...   \n",
       "745  Student Survey Entry      2001    Male                Man   No    NaN   \n",
       "746  Student Survey Entry      2000  Female              Woman   No    NaN   \n",
       "747  Student Survey Entry      2000  Female              Woman   No    NaN   \n",
       "748  Student Survey Entry      2001    Male                Man   No    NaN   \n",
       "749  Student Survey Entry      2001  Female  Prefer not to say   No    NaN   \n",
       "\n",
       "    Q1_OTHER                             ADDRESS            FAMILY_INCOME  \\\n",
       "0        NaN        Camarines Norte,Basud,Lidong         Less than 50,000   \n",
       "1        NaN                Albay,Camalig,Ilawod         Less than 50,000   \n",
       "2        NaN        Albay,Daraga (Locsin),Sagpon  Within 50,000 - 100,000   \n",
       "3        NaN    Albay,Bacacay,Barangay 13 (Pob.)         Less than 50,000   \n",
       "4        NaN  Camarines Sur,Bato,Santiago (Pob.)  Within 50,000 - 100,000   \n",
       "..       ...                                 ...                      ...   \n",
       "745      NaN                     Albay,Pio Duran          25,000 – 49,999   \n",
       "746      NaN                   Sorsogon,Castilla         Less than 25,000   \n",
       "747      NaN        Albay,Legazpi City (Capital)          25,000 – 49,999   \n",
       "748      NaN                     Albay,Pio Duran          25,000 – 49,999   \n",
       "749      NaN                      Sorsogon,Pilar         Less than 25,000   \n",
       "\n",
       "      Q2  ... Q3_Tertiary Education Subsidy (TES)  \\\n",
       "0    Yes  ...                                 1.0   \n",
       "1     No  ...                                 NaN   \n",
       "2     No  ...                                 NaN   \n",
       "3     No  ...                                 NaN   \n",
       "4     No  ...                                 NaN   \n",
       "..   ...  ...                                 ...   \n",
       "745  Yes  ...                                 NaN   \n",
       "746   No  ...                                 NaN   \n",
       "747   No  ...                                 1.0   \n",
       "748  Yes  ...                                 NaN   \n",
       "749  Yes  ...                                 1.0   \n",
       "\n",
       "    Q6_My family socioeconomic status  \\\n",
       "0                                 0.0   \n",
       "1                                 0.0   \n",
       "2                                 0.0   \n",
       "3                                 0.0   \n",
       "4                                 0.0   \n",
       "..                                ...   \n",
       "745                               NaN   \n",
       "746                               1.0   \n",
       "747                               1.0   \n",
       "748                               NaN   \n",
       "749                               1.0   \n",
       "\n",
       "    Q6_My enrollment in state/government school  \\\n",
       "0                                           NaN   \n",
       "1                                           0.0   \n",
       "2                                           0.0   \n",
       "3                                           0.0   \n",
       "4                                           NaN   \n",
       "..                                          ...   \n",
       "745                                         1.0   \n",
       "746                                         NaN   \n",
       "747                                         1.0   \n",
       "748                                         1.0   \n",
       "749                                         NaN   \n",
       "\n",
       "    Q6_The type of course I am enrolled in Q6_Others Q9_Uniform  \\\n",
       "0                                      NaN       NaN        1.0   \n",
       "1                                      1.0       NaN        NaN   \n",
       "2                                      1.0       NaN        NaN   \n",
       "3                                      1.0       NaN        NaN   \n",
       "4                                      NaN       NaN        1.0   \n",
       "..                                     ...       ...        ...   \n",
       "745                                    NaN       NaN        NaN   \n",
       "746                                    NaN       NaN        NaN   \n",
       "747                                    1.0       NaN        1.0   \n",
       "748                                    NaN       NaN        NaN   \n",
       "749                                    NaN       NaN        1.0   \n",
       "\n",
       "    Q9_Books and other school materials Q9_Subsidy for school activities  \\\n",
       "0                                   NaN                              NaN   \n",
       "1                                   1.0                              NaN   \n",
       "2                                   1.0                              NaN   \n",
       "3                                   NaN                              1.0   \n",
       "4                                   NaN                              NaN   \n",
       "..                                  ...                              ...   \n",
       "745                                 NaN                              1.0   \n",
       "746                                 NaN                              NaN   \n",
       "747                                 1.0                              1.0   \n",
       "748                                 1.0                              1.0   \n",
       "749                                 NaN                              NaN   \n",
       "\n",
       "    Q9_Others AGE  \n",
       "0         NaN  21  \n",
       "1         NaN  21  \n",
       "2         NaN  22  \n",
       "3         NaN  21  \n",
       "4         NaN  22  \n",
       "..        ...  ..  \n",
       "745       NaN  22  \n",
       "746       1.0  23  \n",
       "747       NaN  23  \n",
       "748       NaN  22  \n",
       "749       NaN  22  \n",
       "\n",
       "[750 rows x 36 columns]"
      ]
     },
     "execution_count": 27,
     "metadata": {},
     "output_type": "execute_result"
    }
   ],
   "source": [
    "# check dataframe\n",
    "df_entry_survey"
   ]
  },
  {
   "cell_type": "markdown",
   "id": "c7effccc",
   "metadata": {},
   "source": [
    "#### Write Entry Survey Data as csv File"
   ]
  },
  {
   "cell_type": "code",
   "execution_count": 28,
   "id": "cdef0d3b",
   "metadata": {
    "ExecuteTime": {
     "end_time": "2023-07-12T12:39:59.940126Z",
     "start_time": "2023-07-12T12:39:59.923800Z"
    }
   },
   "outputs": [],
   "source": [
    "# write cleaned data into a csv file\n",
    "df_entry_survey.to_csv('entry_survey_raw_data.csv', index=False)"
   ]
  },
  {
   "cell_type": "markdown",
   "id": "b1334d46",
   "metadata": {},
   "source": [
    "### Clean Exit Survey Data"
   ]
  },
  {
   "cell_type": "code",
   "execution_count": 29,
   "id": "090f009d",
   "metadata": {
    "ExecuteTime": {
     "end_time": "2023-07-12T12:40:01.392589Z",
     "start_time": "2023-07-12T12:40:01.243323Z"
    }
   },
   "outputs": [],
   "source": [
    "# read data\n",
    "df_exit_survey = pd.read_excel('STUDENT_SURVEY_EXIT_EXPORTED_AT2023_06_19_11_03_33_am_edited.xlsx',\n",
    "                                sheet_name='Responses')"
   ]
  },
  {
   "cell_type": "code",
   "execution_count": 30,
   "id": "bd6509b2",
   "metadata": {
    "ExecuteTime": {
     "end_time": "2023-07-12T12:40:01.975040Z",
     "start_time": "2023-07-12T12:40:01.971038Z"
    }
   },
   "outputs": [],
   "source": [
    "# identify Check-All-That-Apply questions\n",
    "cols_CATA_exit = ['Q5', 'Q14']"
   ]
  },
  {
   "cell_type": "code",
   "execution_count": 31,
   "id": "c2d4e6cc",
   "metadata": {
    "ExecuteTime": {
     "end_time": "2023-07-12T12:40:02.556256Z",
     "start_time": "2023-07-12T12:40:02.547504Z"
    }
   },
   "outputs": [
    {
     "name": "stdout",
     "output_type": "stream",
     "text": [
      "<class 'pandas.core.frame.DataFrame'>\n",
      "RangeIndex: 345 entries, 0 to 344\n",
      "Data columns (total 31 columns):\n",
      " #   Column         Non-Null Count  Dtype  \n",
      "---  ------         --------------  -----  \n",
      " 0   SURVEY_NAME    345 non-null    object \n",
      " 1   BIRTHDATE      342 non-null    object \n",
      " 2   SEX            345 non-null    object \n",
      " 3   GENDER         340 non-null    object \n",
      " 4   Q1             345 non-null    object \n",
      " 5   Q1_YES         0 non-null      float64\n",
      " 6   Q1_OTHER       4 non-null      object \n",
      " 7   ADDRESS        344 non-null    object \n",
      " 8   FAMILY_INCOME  345 non-null    object \n",
      " 9   Q2             345 non-null    object \n",
      " 10  SCHOOL         344 non-null    object \n",
      " 11  SCHOOL_TYPE    345 non-null    object \n",
      " 12  COURSE         340 non-null    object \n",
      " 13  STUDY_YEARS    340 non-null    object \n",
      " 14  Q3             341 non-null    object \n",
      " 15  Q3_OTHER       0 non-null      float64\n",
      " 16  Q4             344 non-null    object \n",
      " 17  Q4_YES         120 non-null    object \n",
      " 18  Q5             344 non-null    object \n",
      " 19  Q5_OTHER       20 non-null     object \n",
      " 20  Q6             345 non-null    int64  \n",
      " 21  Q7             345 non-null    int64  \n",
      " 22  Q8             329 non-null    object \n",
      " 23  Q9             340 non-null    object \n",
      " 24  Q9_YES         141 non-null    object \n",
      " 25  Q10            326 non-null    object \n",
      " 26  Q11            208 non-null    object \n",
      " 27  Q12            193 non-null    object \n",
      " 28  Q13            316 non-null    object \n",
      " 29  Q14            48 non-null     object \n",
      " 30  Q14_OTHER      4 non-null      object \n",
      "dtypes: float64(2), int64(2), object(27)\n",
      "memory usage: 83.7+ KB\n"
     ]
    }
   ],
   "source": [
    "# check metadata of dataframe\n",
    "df_exit_survey.info()"
   ]
  },
  {
   "cell_type": "markdown",
   "id": "8cc6fac0",
   "metadata": {},
   "source": [
    "#### Make Check-All-That-Apply Options into New Columns"
   ]
  },
  {
   "cell_type": "code",
   "execution_count": 32,
   "id": "78ace2ac",
   "metadata": {
    "ExecuteTime": {
     "end_time": "2023-07-12T12:40:04.526202Z",
     "start_time": "2023-07-12T12:40:04.436019Z"
    }
   },
   "outputs": [],
   "source": [
    "# Count the occurrences of each string in each row\n",
    "for index, row in df_exit_survey[df_exit_survey['Q5'].notna()].iterrows():\n",
    "    counts = row['Q5'].split(',')\n",
    "    for count in counts:\n",
    "        count_name = count.strip().replace(\"'\", \"\").replace('\"', '')\n",
    "        column_name = f'Q5_{count_name}'\n",
    "        df_exit_survey.loc[index, column_name] = counts.count(count_name)\n",
    "\n",
    "# create function for automatically counting local employment (within)\n",
    "def label_within(row):\n",
    "    if row['Q5_Local employment']==1.0 and row['Q5_within the region only']==0:\n",
    "        return 1.0\n",
    "    elif row['Q5_Local employment']==2.0:\n",
    "        return 1.0\n",
    "    else:\n",
    "        return None\n",
    "\n",
    "# create function for automatically counting local employment (outside)\n",
    "def label_outside(row):\n",
    "    if row['Q5_Local employment']==1.0 and row['Q5_outside of the region']==0:\n",
    "        return 1.0\n",
    "    elif row['Q5_Local employment']==2.0:\n",
    "        return 1.0\n",
    "    else:\n",
    "        return None\n",
    "\n",
    "# apply functions to dataframe\n",
    "df_exit_survey['Q5_local employment (within)'] = df_exit_survey.apply(label_within, axis=1)\n",
    "df_exit_survey['Q5_local employment (outside)'] = df_exit_survey.apply(label_outside, axis=1)\n",
    "df_exit_survey.drop(['Q5_Local employment', 'Q5_within the region only',\n",
    "                     'Q5_outside of the region', 'Q5_please specify'], inplace=True, axis=1)"
   ]
  },
  {
   "cell_type": "code",
   "execution_count": 33,
   "id": "c143c6c1",
   "metadata": {
    "ExecuteTime": {
     "end_time": "2023-07-12T12:40:05.615690Z",
     "start_time": "2023-07-12T12:40:05.602939Z"
    }
   },
   "outputs": [],
   "source": [
    "# Count the occurrences of each string in each row\n",
    "for index, row in df_exit_survey[df_exit_survey['Q14'].notna()].iterrows():\n",
    "    counts = row['Q14'].split(',')\n",
    "    for count in counts:\n",
    "        count_name = count.strip()\n",
    "        column_name = f'Q14_{count_name}'\n",
    "        df_exit_survey.loc[index, column_name] = counts.count(count_name)"
   ]
  },
  {
   "cell_type": "markdown",
   "id": "7c0162ef",
   "metadata": {},
   "source": [
    "#### Make Birthdate Values Consistent"
   ]
  },
  {
   "cell_type": "code",
   "execution_count": 34,
   "id": "4dac905e",
   "metadata": {
    "ExecuteTime": {
     "end_time": "2023-07-12T12:40:07.529326Z",
     "start_time": "2023-07-12T12:40:07.523006Z"
    }
   },
   "outputs": [],
   "source": [
    "# replace identified strings with None\n",
    "df_exit_survey['BIRTHDATE'] = df_exit_survey['BIRTHDATE'].str.replace('\"', '').str.replace(\"[\", '').str.replace(\"]\",'').str.replace(\"/\",'-')"
   ]
  },
  {
   "cell_type": "code",
   "execution_count": 35,
   "id": "3034dfa7",
   "metadata": {
    "ExecuteTime": {
     "end_time": "2023-07-12T12:40:08.464717Z",
     "start_time": "2023-07-12T12:40:08.459014Z"
    }
   },
   "outputs": [],
   "source": [
    "# get only the first 4 digits that are consecutive (1234 or 2359)\n",
    "df_exit_survey['BIRTHDATE'] = df_exit_survey['BIRTHDATE'].str.extract(r'((?<!\\d)\\d{4}|\\d{4}(?!\\d))')\n",
    "df_exit_survey['BIRTHDATE'] = df_exit_survey['BIRTHDATE'].str.replace('2022', '2002').str.replace('0001', '2001').str.replace('2023', '2003').str.replace('2021', '2001')"
   ]
  },
  {
   "cell_type": "code",
   "execution_count": 36,
   "id": "e45ea843",
   "metadata": {
    "ExecuteTime": {
     "end_time": "2023-07-12T12:40:09.087151Z",
     "start_time": "2023-07-12T12:40:09.083648Z"
    }
   },
   "outputs": [
    {
     "data": {
      "text/plain": [
       "array(['2000', '1999', '2002', '1997', '2001', '1998', '1993', nan,\n",
       "       '1996'], dtype=object)"
      ]
     },
     "execution_count": 36,
     "metadata": {},
     "output_type": "execute_result"
    }
   ],
   "source": [
    "# check if Birthdates are made consistent\n",
    "df_exit_survey['BIRTHDATE'].unique()"
   ]
  },
  {
   "cell_type": "markdown",
   "id": "df25fc7e",
   "metadata": {},
   "source": [
    "#### Create New Column for Age"
   ]
  },
  {
   "cell_type": "code",
   "execution_count": 37,
   "id": "01ab5622",
   "metadata": {
    "ExecuteTime": {
     "end_time": "2023-07-12T12:40:10.303064Z",
     "start_time": "2023-07-12T12:40:10.299545Z"
    },
    "scrolled": true
   },
   "outputs": [],
   "source": [
    "# create Age column\n",
    "df_exit_survey['AGE'] = [2023-float(x) for x in df_exit_survey['BIRTHDATE']]"
   ]
  },
  {
   "cell_type": "code",
   "execution_count": 38,
   "id": "be8012f6",
   "metadata": {
    "ExecuteTime": {
     "end_time": "2023-07-12T12:40:11.053160Z",
     "start_time": "2023-07-12T12:40:11.027340Z"
    }
   },
   "outputs": [
    {
     "data": {
      "text/html": [
       "<div>\n",
       "<style scoped>\n",
       "    .dataframe tbody tr th:only-of-type {\n",
       "        vertical-align: middle;\n",
       "    }\n",
       "\n",
       "    .dataframe tbody tr th {\n",
       "        vertical-align: top;\n",
       "    }\n",
       "\n",
       "    .dataframe thead th {\n",
       "        text-align: right;\n",
       "    }\n",
       "</style>\n",
       "<table border=\"1\" class=\"dataframe\">\n",
       "  <thead>\n",
       "    <tr style=\"text-align: right;\">\n",
       "      <th></th>\n",
       "      <th>SURVEY_NAME</th>\n",
       "      <th>BIRTHDATE</th>\n",
       "      <th>SEX</th>\n",
       "      <th>GENDER</th>\n",
       "      <th>Q1</th>\n",
       "      <th>Q1_YES</th>\n",
       "      <th>Q1_OTHER</th>\n",
       "      <th>ADDRESS</th>\n",
       "      <th>FAMILY_INCOME</th>\n",
       "      <th>Q2</th>\n",
       "      <th>...</th>\n",
       "      <th>Q14_OTHER</th>\n",
       "      <th>Q5_International employment</th>\n",
       "      <th>Q5_Establish own business</th>\n",
       "      <th>Q5_Others</th>\n",
       "      <th>Q5_Obtain scholarship for graduate school</th>\n",
       "      <th>Q5_local employment (within)</th>\n",
       "      <th>Q5_local employment (outside)</th>\n",
       "      <th>Q14_Free Higher Education (FHE)</th>\n",
       "      <th>Q14_Tertiary Education Subsidy (TES)</th>\n",
       "      <th>AGE</th>\n",
       "    </tr>\n",
       "  </thead>\n",
       "  <tbody>\n",
       "    <tr>\n",
       "      <th>0</th>\n",
       "      <td>Student Survey Exit</td>\n",
       "      <td>2000</td>\n",
       "      <td>Female</td>\n",
       "      <td>NaN</td>\n",
       "      <td>No</td>\n",
       "      <td>NaN</td>\n",
       "      <td>NaN</td>\n",
       "      <td>Albay,Legazpi City (Capital),Bgy. 16 - Kawit-E...</td>\n",
       "      <td>Less than 50,000</td>\n",
       "      <td>Yes</td>\n",
       "      <td>...</td>\n",
       "      <td>NaN</td>\n",
       "      <td>NaN</td>\n",
       "      <td>NaN</td>\n",
       "      <td>NaN</td>\n",
       "      <td>NaN</td>\n",
       "      <td>1.0</td>\n",
       "      <td>NaN</td>\n",
       "      <td>NaN</td>\n",
       "      <td>NaN</td>\n",
       "      <td>23.0</td>\n",
       "    </tr>\n",
       "    <tr>\n",
       "      <th>1</th>\n",
       "      <td>Student Survey Exit</td>\n",
       "      <td>1999</td>\n",
       "      <td>Female</td>\n",
       "      <td>NaN</td>\n",
       "      <td>No</td>\n",
       "      <td>NaN</td>\n",
       "      <td>NaN</td>\n",
       "      <td>Albay,Legazpi City (Capital),</td>\n",
       "      <td>Less than 50,000</td>\n",
       "      <td>No</td>\n",
       "      <td>...</td>\n",
       "      <td>NaN</td>\n",
       "      <td>NaN</td>\n",
       "      <td>NaN</td>\n",
       "      <td>NaN</td>\n",
       "      <td>NaN</td>\n",
       "      <td>1.0</td>\n",
       "      <td>NaN</td>\n",
       "      <td>NaN</td>\n",
       "      <td>NaN</td>\n",
       "      <td>24.0</td>\n",
       "    </tr>\n",
       "    <tr>\n",
       "      <th>2</th>\n",
       "      <td>Student Survey Exit</td>\n",
       "      <td>2002</td>\n",
       "      <td>Female</td>\n",
       "      <td>NaN</td>\n",
       "      <td>No</td>\n",
       "      <td>NaN</td>\n",
       "      <td>NaN</td>\n",
       "      <td>Albay,City Of Tabaco,Bangkilingan</td>\n",
       "      <td>Within 50,000 - 100,000</td>\n",
       "      <td>No</td>\n",
       "      <td>...</td>\n",
       "      <td>NaN</td>\n",
       "      <td>NaN</td>\n",
       "      <td>NaN</td>\n",
       "      <td>NaN</td>\n",
       "      <td>NaN</td>\n",
       "      <td>NaN</td>\n",
       "      <td>1.0</td>\n",
       "      <td>NaN</td>\n",
       "      <td>NaN</td>\n",
       "      <td>21.0</td>\n",
       "    </tr>\n",
       "    <tr>\n",
       "      <th>3</th>\n",
       "      <td>Student Survey Exit</td>\n",
       "      <td>2000</td>\n",
       "      <td>Female</td>\n",
       "      <td>NaN</td>\n",
       "      <td>No</td>\n",
       "      <td>NaN</td>\n",
       "      <td>NaN</td>\n",
       "      <td>Albay,Legazpi City (Capital),Bgy. 34 - Oro Sit...</td>\n",
       "      <td>Within 50,000 - 100,000</td>\n",
       "      <td>Yes</td>\n",
       "      <td>...</td>\n",
       "      <td>NaN</td>\n",
       "      <td>NaN</td>\n",
       "      <td>NaN</td>\n",
       "      <td>NaN</td>\n",
       "      <td>NaN</td>\n",
       "      <td>NaN</td>\n",
       "      <td>1.0</td>\n",
       "      <td>NaN</td>\n",
       "      <td>NaN</td>\n",
       "      <td>23.0</td>\n",
       "    </tr>\n",
       "    <tr>\n",
       "      <th>4</th>\n",
       "      <td>Student Survey Exit</td>\n",
       "      <td>1997</td>\n",
       "      <td>Male</td>\n",
       "      <td>Man</td>\n",
       "      <td>No</td>\n",
       "      <td>NaN</td>\n",
       "      <td>NaN</td>\n",
       "      <td>La Union,City Of San Fernando (Capital)</td>\n",
       "      <td>Less than 25,000</td>\n",
       "      <td>Yes</td>\n",
       "      <td>...</td>\n",
       "      <td>NaN</td>\n",
       "      <td>1.0</td>\n",
       "      <td>NaN</td>\n",
       "      <td>NaN</td>\n",
       "      <td>NaN</td>\n",
       "      <td>NaN</td>\n",
       "      <td>NaN</td>\n",
       "      <td>NaN</td>\n",
       "      <td>NaN</td>\n",
       "      <td>26.0</td>\n",
       "    </tr>\n",
       "    <tr>\n",
       "      <th>...</th>\n",
       "      <td>...</td>\n",
       "      <td>...</td>\n",
       "      <td>...</td>\n",
       "      <td>...</td>\n",
       "      <td>...</td>\n",
       "      <td>...</td>\n",
       "      <td>...</td>\n",
       "      <td>...</td>\n",
       "      <td>...</td>\n",
       "      <td>...</td>\n",
       "      <td>...</td>\n",
       "      <td>...</td>\n",
       "      <td>...</td>\n",
       "      <td>...</td>\n",
       "      <td>...</td>\n",
       "      <td>...</td>\n",
       "      <td>...</td>\n",
       "      <td>...</td>\n",
       "      <td>...</td>\n",
       "      <td>...</td>\n",
       "      <td>...</td>\n",
       "    </tr>\n",
       "    <tr>\n",
       "      <th>340</th>\n",
       "      <td>Student Survey Exit</td>\n",
       "      <td>2000</td>\n",
       "      <td>Male</td>\n",
       "      <td>Man</td>\n",
       "      <td>No</td>\n",
       "      <td>NaN</td>\n",
       "      <td>NaN</td>\n",
       "      <td>Albay,Legazpi City (Capital)</td>\n",
       "      <td>50,000 – 74,999</td>\n",
       "      <td>No</td>\n",
       "      <td>...</td>\n",
       "      <td>NaN</td>\n",
       "      <td>NaN</td>\n",
       "      <td>NaN</td>\n",
       "      <td>NaN</td>\n",
       "      <td>NaN</td>\n",
       "      <td>1.0</td>\n",
       "      <td>NaN</td>\n",
       "      <td>1.0</td>\n",
       "      <td>NaN</td>\n",
       "      <td>23.0</td>\n",
       "    </tr>\n",
       "    <tr>\n",
       "      <th>341</th>\n",
       "      <td>Student Survey Exit</td>\n",
       "      <td>2000</td>\n",
       "      <td>Male</td>\n",
       "      <td>Man</td>\n",
       "      <td>No</td>\n",
       "      <td>NaN</td>\n",
       "      <td>NaN</td>\n",
       "      <td>Albay,Rapu-rapu</td>\n",
       "      <td>25,000 – 49,999</td>\n",
       "      <td>No</td>\n",
       "      <td>...</td>\n",
       "      <td>NaN</td>\n",
       "      <td>NaN</td>\n",
       "      <td>1.0</td>\n",
       "      <td>NaN</td>\n",
       "      <td>NaN</td>\n",
       "      <td>NaN</td>\n",
       "      <td>NaN</td>\n",
       "      <td>1.0</td>\n",
       "      <td>NaN</td>\n",
       "      <td>23.0</td>\n",
       "    </tr>\n",
       "    <tr>\n",
       "      <th>342</th>\n",
       "      <td>Student Survey Exit</td>\n",
       "      <td>1996</td>\n",
       "      <td>Male</td>\n",
       "      <td>LGBTQIA+</td>\n",
       "      <td>No</td>\n",
       "      <td>NaN</td>\n",
       "      <td>NaN</td>\n",
       "      <td>Sorsogon,Donsol</td>\n",
       "      <td>Less than 25,000</td>\n",
       "      <td>No</td>\n",
       "      <td>...</td>\n",
       "      <td>NaN</td>\n",
       "      <td>1.0</td>\n",
       "      <td>NaN</td>\n",
       "      <td>NaN</td>\n",
       "      <td>NaN</td>\n",
       "      <td>1.0</td>\n",
       "      <td>1.0</td>\n",
       "      <td>NaN</td>\n",
       "      <td>1.0</td>\n",
       "      <td>27.0</td>\n",
       "    </tr>\n",
       "    <tr>\n",
       "      <th>343</th>\n",
       "      <td>Student Survey Exit</td>\n",
       "      <td>2000</td>\n",
       "      <td>Female</td>\n",
       "      <td>Woman</td>\n",
       "      <td>No</td>\n",
       "      <td>NaN</td>\n",
       "      <td>NaN</td>\n",
       "      <td>Sorsogon,Pilar</td>\n",
       "      <td>Less than 25,000</td>\n",
       "      <td>No</td>\n",
       "      <td>...</td>\n",
       "      <td>NaN</td>\n",
       "      <td>NaN</td>\n",
       "      <td>1.0</td>\n",
       "      <td>NaN</td>\n",
       "      <td>NaN</td>\n",
       "      <td>1.0</td>\n",
       "      <td>NaN</td>\n",
       "      <td>1.0</td>\n",
       "      <td>NaN</td>\n",
       "      <td>23.0</td>\n",
       "    </tr>\n",
       "    <tr>\n",
       "      <th>344</th>\n",
       "      <td>Student Survey Exit</td>\n",
       "      <td>NaN</td>\n",
       "      <td>Male</td>\n",
       "      <td>NaN</td>\n",
       "      <td>No</td>\n",
       "      <td>NaN</td>\n",
       "      <td>NaN</td>\n",
       "      <td>Albay,,</td>\n",
       "      <td>Within 50,000 - 100,000</td>\n",
       "      <td>Yes</td>\n",
       "      <td>...</td>\n",
       "      <td>NaN</td>\n",
       "      <td>NaN</td>\n",
       "      <td>NaN</td>\n",
       "      <td>NaN</td>\n",
       "      <td>NaN</td>\n",
       "      <td>1.0</td>\n",
       "      <td>NaN</td>\n",
       "      <td>NaN</td>\n",
       "      <td>NaN</td>\n",
       "      <td>NaN</td>\n",
       "    </tr>\n",
       "  </tbody>\n",
       "</table>\n",
       "<p>345 rows × 40 columns</p>\n",
       "</div>"
      ],
      "text/plain": [
       "             SURVEY_NAME BIRTHDATE     SEX    GENDER  Q1  Q1_YES Q1_OTHER  \\\n",
       "0    Student Survey Exit      2000  Female       NaN  No     NaN      NaN   \n",
       "1    Student Survey Exit      1999  Female       NaN  No     NaN      NaN   \n",
       "2    Student Survey Exit      2002  Female       NaN  No     NaN      NaN   \n",
       "3    Student Survey Exit      2000  Female       NaN  No     NaN      NaN   \n",
       "4    Student Survey Exit      1997    Male       Man  No     NaN      NaN   \n",
       "..                   ...       ...     ...       ...  ..     ...      ...   \n",
       "340  Student Survey Exit      2000    Male       Man  No     NaN      NaN   \n",
       "341  Student Survey Exit      2000    Male       Man  No     NaN      NaN   \n",
       "342  Student Survey Exit      1996    Male  LGBTQIA+  No     NaN      NaN   \n",
       "343  Student Survey Exit      2000  Female     Woman  No     NaN      NaN   \n",
       "344  Student Survey Exit       NaN    Male       NaN  No     NaN      NaN   \n",
       "\n",
       "                                               ADDRESS  \\\n",
       "0    Albay,Legazpi City (Capital),Bgy. 16 - Kawit-E...   \n",
       "1                        Albay,Legazpi City (Capital),   \n",
       "2                    Albay,City Of Tabaco,Bangkilingan   \n",
       "3    Albay,Legazpi City (Capital),Bgy. 34 - Oro Sit...   \n",
       "4              La Union,City Of San Fernando (Capital)   \n",
       "..                                                 ...   \n",
       "340                       Albay,Legazpi City (Capital)   \n",
       "341                                    Albay,Rapu-rapu   \n",
       "342                                    Sorsogon,Donsol   \n",
       "343                                     Sorsogon,Pilar   \n",
       "344                                            Albay,,   \n",
       "\n",
       "               FAMILY_INCOME   Q2  ... Q14_OTHER Q5_International employment  \\\n",
       "0           Less than 50,000  Yes  ...       NaN                         NaN   \n",
       "1           Less than 50,000   No  ...       NaN                         NaN   \n",
       "2    Within 50,000 - 100,000   No  ...       NaN                         NaN   \n",
       "3    Within 50,000 - 100,000  Yes  ...       NaN                         NaN   \n",
       "4           Less than 25,000  Yes  ...       NaN                         1.0   \n",
       "..                       ...  ...  ...       ...                         ...   \n",
       "340          50,000 – 74,999   No  ...       NaN                         NaN   \n",
       "341          25,000 – 49,999   No  ...       NaN                         NaN   \n",
       "342         Less than 25,000   No  ...       NaN                         1.0   \n",
       "343         Less than 25,000   No  ...       NaN                         NaN   \n",
       "344  Within 50,000 - 100,000  Yes  ...       NaN                         NaN   \n",
       "\n",
       "    Q5_Establish own business Q5_Others  \\\n",
       "0                         NaN       NaN   \n",
       "1                         NaN       NaN   \n",
       "2                         NaN       NaN   \n",
       "3                         NaN       NaN   \n",
       "4                         NaN       NaN   \n",
       "..                        ...       ...   \n",
       "340                       NaN       NaN   \n",
       "341                       1.0       NaN   \n",
       "342                       NaN       NaN   \n",
       "343                       1.0       NaN   \n",
       "344                       NaN       NaN   \n",
       "\n",
       "    Q5_Obtain scholarship for graduate school  Q5_local employment (within)  \\\n",
       "0                                         NaN                           1.0   \n",
       "1                                         NaN                           1.0   \n",
       "2                                         NaN                           NaN   \n",
       "3                                         NaN                           NaN   \n",
       "4                                         NaN                           NaN   \n",
       "..                                        ...                           ...   \n",
       "340                                       NaN                           1.0   \n",
       "341                                       NaN                           NaN   \n",
       "342                                       NaN                           1.0   \n",
       "343                                       NaN                           1.0   \n",
       "344                                       NaN                           1.0   \n",
       "\n",
       "    Q5_local employment (outside) Q14_Free Higher Education (FHE)  \\\n",
       "0                             NaN                             NaN   \n",
       "1                             NaN                             NaN   \n",
       "2                             1.0                             NaN   \n",
       "3                             1.0                             NaN   \n",
       "4                             NaN                             NaN   \n",
       "..                            ...                             ...   \n",
       "340                           NaN                             1.0   \n",
       "341                           NaN                             1.0   \n",
       "342                           1.0                             NaN   \n",
       "343                           NaN                             1.0   \n",
       "344                           NaN                             NaN   \n",
       "\n",
       "    Q14_Tertiary Education Subsidy (TES)   AGE  \n",
       "0                                    NaN  23.0  \n",
       "1                                    NaN  24.0  \n",
       "2                                    NaN  21.0  \n",
       "3                                    NaN  23.0  \n",
       "4                                    NaN  26.0  \n",
       "..                                   ...   ...  \n",
       "340                                  NaN  23.0  \n",
       "341                                  NaN  23.0  \n",
       "342                                  1.0  27.0  \n",
       "343                                  NaN  23.0  \n",
       "344                                  NaN   NaN  \n",
       "\n",
       "[345 rows x 40 columns]"
      ]
     },
     "execution_count": 38,
     "metadata": {},
     "output_type": "execute_result"
    }
   ],
   "source": [
    "# check dataframe\n",
    "df_exit_survey"
   ]
  },
  {
   "cell_type": "code",
   "execution_count": 39,
   "id": "0580f592",
   "metadata": {
    "ExecuteTime": {
     "end_time": "2023-07-12T12:40:12.114237Z",
     "start_time": "2023-07-12T12:40:12.100358Z"
    }
   },
   "outputs": [],
   "source": [
    "# write cleaned data into a csv file\n",
    "df_exit_survey.to_csv('exit_survey_raw_data.csv', index=False)"
   ]
  }
 ],
 "metadata": {
  "hide_input": false,
  "kernelspec": {
   "display_name": "Python 3 (ipykernel)",
   "language": "python",
   "name": "python3"
  },
  "language_info": {
   "codemirror_mode": {
    "name": "ipython",
    "version": 3
   },
   "file_extension": ".py",
   "mimetype": "text/x-python",
   "name": "python",
   "nbconvert_exporter": "python",
   "pygments_lexer": "ipython3",
   "version": "3.11.4"
  },
  "toc": {
   "base_numbering": 1,
   "nav_menu": {},
   "number_sections": true,
   "sideBar": true,
   "skip_h1_title": false,
   "title_cell": "Table of Contents",
   "title_sidebar": "Contents",
   "toc_cell": false,
   "toc_position": {},
   "toc_section_display": true,
   "toc_window_display": false
  }
 },
 "nbformat": 4,
 "nbformat_minor": 5
}
