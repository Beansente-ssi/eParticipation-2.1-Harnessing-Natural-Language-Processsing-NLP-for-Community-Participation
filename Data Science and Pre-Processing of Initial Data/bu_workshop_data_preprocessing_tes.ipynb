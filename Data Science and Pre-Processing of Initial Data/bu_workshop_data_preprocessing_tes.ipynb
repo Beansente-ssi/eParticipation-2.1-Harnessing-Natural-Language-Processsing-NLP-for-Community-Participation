{
 "cells": [
  {
   "cell_type": "markdown",
   "id": "bf6e6af7",
   "metadata": {},
   "source": [
    "# Bicol University Workshop: Preliminaries on Data (Part 1 - Answer)\n",
    "Prepared by: John Raymond B. Barajas"
   ]
  },
  {
   "cell_type": "markdown",
   "id": "1f2b4249",
   "metadata": {},
   "source": [
    "## Confidentiality Notice"
   ]
  },
  {
   "cell_type": "markdown",
   "id": "0c856a66",
   "metadata": {},
   "source": [
    "This Jupyter Notebook and its contents are confidential and intended solely for the use of the intended recipient(s). If you have received this Notebook in error, please notify the sender immediately and delete it from your system. Any unauthorized use, disclosure, copying, or distribution of this Notebook is strictly prohibited.\n",
    "\n",
    "The information contained in this Notebook may be privileged and confidential, and is intended only for the named recipient(s). Any review, dissemination, distribution, or copying of this Notebook by anyone other than the intended recipient(s) is strictly prohibited.\n",
    "\n",
    "The content and opinions expressed in this Notebook are those of the author(s) and may not necessarily reflect the official policies or positions of the organization. Any views or opinions presented in this Notebook are solely those of the author(s) and do not necessarily represent those of the organization.\n",
    "\n",
    "The security and integrity of the content of this Notebook cannot be guaranteed, and the author(s) shall not be held responsible for any unauthorized modification or alteration of the content.\n",
    "\n",
    "Please treat this Notebook and its contents with the utmost confidentiality and refrain from sharing or distributing it without explicit permission from the author(s) or the organization.\n",
    "\n",
    "Thank you for your cooperation and understanding."
   ]
  },
  {
   "cell_type": "markdown",
   "id": "eb3526d6",
   "metadata": {},
   "source": [
    "## Install Necessary Libraries"
   ]
  },
  {
   "cell_type": "code",
   "execution_count": 175,
   "id": "1720482f",
   "metadata": {
    "ExecuteTime": {
     "end_time": "2023-07-12T09:40:58.407903Z",
     "start_time": "2023-07-12T09:40:58.404402Z"
    }
   },
   "outputs": [],
   "source": [
    "# !pip install pandas\n",
    "# !pip install openpyxl\n",
    "# !pip install matplotlib\n",
    "# !pip install seaborn\n",
    "# !pip install ipywidgets\n",
    "# !pip install scikit-learn\n",
    "# !pip install scipy\n",
    "# !pip install \"numpy<1.24\""
   ]
  },
  {
   "cell_type": "markdown",
   "id": "5f8e96e9",
   "metadata": {},
   "source": [
    "## Import Necessary Libraries"
   ]
  },
  {
   "cell_type": "code",
   "execution_count": 176,
   "id": "6518ae4b",
   "metadata": {
    "ExecuteTime": {
     "end_time": "2023-07-12T09:40:59.311692Z",
     "start_time": "2023-07-12T09:40:59.308643Z"
    }
   },
   "outputs": [],
   "source": [
    "# import the necessary libraries/packages\n",
    "import numpy as np\n",
    "import pandas as pd\n",
    "import matplotlib.pyplot as plt"
   ]
  },
  {
   "cell_type": "markdown",
   "id": "e4890145",
   "metadata": {},
   "source": [
    "## Read First the Data"
   ]
  },
  {
   "cell_type": "code",
   "execution_count": 177,
   "id": "e52be6c4",
   "metadata": {
    "ExecuteTime": {
     "end_time": "2023-07-12T09:41:00.147177Z",
     "start_time": "2023-07-12T09:41:00.124102Z"
    }
   },
   "outputs": [],
   "source": [
    "# read Data\n",
    "# change the file path for new data\n",
    "file_path = 'tes_raw_data.csv'\n",
    "df = pd.read_csv(file_path)"
   ]
  },
  {
   "cell_type": "markdown",
   "id": "c88ae304",
   "metadata": {},
   "source": [
    "## Check Metadata of Data"
   ]
  },
  {
   "cell_type": "code",
   "execution_count": 178,
   "id": "02af7900",
   "metadata": {
    "ExecuteTime": {
     "end_time": "2023-07-12T09:41:02.288058Z",
     "start_time": "2023-07-12T09:41:02.275971Z"
    }
   },
   "outputs": [
    {
     "data": {
      "text/html": [
       "<div>\n",
       "<style scoped>\n",
       "    .dataframe tbody tr th:only-of-type {\n",
       "        vertical-align: middle;\n",
       "    }\n",
       "\n",
       "    .dataframe tbody tr th {\n",
       "        vertical-align: top;\n",
       "    }\n",
       "\n",
       "    .dataframe thead th {\n",
       "        text-align: right;\n",
       "    }\n",
       "</style>\n",
       "<table border=\"1\" class=\"dataframe\">\n",
       "  <thead>\n",
       "    <tr style=\"text-align: right;\">\n",
       "      <th></th>\n",
       "      <th>REGION</th>\n",
       "      <th>HEI_NAME</th>\n",
       "      <th>HEI_TYPE</th>\n",
       "      <th>HEI_CITY</th>\n",
       "      <th>HEI_PROVINCE</th>\n",
       "      <th>TES_GRANTEES</th>\n",
       "      <th>SEX_M</th>\n",
       "      <th>SEX_F</th>\n",
       "      <th>EDUC</th>\n",
       "      <th>ARTS</th>\n",
       "      <th>SOC_SCI</th>\n",
       "      <th>BUSINESS</th>\n",
       "      <th>NAT_SCI</th>\n",
       "      <th>INFO</th>\n",
       "      <th>ENG</th>\n",
       "      <th>AGRI</th>\n",
       "      <th>HEALTH</th>\n",
       "      <th>SERVICES</th>\n",
       "      <th>OTHERS</th>\n",
       "      <th>YEAR</th>\n",
       "    </tr>\n",
       "  </thead>\n",
       "  <tbody>\n",
       "    <tr>\n",
       "      <th>0</th>\n",
       "      <td>01 - Ilocos Region</td>\n",
       "      <td>ABE International College of Business and Acco...</td>\n",
       "      <td>Private HEI</td>\n",
       "      <td>URDANETA CITY</td>\n",
       "      <td>PANGASINAN</td>\n",
       "      <td>7</td>\n",
       "      <td>2</td>\n",
       "      <td>5</td>\n",
       "      <td>0</td>\n",
       "      <td>0</td>\n",
       "      <td>0</td>\n",
       "      <td>3</td>\n",
       "      <td>0</td>\n",
       "      <td>3</td>\n",
       "      <td>0</td>\n",
       "      <td>0</td>\n",
       "      <td>0</td>\n",
       "      <td>1</td>\n",
       "      <td>0</td>\n",
       "      <td>2018-2019</td>\n",
       "    </tr>\n",
       "    <tr>\n",
       "      <th>1</th>\n",
       "      <td>01 - Ilocos Region</td>\n",
       "      <td>AMA Computer College-Dagupan City</td>\n",
       "      <td>Private HEI</td>\n",
       "      <td>DAGUPAN CITY</td>\n",
       "      <td>PANGASINAN</td>\n",
       "      <td>10</td>\n",
       "      <td>6</td>\n",
       "      <td>4</td>\n",
       "      <td>0</td>\n",
       "      <td>0</td>\n",
       "      <td>0</td>\n",
       "      <td>0</td>\n",
       "      <td>0</td>\n",
       "      <td>9</td>\n",
       "      <td>1</td>\n",
       "      <td>0</td>\n",
       "      <td>0</td>\n",
       "      <td>0</td>\n",
       "      <td>0</td>\n",
       "      <td>2018-2019</td>\n",
       "    </tr>\n",
       "    <tr>\n",
       "      <th>2</th>\n",
       "      <td>01 - Ilocos Region</td>\n",
       "      <td>AMA Computer College-La Union</td>\n",
       "      <td>Private HEI</td>\n",
       "      <td>SAN FERNANDO CITY</td>\n",
       "      <td>LA UNION</td>\n",
       "      <td>10</td>\n",
       "      <td>7</td>\n",
       "      <td>3</td>\n",
       "      <td>0</td>\n",
       "      <td>0</td>\n",
       "      <td>0</td>\n",
       "      <td>0</td>\n",
       "      <td>0</td>\n",
       "      <td>10</td>\n",
       "      <td>0</td>\n",
       "      <td>0</td>\n",
       "      <td>0</td>\n",
       "      <td>0</td>\n",
       "      <td>0</td>\n",
       "      <td>2018-2019</td>\n",
       "    </tr>\n",
       "    <tr>\n",
       "      <th>3</th>\n",
       "      <td>01 - Ilocos Region</td>\n",
       "      <td>AMA Computer College-Laoag City</td>\n",
       "      <td>Private HEI</td>\n",
       "      <td>LAOAG CITY</td>\n",
       "      <td>ILOCOS NORTE</td>\n",
       "      <td>43</td>\n",
       "      <td>14</td>\n",
       "      <td>29</td>\n",
       "      <td>0</td>\n",
       "      <td>0</td>\n",
       "      <td>0</td>\n",
       "      <td>24</td>\n",
       "      <td>0</td>\n",
       "      <td>14</td>\n",
       "      <td>5</td>\n",
       "      <td>0</td>\n",
       "      <td>0</td>\n",
       "      <td>0</td>\n",
       "      <td>0</td>\n",
       "      <td>2018-2019</td>\n",
       "    </tr>\n",
       "    <tr>\n",
       "      <th>4</th>\n",
       "      <td>01 - Ilocos Region</td>\n",
       "      <td>Asbury College</td>\n",
       "      <td>Private HEI</td>\n",
       "      <td>ANDA</td>\n",
       "      <td>PANGASINAN</td>\n",
       "      <td>210</td>\n",
       "      <td>48</td>\n",
       "      <td>162</td>\n",
       "      <td>208</td>\n",
       "      <td>2</td>\n",
       "      <td>0</td>\n",
       "      <td>0</td>\n",
       "      <td>0</td>\n",
       "      <td>0</td>\n",
       "      <td>0</td>\n",
       "      <td>0</td>\n",
       "      <td>0</td>\n",
       "      <td>0</td>\n",
       "      <td>0</td>\n",
       "      <td>2018-2019</td>\n",
       "    </tr>\n",
       "  </tbody>\n",
       "</table>\n",
       "</div>"
      ],
      "text/plain": [
       "               REGION                                           HEI_NAME  \\\n",
       "0  01 - Ilocos Region  ABE International College of Business and Acco...   \n",
       "1  01 - Ilocos Region                  AMA Computer College-Dagupan City   \n",
       "2  01 - Ilocos Region                      AMA Computer College-La Union   \n",
       "3  01 - Ilocos Region                    AMA Computer College-Laoag City   \n",
       "4  01 - Ilocos Region                                     Asbury College   \n",
       "\n",
       "      HEI_TYPE           HEI_CITY  HEI_PROVINCE  TES_GRANTEES  SEX_M  SEX_F  \\\n",
       "0  Private HEI      URDANETA CITY    PANGASINAN             7      2      5   \n",
       "1  Private HEI       DAGUPAN CITY    PANGASINAN            10      6      4   \n",
       "2  Private HEI  SAN FERNANDO CITY      LA UNION            10      7      3   \n",
       "3  Private HEI         LAOAG CITY  ILOCOS NORTE            43     14     29   \n",
       "4  Private HEI               ANDA    PANGASINAN           210     48    162   \n",
       "\n",
       "   EDUC  ARTS  SOC_SCI  BUSINESS  NAT_SCI  INFO  ENG  AGRI  HEALTH  SERVICES  \\\n",
       "0     0     0        0         3        0     3    0     0       0         1   \n",
       "1     0     0        0         0        0     9    1     0       0         0   \n",
       "2     0     0        0         0        0    10    0     0       0         0   \n",
       "3     0     0        0        24        0    14    5     0       0         0   \n",
       "4   208     2        0         0        0     0    0     0       0         0   \n",
       "\n",
       "   OTHERS       YEAR  \n",
       "0       0  2018-2019  \n",
       "1       0  2018-2019  \n",
       "2       0  2018-2019  \n",
       "3       0  2018-2019  \n",
       "4       0  2018-2019  "
      ]
     },
     "execution_count": 178,
     "metadata": {},
     "output_type": "execute_result"
    }
   ],
   "source": [
    "# check the first 5 rows of the data\n",
    "df.head(5)"
   ]
  },
  {
   "cell_type": "code",
   "execution_count": 179,
   "id": "ccad05bf",
   "metadata": {
    "ExecuteTime": {
     "end_time": "2023-07-12T09:41:04.582465Z",
     "start_time": "2023-07-12T09:41:04.572539Z"
    }
   },
   "outputs": [
    {
     "name": "stdout",
     "output_type": "stream",
     "text": [
      "<class 'pandas.core.frame.DataFrame'>\n",
      "RangeIndex: 8941 entries, 0 to 8940\n",
      "Data columns (total 20 columns):\n",
      " #   Column        Non-Null Count  Dtype \n",
      "---  ------        --------------  ----- \n",
      " 0   REGION        8941 non-null   object\n",
      " 1   HEI_NAME      8941 non-null   object\n",
      " 2   HEI_TYPE      8941 non-null   object\n",
      " 3   HEI_CITY      8941 non-null   object\n",
      " 4   HEI_PROVINCE  8941 non-null   object\n",
      " 5   TES_GRANTEES  8941 non-null   int64 \n",
      " 6   SEX_M         8941 non-null   int64 \n",
      " 7   SEX_F         8941 non-null   int64 \n",
      " 8   EDUC          8941 non-null   int64 \n",
      " 9   ARTS          8941 non-null   int64 \n",
      " 10  SOC_SCI       8941 non-null   int64 \n",
      " 11  BUSINESS      8941 non-null   int64 \n",
      " 12  NAT_SCI       8941 non-null   int64 \n",
      " 13  INFO          8941 non-null   int64 \n",
      " 14  ENG           8941 non-null   int64 \n",
      " 15  AGRI          8941 non-null   int64 \n",
      " 16  HEALTH        8941 non-null   int64 \n",
      " 17  SERVICES      8941 non-null   int64 \n",
      " 18  OTHERS        8941 non-null   int64 \n",
      " 19  YEAR          8941 non-null   object\n",
      "dtypes: int64(14), object(6)\n",
      "memory usage: 1.4+ MB\n"
     ]
    }
   ],
   "source": [
    "# check metadata of the data\n",
    "df.info()"
   ]
  },
  {
   "cell_type": "markdown",
   "id": "634273de",
   "metadata": {},
   "source": [
    "### Convert Columns into the Correct Data Types"
   ]
  },
  {
   "cell_type": "markdown",
   "id": "28d0657b",
   "metadata": {},
   "source": [
    "#### Identify Numerical and Categorical Columns"
   ]
  },
  {
   "cell_type": "code",
   "execution_count": 180,
   "id": "97a1e854",
   "metadata": {
    "ExecuteTime": {
     "end_time": "2023-07-12T09:41:07.128228Z",
     "start_time": "2023-07-12T09:41:06.940704Z"
    }
   },
   "outputs": [
    {
     "data": {
      "image/png": "[encoded data removed]",
      "text/plain": [
       "<Figure size 1000x600 with 1 Axes>"
      ]
     },
     "metadata": {},
     "output_type": "display_data"
    }
   ],
   "source": [
    "# identify features which are categorical\n",
    "cat = df.select_dtypes(['object','category']).columns.to_list()\n",
    "\n",
    "# identify features which are numerical\n",
    "num = df.select_dtypes(['number']).columns.to_list()\n",
    "\n",
    "# create dataframe identifying type of features\n",
    "df_num_cat_col = pd.DataFrame(num+cat, columns=['Feature_Name'])\n",
    "df_num_cat_col['Feature_Type'] = df_num_cat_col.where(\n",
    "    ~df_num_cat_col['Feature_Name'].isin(cat),\n",
    "    'categorical').where(df_num_cat_col['Feature_Name'].isin(cat),\n",
    "                         'numerical')\n",
    "\n",
    "# create a bar plot\n",
    "plt.figure(figsize=(10, 6))\n",
    "plt.bar(df_num_cat_col['Feature_Name'], df_num_cat_col['Feature_Type'])\n",
    "plt.xticks(rotation=90)\n",
    "plt.xlabel('Feature Name')\n",
    "plt.ylabel('Feature Type')\n",
    "plt.title('Feature Types')\n",
    "\n",
    "# display the plot\n",
    "plt.show()"
   ]
  },
  {
   "cell_type": "markdown",
   "id": "d2c6cc0c",
   "metadata": {},
   "source": [
    "##### Identify the Correct Numerical and Categorical Columns Manually (Don't Forget to Edit the Cell Below)"
   ]
  },
  {
   "cell_type": "code",
   "execution_count": 181,
   "id": "0a003c64",
   "metadata": {
    "ExecuteTime": {
     "end_time": "2023-07-12T09:41:17.599091Z",
     "start_time": "2023-07-12T09:41:17.596117Z"
    }
   },
   "outputs": [],
   "source": [
    "# identify numerical columns manually\n",
    "# num_col = ['SEX_M', 'SEX_F', 'NOT_INDICATED', 'FHE_GRANTEES']\n",
    "\n",
    "# identify categorical columns manually\n",
    "# cat_col = ['REGION', 'HEI_NAME', 'HEI_TYPE', 'HEI_CITY', 'HEI_PROVINCE',\n",
    "#                'YEAR']"
   ]
  },
  {
   "cell_type": "code",
   "execution_count": 182,
   "id": "06bcc1b7",
   "metadata": {
    "ExecuteTime": {
     "end_time": "2023-07-12T09:41:23.575279Z",
     "start_time": "2023-07-12T09:41:23.572229Z"
    }
   },
   "outputs": [],
   "source": [
    "# convert data type of numerical columns to correct ones\n",
    "# for col in num_col:\n",
    "#     df[col] = pd.to_numeric(df[col], errors='coerce')"
   ]
  },
  {
   "cell_type": "code",
   "execution_count": 183,
   "id": "3f6296c1",
   "metadata": {
    "ExecuteTime": {
     "end_time": "2023-07-12T09:41:25.477471Z",
     "start_time": "2023-07-12T09:41:25.468003Z"
    }
   },
   "outputs": [
    {
     "name": "stdout",
     "output_type": "stream",
     "text": [
      "<class 'pandas.core.frame.DataFrame'>\n",
      "RangeIndex: 8941 entries, 0 to 8940\n",
      "Data columns (total 20 columns):\n",
      " #   Column        Non-Null Count  Dtype \n",
      "---  ------        --------------  ----- \n",
      " 0   REGION        8941 non-null   object\n",
      " 1   HEI_NAME      8941 non-null   object\n",
      " 2   HEI_TYPE      8941 non-null   object\n",
      " 3   HEI_CITY      8941 non-null   object\n",
      " 4   HEI_PROVINCE  8941 non-null   object\n",
      " 5   TES_GRANTEES  8941 non-null   int64 \n",
      " 6   SEX_M         8941 non-null   int64 \n",
      " 7   SEX_F         8941 non-null   int64 \n",
      " 8   EDUC          8941 non-null   int64 \n",
      " 9   ARTS          8941 non-null   int64 \n",
      " 10  SOC_SCI       8941 non-null   int64 \n",
      " 11  BUSINESS      8941 non-null   int64 \n",
      " 12  NAT_SCI       8941 non-null   int64 \n",
      " 13  INFO          8941 non-null   int64 \n",
      " 14  ENG           8941 non-null   int64 \n",
      " 15  AGRI          8941 non-null   int64 \n",
      " 16  HEALTH        8941 non-null   int64 \n",
      " 17  SERVICES      8941 non-null   int64 \n",
      " 18  OTHERS        8941 non-null   int64 \n",
      " 19  YEAR          8941 non-null   object\n",
      "dtypes: int64(14), object(6)\n",
      "memory usage: 1.4+ MB\n"
     ]
    }
   ],
   "source": [
    "# check if columns are converted to the correct data types\n",
    "df.info()"
   ]
  },
  {
   "cell_type": "markdown",
   "id": "cabeabcb",
   "metadata": {},
   "source": [
    "#### Identify Numerical and Categorical Columns for the Data (Demo for Automatic Selection)"
   ]
  },
  {
   "cell_type": "code",
   "execution_count": 184,
   "id": "048fdc14",
   "metadata": {
    "ExecuteTime": {
     "end_time": "2023-07-12T09:41:31.688257Z",
     "start_time": "2023-07-12T09:41:31.684603Z"
    }
   },
   "outputs": [],
   "source": [
    "# note that you have first to make sure that the columns are of the correct data type\n",
    "# identify numerical columns automatically\n",
    "num_col = df.select_dtypes(['number']).columns.to_list()\n",
    "\n",
    "# identify categorical columns automatically\n",
    "cat_col = df.select_dtypes(['object','category']).columns.to_list()"
   ]
  },
  {
   "cell_type": "code",
   "execution_count": 185,
   "id": "1b565777",
   "metadata": {
    "ExecuteTime": {
     "end_time": "2023-07-12T09:41:32.503559Z",
     "start_time": "2023-07-12T09:41:32.500128Z"
    }
   },
   "outputs": [
    {
     "name": "stdout",
     "output_type": "stream",
     "text": [
      "Numerical Columns\n",
      "['TES_GRANTEES', 'SEX_M', 'SEX_F', 'EDUC', 'ARTS', 'SOC_SCI', 'BUSINESS', 'NAT_SCI', 'INFO', 'ENG', 'AGRI', 'HEALTH', 'SERVICES', 'OTHERS']\n",
      "Categorical Columns\n",
      "['REGION', 'HEI_NAME', 'HEI_TYPE', 'HEI_CITY', 'HEI_PROVINCE', 'YEAR']\n"
     ]
    }
   ],
   "source": [
    "# check if the columns are identifed correctly\n",
    "print('Numerical Columns')\n",
    "print(num_col)\n",
    "print('Categorical Columns')\n",
    "print(cat_col)"
   ]
  },
  {
   "cell_type": "code",
   "execution_count": 186,
   "id": "1c0e283e",
   "metadata": {
    "ExecuteTime": {
     "end_time": "2023-07-12T09:41:36.194715Z",
     "start_time": "2023-07-12T09:41:36.004687Z"
    }
   },
   "outputs": [
    {
     "data": {
      "image/png": "[encoded data removed]",
      "text/plain": [
       "<Figure size 1000x600 with 1 Axes>"
      ]
     },
     "metadata": {},
     "output_type": "display_data"
    }
   ],
   "source": [
    "# identify features which are categorical\n",
    "cat = df.select_dtypes(['object','category']).columns.to_list()\n",
    "\n",
    "# identify features which are numerical\n",
    "num = df.select_dtypes(['number']).columns.to_list()\n",
    "\n",
    "# create dataframe identifying type of features\n",
    "df_num_cat_col = pd.DataFrame(num+cat, columns=['Feature_Name'])\n",
    "df_num_cat_col['Feature_Type'] = df_num_cat_col.where(\n",
    "    ~df_num_cat_col['Feature_Name'].isin(cat),\n",
    "    'categorical').where(df_num_cat_col['Feature_Name'].isin(cat),\n",
    "                         'numerical')\n",
    "\n",
    "# create a bar plot\n",
    "plt.figure(figsize=(10, 6))\n",
    "plt.bar(df_num_cat_col['Feature_Name'], df_num_cat_col['Feature_Type'])\n",
    "plt.xticks(rotation=90)\n",
    "plt.xlabel('Feature Name')\n",
    "plt.ylabel('Feature Type')\n",
    "plt.title('Feature Types')\n",
    "\n",
    "# display the plot\n",
    "plt.show()"
   ]
  },
  {
   "cell_type": "markdown",
   "id": "314d5ac9",
   "metadata": {
    "ExecuteTime": {
     "end_time": "2023-07-12T08:32:33.349773Z",
     "start_time": "2023-07-12T08:32:33.347167Z"
    }
   },
   "source": [
    "### Check for any Duplicate Records"
   ]
  },
  {
   "cell_type": "code",
   "execution_count": 187,
   "id": "3aa2f530",
   "metadata": {
    "ExecuteTime": {
     "end_time": "2023-07-12T09:41:41.728267Z",
     "start_time": "2023-07-12T09:41:41.716511Z"
    }
   },
   "outputs": [
    {
     "data": {
      "text/plain": [
       "False"
      ]
     },
     "execution_count": 187,
     "metadata": {},
     "output_type": "execute_result"
    }
   ],
   "source": [
    "# check for rows/records that are duplicated\n",
    "df.duplicated().any()"
   ]
  },
  {
   "cell_type": "code",
   "execution_count": 188,
   "id": "96c05ac8",
   "metadata": {
    "ExecuteTime": {
     "end_time": "2023-07-12T09:41:42.502789Z",
     "start_time": "2023-07-12T09:41:42.500200Z"
    }
   },
   "outputs": [],
   "source": [
    "# note that it is best practice to have a unique record identifier for each record for streamlined removal of duplicate records\n",
    "\n",
    "# if there are duplicate records, you may run the code below to remove them\n",
    "# df.drop_duplicates(keep='first', inplace=True)"
   ]
  },
  {
   "cell_type": "markdown",
   "id": "214c382c",
   "metadata": {},
   "source": [
    "### Check for Missing Values"
   ]
  },
  {
   "cell_type": "code",
   "execution_count": 189,
   "id": "9c9e6924",
   "metadata": {
    "ExecuteTime": {
     "end_time": "2023-07-12T09:41:43.460737Z",
     "start_time": "2023-07-12T09:41:43.452426Z"
    }
   },
   "outputs": [
    {
     "name": "stdout",
     "output_type": "stream",
     "text": [
      "<class 'pandas.core.frame.DataFrame'>\n",
      "RangeIndex: 8941 entries, 0 to 8940\n",
      "Data columns (total 20 columns):\n",
      " #   Column        Non-Null Count  Dtype \n",
      "---  ------        --------------  ----- \n",
      " 0   REGION        8941 non-null   object\n",
      " 1   HEI_NAME      8941 non-null   object\n",
      " 2   HEI_TYPE      8941 non-null   object\n",
      " 3   HEI_CITY      8941 non-null   object\n",
      " 4   HEI_PROVINCE  8941 non-null   object\n",
      " 5   TES_GRANTEES  8941 non-null   int64 \n",
      " 6   SEX_M         8941 non-null   int64 \n",
      " 7   SEX_F         8941 non-null   int64 \n",
      " 8   EDUC          8941 non-null   int64 \n",
      " 9   ARTS          8941 non-null   int64 \n",
      " 10  SOC_SCI       8941 non-null   int64 \n",
      " 11  BUSINESS      8941 non-null   int64 \n",
      " 12  NAT_SCI       8941 non-null   int64 \n",
      " 13  INFO          8941 non-null   int64 \n",
      " 14  ENG           8941 non-null   int64 \n",
      " 15  AGRI          8941 non-null   int64 \n",
      " 16  HEALTH        8941 non-null   int64 \n",
      " 17  SERVICES      8941 non-null   int64 \n",
      " 18  OTHERS        8941 non-null   int64 \n",
      " 19  YEAR          8941 non-null   object\n",
      "dtypes: int64(14), object(6)\n",
      "memory usage: 1.4+ MB\n"
     ]
    }
   ],
   "source": [
    "# check if columns have missing values\n",
    "df.info()"
   ]
  },
  {
   "cell_type": "code",
   "execution_count": 190,
   "id": "298776d7",
   "metadata": {
    "ExecuteTime": {
     "end_time": "2023-07-12T09:41:47.059308Z",
     "start_time": "2023-07-12T09:41:47.053051Z"
    }
   },
   "outputs": [
    {
     "name": "stdout",
     "output_type": "stream",
     "text": [
      "The data does not contain missing values.\n"
     ]
    }
   ],
   "source": [
    "# create new data frame identifying columns with missing values\n",
    "if df.isnull().sum().sum()>0:\n",
    "    df_na = pd.DataFrame(df.isnull().sum(), columns=['count_na'])\n",
    "    df_na = df_na[df_na['count_na']>0]\n",
    "\n",
    "    # create bar plot for columns with missing values\n",
    "    df_na['count_na'].sort_values(ascending=False).plot(kind='bar', figsize=(10,6))\n",
    "    plt.xlabel('Feature Name')\n",
    "    plt.ylabel('Count of Missing Values')\n",
    "\n",
    "    # display the plot\n",
    "    plt.show()\n",
    "else:\n",
    "    print('The data does not contain missing values.')"
   ]
  },
  {
   "cell_type": "markdown",
   "id": "e045730a",
   "metadata": {},
   "source": [
    "### Simple Imputation on Missing Values"
   ]
  },
  {
   "cell_type": "markdown",
   "id": "a0aaef2d",
   "metadata": {},
   "source": [
    "#### Impute by Mean for Numerical Columns in the Data"
   ]
  },
  {
   "cell_type": "code",
   "execution_count": 191,
   "id": "372b5a05",
   "metadata": {
    "ExecuteTime": {
     "end_time": "2023-07-12T09:41:50.423722Z",
     "start_time": "2023-07-12T09:41:50.412793Z"
    }
   },
   "outputs": [],
   "source": [
    "# impute the mean of each column into the missing values for each column\n",
    "df[num_col] = df[num_col].fillna(df[num_col].mean())"
   ]
  },
  {
   "cell_type": "code",
   "execution_count": 192,
   "id": "f61cf216",
   "metadata": {
    "ExecuteTime": {
     "end_time": "2023-07-12T09:41:53.074805Z",
     "start_time": "2023-07-12T09:41:53.068028Z"
    }
   },
   "outputs": [
    {
     "data": {
      "text/plain": [
       "False"
      ]
     },
     "execution_count": 192,
     "metadata": {},
     "output_type": "execute_result"
    }
   ],
   "source": [
    "# check for missing values for all numerical column\n",
    "df[num_col].isnull().any().any()"
   ]
  },
  {
   "cell_type": "markdown",
   "id": "ca872bbc",
   "metadata": {},
   "source": [
    "#### Impute by Mode for Categorical Columns in Data"
   ]
  },
  {
   "cell_type": "code",
   "execution_count": 193,
   "id": "8b72b01b",
   "metadata": {
    "ExecuteTime": {
     "end_time": "2023-07-12T09:41:59.115153Z",
     "start_time": "2023-07-12T09:41:59.100435Z"
    }
   },
   "outputs": [],
   "source": [
    "# impute the mean of each column into the missing values for each column\n",
    "df[cat_col] = df[cat_col].fillna(df[cat_col].mode().iloc[0])"
   ]
  },
  {
   "cell_type": "code",
   "execution_count": 194,
   "id": "c8df789e",
   "metadata": {
    "ExecuteTime": {
     "end_time": "2023-07-12T09:41:59.946796Z",
     "start_time": "2023-07-12T09:41:59.940111Z"
    }
   },
   "outputs": [
    {
     "data": {
      "text/plain": [
       "False"
      ]
     },
     "execution_count": 194,
     "metadata": {},
     "output_type": "execute_result"
    }
   ],
   "source": [
    "# check for missing values for all categorical column\n",
    "df[cat_col].isnull().any().any()"
   ]
  },
  {
   "cell_type": "markdown",
   "id": "2f24f302",
   "metadata": {},
   "source": [
    "### Identify Number of Unique Values in all Features/Columns"
   ]
  },
  {
   "cell_type": "code",
   "execution_count": 195,
   "id": "4199bd10",
   "metadata": {
    "ExecuteTime": {
     "end_time": "2023-07-12T09:42:02.589236Z",
     "start_time": "2023-07-12T09:42:02.372171Z"
    }
   },
   "outputs": [
    {
     "data": {
      "image/png": "[encoded data removed]",
      "text/plain": [
       "<Figure size 1000x600 with 1 Axes>"
      ]
     },
     "metadata": {},
     "output_type": "display_data"
    }
   ],
   "source": [
    "# create bar plot of unique values in each column\n",
    "df.nunique().sort_values(ascending=False).plot(kind='bar', figsize=(10,6))\n",
    "plt.xlabel('Feature Name')\n",
    "plt.ylabel('Count of Unique Values')\n",
    "\n",
    "# display the plot\n",
    "plt.show()"
   ]
  },
  {
   "cell_type": "code",
   "execution_count": 196,
   "id": "871d6f8e",
   "metadata": {
    "ExecuteTime": {
     "end_time": "2023-07-12T09:42:09.295749Z",
     "start_time": "2023-07-12T09:42:09.284776Z"
    }
   },
   "outputs": [
    {
     "name": "stdout",
     "output_type": "stream",
     "text": [
      "No categorical columns that have less than or equal to 1 unique values.\n"
     ]
    }
   ],
   "source": [
    "# check for columns that have less than or equal to 1 unique values\n",
    "col_uniq_1 = list(df.columns[df.nunique() <= 1])\n",
    "if len(col_uniq_1)>0:\n",
    "    print(col_uniq_1)\n",
    "else:\n",
    "    print('No categorical columns that have less than or equal to 1 unique values.')"
   ]
  },
  {
   "cell_type": "code",
   "execution_count": 197,
   "id": "f1e9401e",
   "metadata": {
    "ExecuteTime": {
     "end_time": "2023-07-12T09:42:12.774779Z",
     "start_time": "2023-07-12T09:42:12.771893Z"
    }
   },
   "outputs": [],
   "source": [
    "# if there is a column with only 1 unique value, remove the column with the code below\n",
    "# df.drop(col_uniq_1, axis=1, inplace=True)"
   ]
  },
  {
   "cell_type": "markdown",
   "id": "ebe37123",
   "metadata": {},
   "source": [
    "### Further Considerations"
   ]
  },
  {
   "cell_type": "markdown",
   "id": "2ab82877",
   "metadata": {},
   "source": [
    "Always inspect the metadata of the given dataset for unique identifier column (e.g. `EmployeeID`). Unless there is a specific purpose in mind in the process of data analysis, this column should be removed as this is only an identifier of a record.\n",
    "\n",
    "Below is an example of a column that act as a unique identifier.\n",
    "\n",
    "| Feature Number | Feature Name | Feature Description |\n",
    "| :---:        | :---        | :---          |\n",
    "|10\t|EmployeeNumber\t|A unique identifier for each record of an employee"
   ]
  },
  {
   "cell_type": "markdown",
   "id": "51fa7373",
   "metadata": {},
   "source": [
    "## Save the Pre-processed Data as Comma Separated Values (CSV)"
   ]
  },
  {
   "cell_type": "code",
   "execution_count": 198,
   "id": "dd3ad1ea",
   "metadata": {
    "ExecuteTime": {
     "end_time": "2023-07-12T09:42:15.636067Z",
     "start_time": "2023-07-12T09:42:15.580536Z"
    }
   },
   "outputs": [],
   "source": [
    "# save the preprocessed data as csv file\n",
    "path_out = 'tes_clean_data.csv'\n",
    "df.to_csv(path_out, sep=',')"
   ]
  }
 ],
 "metadata": {
  "hide_input": false,
  "kernelspec": {
   "display_name": "Python 3 (ipykernel)",
   "language": "python",
   "name": "python3"
  },
  "language_info": {
   "codemirror_mode": {
    "name": "ipython",
    "version": 3
   },
   "file_extension": ".py",
   "mimetype": "text/x-python",
   "name": "python",
   "nbconvert_exporter": "python",
   "pygments_lexer": "ipython3",
   "version": "3.11.4"
  },
  "toc": {
   "base_numbering": 1,
   "nav_menu": {},
   "number_sections": true,
   "sideBar": true,
   "skip_h1_title": false,
   "title_cell": "Table of Contents",
   "title_sidebar": "Contents",
   "toc_cell": false,
   "toc_position": {
    "height": "calc(100% - 180px)",
    "left": "10px",
    "top": "150px",
    "width": "366px"
   },
   "toc_section_display": true,
   "toc_window_display": false
  }
 },
 "nbformat": 4,
 "nbformat_minor": 5
}
