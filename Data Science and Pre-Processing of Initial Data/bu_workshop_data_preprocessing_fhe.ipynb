{
 "cells": [
  {
   "cell_type": "markdown",
   "id": "6273e202",
   "metadata": {},
   "source": [
    "# Bicol University Workshop: Preliminaries on Data (Part 1)\n",
    "Prepared by: John Raymond B. Barajas"
   ]
  },
  {
   "cell_type": "markdown",
   "id": "845f49f4",
   "metadata": {},
   "source": [
    "## Confidentiality Notice"
   ]
  },
  {
   "cell_type": "markdown",
   "id": "369e3b06",
   "metadata": {},
   "source": [
    "This Jupyter Notebook and its contents are confidential and intended solely for the use of the intended recipient(s). If you have received this Notebook in error, please notify the sender immediately and delete it from your system. Any unauthorized use, disclosure, copying, or distribution of this Notebook is strictly prohibited.\n",
    "\n",
    "The information contained in this Notebook may be privileged and confidential, and is intended only for the named recipient(s). Any review, dissemination, distribution, or copying of this Notebook by anyone other than the intended recipient(s) is strictly prohibited.\n",
    "\n",
    "The content and opinions expressed in this Notebook are those of the author(s) and may not necessarily reflect the official policies or positions of the organization. Any views or opinions presented in this Notebook are solely those of the author(s) and do not necessarily represent those of the organization.\n",
    "\n",
    "The security and integrity of the content of this Notebook cannot be guaranteed, and the author(s) shall not be held responsible for any unauthorized modification or alteration of the content.\n",
    "\n",
    "Please treat this Notebook and its contents with the utmost confidentiality and refrain from sharing or distributing it without explicit permission from the author(s) or the organization.\n",
    "\n",
    "Thank you for your cooperation and understanding."
   ]
  },
  {
   "cell_type": "markdown",
   "id": "1aa59866",
   "metadata": {},
   "source": [
    "## Install Necessary Libraries"
   ]
  },
  {
   "cell_type": "code",
   "execution_count": 1,
   "id": "294ec329",
   "metadata": {
    "ExecuteTime": {
     "end_time": "2023-07-12T13:15:43.419320Z",
     "start_time": "2023-07-12T13:15:43.416340Z"
    }
   },
   "outputs": [],
   "source": [
    "# !pip install pandas\n",
    "# !pip install openpyxl\n",
    "# !pip install matplotlib\n",
    "# !pip install seaborn\n",
    "# !pip install ipywidgets\n",
    "# !pip install scikit-learn\n",
    "# !pip install scipy\n",
    "# !pip install \"numpy<1.24\""
   ]
  },
  {
   "cell_type": "markdown",
   "id": "6268a6bd",
   "metadata": {},
   "source": [
    "## Import Necessary Libraries"
   ]
  },
  {
   "cell_type": "code",
   "execution_count": 2,
   "id": "b6820699",
   "metadata": {
    "ExecuteTime": {
     "end_time": "2023-07-12T13:15:44.979503Z",
     "start_time": "2023-07-12T13:15:44.223749Z"
    }
   },
   "outputs": [],
   "source": [
    "# import the necessary libraries/packages\n",
    "import numpy as np\n",
    "import pandas as pd\n",
    "import matplotlib.pyplot as plt"
   ]
  },
  {
   "cell_type": "markdown",
   "id": "8befa2eb",
   "metadata": {},
   "source": [
    "## Read First the Data"
   ]
  },
  {
   "cell_type": "code",
   "execution_count": 3,
   "id": "1dcd1cc9",
   "metadata": {
    "ExecuteTime": {
     "end_time": "2023-07-12T13:15:45.490491Z",
     "start_time": "2023-07-12T13:15:45.481157Z"
    }
   },
   "outputs": [],
   "source": [
    "# read Data\n",
    "# change the file path for new data\n",
    "file_path = 'fhe_raw_data.csv'\n",
    "df = pd.read_csv(file_path)"
   ]
  },
  {
   "cell_type": "markdown",
   "id": "91c838a4",
   "metadata": {},
   "source": [
    "## Check Metadata of Data"
   ]
  },
  {
   "cell_type": "code",
   "execution_count": 4,
   "id": "dab90c9a",
   "metadata": {
    "ExecuteTime": {
     "end_time": "2023-07-12T13:15:46.277578Z",
     "start_time": "2023-07-12T13:15:46.263858Z"
    }
   },
   "outputs": [
    {
     "data": {
      "text/html": [
       "<div>\n",
       "<style scoped>\n",
       "    .dataframe tbody tr th:only-of-type {\n",
       "        vertical-align: middle;\n",
       "    }\n",
       "\n",
       "    .dataframe tbody tr th {\n",
       "        vertical-align: top;\n",
       "    }\n",
       "\n",
       "    .dataframe thead th {\n",
       "        text-align: right;\n",
       "    }\n",
       "</style>\n",
       "<table border=\"1\" class=\"dataframe\">\n",
       "  <thead>\n",
       "    <tr style=\"text-align: right;\">\n",
       "      <th></th>\n",
       "      <th>REGION</th>\n",
       "      <th>HEI_NAME</th>\n",
       "      <th>HEI_TYPE</th>\n",
       "      <th>HEI_CITY</th>\n",
       "      <th>HEI_PROVINCE</th>\n",
       "      <th>FHE_GRANTEES</th>\n",
       "      <th>SEX_M</th>\n",
       "      <th>SEX_F</th>\n",
       "      <th>NOT_INDICATED</th>\n",
       "      <th>YEAR</th>\n",
       "    </tr>\n",
       "  </thead>\n",
       "  <tbody>\n",
       "    <tr>\n",
       "      <th>0</th>\n",
       "      <td>01 - Ilocos Region</td>\n",
       "      <td>Binalatongan Community College</td>\n",
       "      <td>LUC</td>\n",
       "      <td>SAN CARLOS CITY</td>\n",
       "      <td>PANGASINAN</td>\n",
       "      <td>721</td>\n",
       "      <td>290</td>\n",
       "      <td>431</td>\n",
       "      <td>NaN</td>\n",
       "      <td>2018-2019</td>\n",
       "    </tr>\n",
       "    <tr>\n",
       "      <th>1</th>\n",
       "      <td>01 - Ilocos Region</td>\n",
       "      <td>Don Mariano Marcos Memorial State University</td>\n",
       "      <td>SUC</td>\n",
       "      <td>SAN FERNANDO CITY</td>\n",
       "      <td>LA UNION</td>\n",
       "      <td>11726</td>\n",
       "      <td>5280</td>\n",
       "      <td>6446</td>\n",
       "      <td>NaN</td>\n",
       "      <td>2018-2019</td>\n",
       "    </tr>\n",
       "    <tr>\n",
       "      <th>2</th>\n",
       "      <td>01 - Ilocos Region</td>\n",
       "      <td>Ilocos Sur Community College</td>\n",
       "      <td>LUC</td>\n",
       "      <td>VIGAN CITY</td>\n",
       "      <td>ILOCOS SUR</td>\n",
       "      <td>987</td>\n",
       "      <td>412</td>\n",
       "      <td>575</td>\n",
       "      <td>NaN</td>\n",
       "      <td>2018-2019</td>\n",
       "    </tr>\n",
       "    <tr>\n",
       "      <th>3</th>\n",
       "      <td>01 - Ilocos Region</td>\n",
       "      <td>Ilocos Sur Polytechnic State College</td>\n",
       "      <td>SUC</td>\n",
       "      <td>SANTA MARIA</td>\n",
       "      <td>ILOCOS SUR</td>\n",
       "      <td>4392</td>\n",
       "      <td>2007</td>\n",
       "      <td>2385</td>\n",
       "      <td>-</td>\n",
       "      <td>2018-2019</td>\n",
       "    </tr>\n",
       "    <tr>\n",
       "      <th>4</th>\n",
       "      <td>01 - Ilocos Region</td>\n",
       "      <td>Mariano Marcos State University</td>\n",
       "      <td>SUC</td>\n",
       "      <td>BATAC CITY</td>\n",
       "      <td>ILOCOS NORTE</td>\n",
       "      <td>7823</td>\n",
       "      <td>3250</td>\n",
       "      <td>4573</td>\n",
       "      <td>-</td>\n",
       "      <td>2018-2019</td>\n",
       "    </tr>\n",
       "  </tbody>\n",
       "</table>\n",
       "</div>"
      ],
      "text/plain": [
       "               REGION                                      HEI_NAME HEI_TYPE  \\\n",
       "0  01 - Ilocos Region                Binalatongan Community College      LUC   \n",
       "1  01 - Ilocos Region  Don Mariano Marcos Memorial State University      SUC   \n",
       "2  01 - Ilocos Region                  Ilocos Sur Community College      LUC   \n",
       "3  01 - Ilocos Region          Ilocos Sur Polytechnic State College      SUC   \n",
       "4  01 - Ilocos Region               Mariano Marcos State University      SUC   \n",
       "\n",
       "            HEI_CITY  HEI_PROVINCE  FHE_GRANTEES SEX_M SEX_F NOT_INDICATED  \\\n",
       "0    SAN CARLOS CITY    PANGASINAN           721   290   431           NaN   \n",
       "1  SAN FERNANDO CITY      LA UNION         11726  5280  6446           NaN   \n",
       "2         VIGAN CITY    ILOCOS SUR           987   412   575           NaN   \n",
       "3        SANTA MARIA    ILOCOS SUR          4392  2007  2385             -   \n",
       "4         BATAC CITY  ILOCOS NORTE          7823  3250  4573             -   \n",
       "\n",
       "        YEAR  \n",
       "0  2018-2019  \n",
       "1  2018-2019  \n",
       "2  2018-2019  \n",
       "3  2018-2019  \n",
       "4  2018-2019  "
      ]
     },
     "execution_count": 4,
     "metadata": {},
     "output_type": "execute_result"
    }
   ],
   "source": [
    "# check the first 5 rows of the data\n",
    "df.head(5)"
   ]
  },
  {
   "cell_type": "code",
   "execution_count": 5,
   "id": "d3466b53",
   "metadata": {
    "ExecuteTime": {
     "end_time": "2023-07-12T13:15:47.162316Z",
     "start_time": "2023-07-12T13:15:47.152236Z"
    }
   },
   "outputs": [
    {
     "name": "stdout",
     "output_type": "stream",
     "text": [
      "<class 'pandas.core.frame.DataFrame'>\n",
      "RangeIndex: 936 entries, 0 to 935\n",
      "Data columns (total 10 columns):\n",
      " #   Column         Non-Null Count  Dtype \n",
      "---  ------         --------------  ----- \n",
      " 0   REGION         936 non-null    object\n",
      " 1   HEI_NAME       936 non-null    object\n",
      " 2   HEI_TYPE       936 non-null    object\n",
      " 3   HEI_CITY       936 non-null    object\n",
      " 4   HEI_PROVINCE   936 non-null    object\n",
      " 5   FHE_GRANTEES   936 non-null    int64 \n",
      " 6   SEX_M          936 non-null    object\n",
      " 7   SEX_F          936 non-null    object\n",
      " 8   NOT_INDICATED  285 non-null    object\n",
      " 9   YEAR           936 non-null    object\n",
      "dtypes: int64(1), object(9)\n",
      "memory usage: 73.3+ KB\n"
     ]
    }
   ],
   "source": [
    "# check metadata of the data\n",
    "df.info()"
   ]
  },
  {
   "cell_type": "markdown",
   "id": "3eb512f3",
   "metadata": {},
   "source": [
    "### Convert Columns into the Correct Data Types"
   ]
  },
  {
   "cell_type": "markdown",
   "id": "1828fab7",
   "metadata": {},
   "source": [
    "#### Identify Numerical and Categorical Columns"
   ]
  },
  {
   "cell_type": "code",
   "execution_count": 6,
   "id": "9e0e1c72",
   "metadata": {
    "ExecuteTime": {
     "end_time": "2023-07-12T13:15:48.875137Z",
     "start_time": "2023-07-12T13:15:48.719927Z"
    }
   },
   "outputs": [
    {
     "data": {
      "image/png": "[encoded data removed]",
      "text/plain": [
       "<Figure size 1000x600 with 1 Axes>"
      ]
     },
     "metadata": {},
     "output_type": "display_data"
    }
   ],
   "source": [
    "# identify features which are categorical\n",
    "cat = df.select_dtypes(['object','category']).columns.to_list()\n",
    "\n",
    "# identify features which are numerical\n",
    "num = df.select_dtypes(['number']).columns.to_list()\n",
    "\n",
    "# create dataframe identifying type of features\n",
    "df_num_cat_col = pd.DataFrame(num+cat, columns=['Feature_Name'])\n",
    "df_num_cat_col['Feature_Type'] = df_num_cat_col.where(\n",
    "    ~df_num_cat_col['Feature_Name'].isin(cat),\n",
    "    'categorical').where(df_num_cat_col['Feature_Name'].isin(cat),\n",
    "                         'numerical')\n",
    "\n",
    "# create a bar plot\n",
    "plt.figure(figsize=(10, 6))\n",
    "plt.bar(df_num_cat_col['Feature_Name'], df_num_cat_col['Feature_Type'])\n",
    "plt.xticks(rotation=90)\n",
    "plt.xlabel('Feature Name')\n",
    "plt.ylabel('Feature Type')\n",
    "plt.title('Feature Types')\n",
    "\n",
    "# display the plot\n",
    "plt.show()"
   ]
  },
  {
   "cell_type": "markdown",
   "id": "7f237f66",
   "metadata": {},
   "source": [
    "##### Identify the Correct Numerical and Categorical Columns Manually (Don't Forget to Edit the Cell Below)"
   ]
  },
  {
   "cell_type": "code",
   "execution_count": 7,
   "id": "f3761cef",
   "metadata": {
    "ExecuteTime": {
     "end_time": "2023-07-12T13:15:52.869385Z",
     "start_time": "2023-07-12T13:15:52.865147Z"
    }
   },
   "outputs": [],
   "source": [
    "# identify numerical columns manually\n",
    "num_col = ['SEX_M', 'SEX_F', 'NOT_INDICATED', 'FHE_GRANTEES']\n",
    "\n",
    "# identify categorical columns manually\n",
    "cat_col = ['REGION', 'HEI_NAME', 'HEI_TYPE', 'HEI_CITY', 'HEI_PROVINCE',\n",
    "               'YEAR']"
   ]
  },
  {
   "cell_type": "code",
   "execution_count": 8,
   "id": "3cfb1994",
   "metadata": {
    "ExecuteTime": {
     "end_time": "2023-07-12T13:15:53.501716Z",
     "start_time": "2023-07-12T13:15:53.495706Z"
    }
   },
   "outputs": [],
   "source": [
    "# convert data type of numerical columns to correct ones\n",
    "for col in num_col:\n",
    "    df[col] = pd.to_numeric(df[col], errors='coerce')"
   ]
  },
  {
   "cell_type": "code",
   "execution_count": 9,
   "id": "72cc245c",
   "metadata": {
    "ExecuteTime": {
     "end_time": "2023-07-12T13:15:54.192093Z",
     "start_time": "2023-07-12T13:15:54.184170Z"
    }
   },
   "outputs": [
    {
     "name": "stdout",
     "output_type": "stream",
     "text": [
      "<class 'pandas.core.frame.DataFrame'>\n",
      "RangeIndex: 936 entries, 0 to 935\n",
      "Data columns (total 10 columns):\n",
      " #   Column         Non-Null Count  Dtype  \n",
      "---  ------         --------------  -----  \n",
      " 0   REGION         936 non-null    object \n",
      " 1   HEI_NAME       936 non-null    object \n",
      " 2   HEI_TYPE       936 non-null    object \n",
      " 3   HEI_CITY       936 non-null    object \n",
      " 4   HEI_PROVINCE   936 non-null    object \n",
      " 5   FHE_GRANTEES   936 non-null    int64  \n",
      " 6   SEX_M          918 non-null    float64\n",
      " 7   SEX_F          918 non-null    float64\n",
      " 8   NOT_INDICATED  215 non-null    float64\n",
      " 9   YEAR           936 non-null    object \n",
      "dtypes: float64(3), int64(1), object(6)\n",
      "memory usage: 73.3+ KB\n"
     ]
    }
   ],
   "source": [
    "# check if columns are converted to the correct data types\n",
    "df.info()"
   ]
  },
  {
   "cell_type": "markdown",
   "id": "95d15010",
   "metadata": {},
   "source": [
    "#### Identify Numerical and Categorical Columns for the Data (Demo for Automatic Selection)"
   ]
  },
  {
   "cell_type": "code",
   "execution_count": 10,
   "id": "0425d55b",
   "metadata": {
    "ExecuteTime": {
     "end_time": "2023-07-12T13:15:56.597077Z",
     "start_time": "2023-07-12T13:15:56.592472Z"
    }
   },
   "outputs": [],
   "source": [
    "# note that you have first to make sure that the columns are of the correct data type\n",
    "# identify numerical columns automatically\n",
    "num_col = df.select_dtypes(['number']).columns.to_list()\n",
    "\n",
    "# identify categorical columns automatically\n",
    "cat_col = df.select_dtypes(['object','category']).columns.to_list()"
   ]
  },
  {
   "cell_type": "code",
   "execution_count": 11,
   "id": "90985248",
   "metadata": {
    "ExecuteTime": {
     "end_time": "2023-07-12T13:15:57.348093Z",
     "start_time": "2023-07-12T13:15:57.343661Z"
    }
   },
   "outputs": [
    {
     "name": "stdout",
     "output_type": "stream",
     "text": [
      "Numerical Columns\n",
      "['FHE_GRANTEES', 'SEX_M', 'SEX_F', 'NOT_INDICATED']\n",
      "Categorical Columns\n",
      "['REGION', 'HEI_NAME', 'HEI_TYPE', 'HEI_CITY', 'HEI_PROVINCE', 'YEAR']\n"
     ]
    }
   ],
   "source": [
    "# check if the columns are identifed correctly\n",
    "print('Numerical Columns')\n",
    "print(num_col)\n",
    "print('Categorical Columns')\n",
    "print(cat_col)"
   ]
  },
  {
   "cell_type": "code",
   "execution_count": 12,
   "id": "0932deac",
   "metadata": {
    "ExecuteTime": {
     "end_time": "2023-07-12T13:15:58.249785Z",
     "start_time": "2023-07-12T13:15:58.112046Z"
    }
   },
   "outputs": [
    {
     "data": {
      "image/png": "[encoded data removed]",
      "text/plain": [
       "<Figure size 1000x600 with 1 Axes>"
      ]
     },
     "metadata": {},
     "output_type": "display_data"
    }
   ],
   "source": [
    "# identify features which are categorical\n",
    "cat = df.select_dtypes(['object','category']).columns.to_list()\n",
    "\n",
    "# identify features which are numerical\n",
    "num = df.select_dtypes(['number']).columns.to_list()\n",
    "\n",
    "# create dataframe identifying type of features\n",
    "df_num_cat_col = pd.DataFrame(num+cat, columns=['Feature_Name'])\n",
    "df_num_cat_col['Feature_Type'] = df_num_cat_col.where(\n",
    "    ~df_num_cat_col['Feature_Name'].isin(cat),\n",
    "    'categorical').where(df_num_cat_col['Feature_Name'].isin(cat),\n",
    "                         'numerical')\n",
    "\n",
    "# create a bar plot\n",
    "plt.figure(figsize=(10, 6))\n",
    "plt.bar(df_num_cat_col['Feature_Name'], df_num_cat_col['Feature_Type'])\n",
    "plt.xticks(rotation=90)\n",
    "plt.xlabel('Feature Name')\n",
    "plt.ylabel('Feature Type')\n",
    "plt.title('Feature Types')\n",
    "\n",
    "# display the plot\n",
    "plt.show()"
   ]
  },
  {
   "cell_type": "markdown",
   "id": "64bad9ac",
   "metadata": {
    "ExecuteTime": {
     "end_time": "2023-07-12T08:32:33.349773Z",
     "start_time": "2023-07-12T08:32:33.347167Z"
    }
   },
   "source": [
    "### Check for any Duplicate Records"
   ]
  },
  {
   "cell_type": "code",
   "execution_count": 13,
   "id": "774f3f6e",
   "metadata": {
    "ExecuteTime": {
     "end_time": "2023-07-12T13:15:59.581871Z",
     "start_time": "2023-07-12T13:15:59.576478Z"
    }
   },
   "outputs": [
    {
     "data": {
      "text/plain": [
       "False"
      ]
     },
     "execution_count": 13,
     "metadata": {},
     "output_type": "execute_result"
    }
   ],
   "source": [
    "# check for rows/records that are duplicated\n",
    "df.duplicated().any()"
   ]
  },
  {
   "cell_type": "code",
   "execution_count": 14,
   "id": "5079cd6c",
   "metadata": {
    "ExecuteTime": {
     "end_time": "2023-07-12T13:16:00.186810Z",
     "start_time": "2023-07-12T13:16:00.184257Z"
    }
   },
   "outputs": [],
   "source": [
    "# note that it is best practice to have a unique record identifier for each record for streamlined removal of duplicate records\n",
    "\n",
    "# if there are duplicate records, you may run the code below to remove them\n",
    "# df.drop_duplicates(keep='first', inplace=True)"
   ]
  },
  {
   "cell_type": "markdown",
   "id": "b67f9e64",
   "metadata": {},
   "source": [
    "### Check for Missing Values"
   ]
  },
  {
   "cell_type": "code",
   "execution_count": 15,
   "id": "a918524d",
   "metadata": {
    "ExecuteTime": {
     "end_time": "2023-07-12T13:16:01.336714Z",
     "start_time": "2023-07-12T13:16:01.327731Z"
    }
   },
   "outputs": [
    {
     "name": "stdout",
     "output_type": "stream",
     "text": [
      "<class 'pandas.core.frame.DataFrame'>\n",
      "RangeIndex: 936 entries, 0 to 935\n",
      "Data columns (total 10 columns):\n",
      " #   Column         Non-Null Count  Dtype  \n",
      "---  ------         --------------  -----  \n",
      " 0   REGION         936 non-null    object \n",
      " 1   HEI_NAME       936 non-null    object \n",
      " 2   HEI_TYPE       936 non-null    object \n",
      " 3   HEI_CITY       936 non-null    object \n",
      " 4   HEI_PROVINCE   936 non-null    object \n",
      " 5   FHE_GRANTEES   936 non-null    int64  \n",
      " 6   SEX_M          918 non-null    float64\n",
      " 7   SEX_F          918 non-null    float64\n",
      " 8   NOT_INDICATED  215 non-null    float64\n",
      " 9   YEAR           936 non-null    object \n",
      "dtypes: float64(3), int64(1), object(6)\n",
      "memory usage: 73.3+ KB\n"
     ]
    }
   ],
   "source": [
    "# check if columns have missing values\n",
    "df.info()"
   ]
  },
  {
   "cell_type": "code",
   "execution_count": 16,
   "id": "35bd37cc",
   "metadata": {
    "ExecuteTime": {
     "end_time": "2023-07-12T13:16:02.448005Z",
     "start_time": "2023-07-12T13:16:02.311701Z"
    }
   },
   "outputs": [
    {
     "data": {
      "image/png": "[encoded data removed]",
      "text/plain": [
       "<Figure size 1000x600 with 1 Axes>"
      ]
     },
     "metadata": {},
     "output_type": "display_data"
    }
   ],
   "source": [
    "# create new data frame identifying columns with missing values\n",
    "if df.isnull().sum().sum()>0:\n",
    "    df_na = pd.DataFrame(df.isnull().sum(), columns=['count_na'])\n",
    "    df_na = df_na[df_na['count_na']>0]\n",
    "\n",
    "    # create bar plot for columns with missing values\n",
    "    df_na['count_na'].sort_values(ascending=False).plot(kind='bar', figsize=(10,6))\n",
    "    plt.xlabel('Feature Name')\n",
    "    plt.ylabel('Count of Missing Values')\n",
    "\n",
    "    # display the plot\n",
    "    plt.show()\n",
    "else:\n",
    "    print('The data does not contain missing values.')"
   ]
  },
  {
   "cell_type": "markdown",
   "id": "d16bba9d",
   "metadata": {},
   "source": [
    "### Simple Imputation on Missing Values"
   ]
  },
  {
   "cell_type": "markdown",
   "id": "798a628e",
   "metadata": {},
   "source": [
    "#### Do we include the \"NOT_INDICATED\" column in the imputation?"
   ]
  },
  {
   "cell_type": "markdown",
   "id": "fbaaa9ff",
   "metadata": {},
   "source": [
    "We do not include the `NOT_INDICATED` column since it is logical to say that empty values here mean `0` as its data point."
   ]
  },
  {
   "cell_type": "code",
   "execution_count": 17,
   "id": "5f0612db",
   "metadata": {
    "ExecuteTime": {
     "end_time": "2023-07-12T13:16:05.019021Z",
     "start_time": "2023-07-12T13:16:05.015764Z"
    }
   },
   "outputs": [],
   "source": [
    "# get only the column that will be imputed with non-zero values\n",
    "num_col_impute = ['SEX_M', 'SEX_F', 'FHE_GRANTEES']"
   ]
  },
  {
   "cell_type": "markdown",
   "id": "604566ea",
   "metadata": {},
   "source": [
    "#### Impute by Mean for Numerical Columns in the Data"
   ]
  },
  {
   "cell_type": "code",
   "execution_count": 18,
   "id": "f17471a4",
   "metadata": {
    "ExecuteTime": {
     "end_time": "2023-07-12T13:16:06.086827Z",
     "start_time": "2023-07-12T13:16:06.080862Z"
    }
   },
   "outputs": [],
   "source": [
    "# impute the mean of each column into the missing values for each column\n",
    "df[num_col_impute] = df[num_col_impute].fillna(df[num_col_impute].mean())"
   ]
  },
  {
   "cell_type": "code",
   "execution_count": 19,
   "id": "4e0fa158",
   "metadata": {
    "ExecuteTime": {
     "end_time": "2023-07-12T13:16:08.677879Z",
     "start_time": "2023-07-12T13:16:08.672059Z"
    }
   },
   "outputs": [
    {
     "data": {
      "text/plain": [
       "False"
      ]
     },
     "execution_count": 19,
     "metadata": {},
     "output_type": "execute_result"
    }
   ],
   "source": [
    "# check for missing values for numerical columns with non-zero values\n",
    "df[num_col_impute].isnull().any().any()"
   ]
  },
  {
   "cell_type": "markdown",
   "id": "3cf733ba",
   "metadata": {},
   "source": [
    "#### Replace Missing Values in \"NOT_INDICATED\" column with Zeroes"
   ]
  },
  {
   "cell_type": "code",
   "execution_count": 20,
   "id": "96aaff18",
   "metadata": {
    "ExecuteTime": {
     "end_time": "2023-07-12T13:16:09.682632Z",
     "start_time": "2023-07-12T13:16:09.680402Z"
    }
   },
   "outputs": [],
   "source": [
    "# get only the column that will be imputed with zero values\n",
    "num_col_0 = ['NOT_INDICATED']"
   ]
  },
  {
   "cell_type": "code",
   "execution_count": 21,
   "id": "b2957b70",
   "metadata": {
    "ExecuteTime": {
     "end_time": "2023-07-12T13:16:10.339443Z",
     "start_time": "2023-07-12T13:16:10.335958Z"
    }
   },
   "outputs": [],
   "source": [
    "# replace missing values with zeroes\n",
    "df[num_col_0] = df[num_col_0].fillna(0)"
   ]
  },
  {
   "cell_type": "code",
   "execution_count": 22,
   "id": "6a9a7d99",
   "metadata": {
    "ExecuteTime": {
     "end_time": "2023-07-12T13:16:11.029801Z",
     "start_time": "2023-07-12T13:16:11.023671Z"
    }
   },
   "outputs": [
    {
     "data": {
      "text/plain": [
       "False"
      ]
     },
     "execution_count": 22,
     "metadata": {},
     "output_type": "execute_result"
    }
   ],
   "source": [
    "# check for missing values for numerical columns with zero values\n",
    "df[num_col_0].isnull().any().any()"
   ]
  },
  {
   "cell_type": "markdown",
   "id": "05e8f327",
   "metadata": {},
   "source": [
    "#### Impute by Mode for Categorical Columns in Data"
   ]
  },
  {
   "cell_type": "code",
   "execution_count": 23,
   "id": "b7289a38",
   "metadata": {
    "ExecuteTime": {
     "end_time": "2023-07-12T13:16:11.906614Z",
     "start_time": "2023-07-12T13:16:11.896441Z"
    }
   },
   "outputs": [],
   "source": [
    "# impute the mode of each column into the missing values for each column\n",
    "df[cat_col] = df[cat_col].fillna(df[cat_col].mode().iloc[0])"
   ]
  },
  {
   "cell_type": "code",
   "execution_count": 24,
   "id": "105f4f67",
   "metadata": {
    "ExecuteTime": {
     "end_time": "2023-07-12T13:16:14.422306Z",
     "start_time": "2023-07-12T13:16:14.416741Z"
    }
   },
   "outputs": [
    {
     "data": {
      "text/plain": [
       "False"
      ]
     },
     "execution_count": 24,
     "metadata": {},
     "output_type": "execute_result"
    }
   ],
   "source": [
    "# check for missing values for all categorical column\n",
    "df[cat_col].isnull().any().any()"
   ]
  },
  {
   "cell_type": "markdown",
   "id": "73ec0dae",
   "metadata": {},
   "source": [
    "### Identify Number of Unique Values in all Features/Columns"
   ]
  },
  {
   "cell_type": "code",
   "execution_count": 25,
   "id": "856a6b92",
   "metadata": {
    "ExecuteTime": {
     "end_time": "2023-07-12T13:16:15.530253Z",
     "start_time": "2023-07-12T13:16:15.335550Z"
    }
   },
   "outputs": [
    {
     "data": {
      "image/png": "[encoded data removed]",
      "text/plain": [
       "<Figure size 1000x600 with 1 Axes>"
      ]
     },
     "metadata": {},
     "output_type": "display_data"
    }
   ],
   "source": [
    "# create bar plot of unique values in each column\n",
    "df.nunique().sort_values(ascending=False).plot(kind='bar', figsize=(10,6))\n",
    "plt.xlabel('Feature Name')\n",
    "plt.ylabel('Count of Unique Values')\n",
    "\n",
    "# display the plot\n",
    "plt.show()"
   ]
  },
  {
   "cell_type": "code",
   "execution_count": 26,
   "id": "b7282af1",
   "metadata": {
    "ExecuteTime": {
     "end_time": "2023-07-12T13:16:16.973479Z",
     "start_time": "2023-07-12T13:16:16.968131Z"
    }
   },
   "outputs": [
    {
     "name": "stdout",
     "output_type": "stream",
     "text": [
      "No categorical columns that have less than or equal to 1 unique values.\n"
     ]
    }
   ],
   "source": [
    "# check for columns that have less than or equal to 1 unique values\n",
    "col_uniq_1 = list(df.columns[df.nunique() <= 1])\n",
    "if len(col_uniq_1)>0:\n",
    "    print(col_uniq_1)\n",
    "else:\n",
    "    print('No categorical columns that have less than or equal to 1 unique values.')"
   ]
  },
  {
   "cell_type": "code",
   "execution_count": 27,
   "id": "8b416fa7",
   "metadata": {
    "ExecuteTime": {
     "end_time": "2023-07-12T13:16:17.746814Z",
     "start_time": "2023-07-12T13:16:17.744415Z"
    }
   },
   "outputs": [],
   "source": [
    "# if there is a column with only 1 unique value, remove the column with the code below\n",
    "# df.drop(col_uniq_1, axis=1, inplace=True)"
   ]
  },
  {
   "cell_type": "markdown",
   "id": "72a4742e",
   "metadata": {},
   "source": [
    "### Further Considerations"
   ]
  },
  {
   "cell_type": "markdown",
   "id": "4ae7aab2",
   "metadata": {},
   "source": [
    "Always inspect the metadata of the given dataset for unique identifier column (e.g. `EmployeeID`). Unless there is a specific purpose in mind in the process of data analysis, this column should be removed as this is only an identifier of a record.\n",
    "\n",
    "Below is an example of a column that act as a unique identifier.\n",
    "\n",
    "| Feature Number | Feature Name | Feature Description |\n",
    "| :---:        | :---        | :---          |\n",
    "|10\t|EmployeeNumber\t|A unique identifier for each record of an employee"
   ]
  },
  {
   "cell_type": "markdown",
   "id": "d221de93",
   "metadata": {},
   "source": [
    "## Save the Pre-processed Data as Comma Separated Values (CSV)"
   ]
  },
  {
   "cell_type": "code",
   "execution_count": 28,
   "id": "bc54d69f",
   "metadata": {
    "ExecuteTime": {
     "end_time": "2023-07-12T13:16:20.035405Z",
     "start_time": "2023-07-12T13:16:20.024434Z"
    }
   },
   "outputs": [],
   "source": [
    "# save the preprocessed data as csv file\n",
    "path_out = 'fhe_clean_data.csv'\n",
    "df.to_csv(path_out, sep=',', index=False)"
   ]
  },
  {
   "cell_type": "markdown",
   "id": "3c0dc88c",
   "metadata": {},
   "source": [
    "## Activity (By Pair)"
   ]
  },
  {
   "cell_type": "markdown",
   "id": "414c1f08",
   "metadata": {},
   "source": [
    "Group by pair and re-run this notebook on the TES Data. Note your observations and analyze the TES Data and try to answer the following questions:\n",
    "- What are the similarities and differences between the TES and FHE data?\n",
    "- Are there any missing values in the TES Data? If there are none, what could this indicate?\n",
    "- What impact could the presence or absence of missing values have on the analysis and interpretation of the TES Data?\n",
    "\n",
    "Presentation Instructions:\n",
    "\n",
    "- Prepare a PowerPoint (PPT) presentation with 1-2 slides based on your findings.\n",
    "- 2-3 groups will be called to present their findings.\n",
    "- Each group is given 1 minute to present their findings.\n",
    "- Ensure your presentation includes:\n",
    "    - Slide 1: Introduction (briefly explain the purpose of the dataset)\n",
    "    - Slide 2: Findings"
   ]
  }
 ],
 "metadata": {
  "hide_input": false,
  "kernelspec": {
   "display_name": "Python 3 (ipykernel)",
   "language": "python",
   "name": "python3"
  },
  "language_info": {
   "codemirror_mode": {
    "name": "ipython",
    "version": 3
   },
   "file_extension": ".py",
   "mimetype": "text/x-python",
   "name": "python",
   "nbconvert_exporter": "python",
   "pygments_lexer": "ipython3",
   "version": "3.11.4"
  },
  "toc": {
   "base_numbering": 1,
   "nav_menu": {},
   "number_sections": true,
   "sideBar": true,
   "skip_h1_title": false,
   "title_cell": "Table of Contents",
   "title_sidebar": "Contents",
   "toc_cell": false,
   "toc_position": {
    "height": "calc(100% - 180px)",
    "left": "10px",
    "top": "150px",
    "width": "366px"
   },
   "toc_section_display": true,
   "toc_window_display": false
  }
 },
 "nbformat": 4,
 "nbformat_minor": 5
}
