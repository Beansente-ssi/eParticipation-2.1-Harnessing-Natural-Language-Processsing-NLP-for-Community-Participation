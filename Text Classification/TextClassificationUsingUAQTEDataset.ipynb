{
 "cells": [
  {
   "cell_type": "markdown",
   "id": "1155e8a6",
   "metadata": {},
   "source": [
    "<h1>Text Classification Using UAQTE Dataset (e-Participation 2.1)</h1>"
   ]
  },
  {
   "cell_type": "markdown",
   "id": "8b4b8839",
   "metadata": {},
   "source": [
    "<h1><b>INSTALLING PACKAGES</b></h1>"
   ]
  },
  {
   "cell_type": "code",
   "execution_count": 3,
   "id": "5e6373bf",
   "metadata": {
    "scrolled": true
   },
   "outputs": [
    {
     "name": "stdout",
     "output_type": "stream",
     "text": [
      "Requirement already satisfied: pandas in d:\\anaconda3\\lib\\site-packages (2.2.2)\n",
      "Requirement already satisfied: numpy>=1.26.0 in d:\\anaconda3\\lib\\site-packages (from pandas) (1.26.4)\n",
      "Requirement already satisfied: python-dateutil>=2.8.2 in d:\\anaconda3\\lib\\site-packages (from pandas) (2.9.0.post0)\n",
      "Requirement already satisfied: pytz>=2020.1 in d:\\anaconda3\\lib\\site-packages (from pandas) (2024.1)\n",
      "Requirement already satisfied: tzdata>=2022.7 in d:\\anaconda3\\lib\\site-packages (from pandas) (2023.3)\n",
      "Requirement already satisfied: six>=1.5 in d:\\anaconda3\\lib\\site-packages (from python-dateutil>=2.8.2->pandas) (1.16.0)\n",
      "Note: you may need to restart the kernel to use updated packages.\n"
     ]
    }
   ],
   "source": [
    "pip install pandas"
   ]
  },
  {
   "cell_type": "code",
   "execution_count": 4,
   "id": "902f7fcb",
   "metadata": {},
   "outputs": [
    {
     "name": "stdout",
     "output_type": "stream",
     "text": [
      "Requirement already satisfied: seaborn in d:\\anaconda3\\lib\\site-packages (0.13.2)\n",
      "Requirement already satisfied: numpy!=1.24.0,>=1.20 in d:\\anaconda3\\lib\\site-packages (from seaborn) (1.26.4)\n",
      "Requirement already satisfied: pandas>=1.2 in d:\\anaconda3\\lib\\site-packages (from seaborn) (2.2.2)\n",
      "Requirement already satisfied: matplotlib!=3.6.1,>=3.4 in d:\\anaconda3\\lib\\site-packages (from seaborn) (3.9.2)\n",
      "Requirement already satisfied: contourpy>=1.0.1 in d:\\anaconda3\\lib\\site-packages (from matplotlib!=3.6.1,>=3.4->seaborn) (1.2.0)\n",
      "Requirement already satisfied: cycler>=0.10 in d:\\anaconda3\\lib\\site-packages (from matplotlib!=3.6.1,>=3.4->seaborn) (0.11.0)\n",
      "Requirement already satisfied: fonttools>=4.22.0 in d:\\anaconda3\\lib\\site-packages (from matplotlib!=3.6.1,>=3.4->seaborn) (4.51.0)\n",
      "Requirement already satisfied: kiwisolver>=1.3.1 in d:\\anaconda3\\lib\\site-packages (from matplotlib!=3.6.1,>=3.4->seaborn) (1.4.4)\n",
      "Requirement already satisfied: packaging>=20.0 in d:\\anaconda3\\lib\\site-packages (from matplotlib!=3.6.1,>=3.4->seaborn) (24.1)\n",
      "Requirement already satisfied: pillow>=8 in d:\\anaconda3\\lib\\site-packages (from matplotlib!=3.6.1,>=3.4->seaborn) (10.4.0)\n",
      "Requirement already satisfied: pyparsing>=2.3.1 in d:\\anaconda3\\lib\\site-packages (from matplotlib!=3.6.1,>=3.4->seaborn) (3.1.2)\n",
      "Requirement already satisfied: python-dateutil>=2.7 in d:\\anaconda3\\lib\\site-packages (from matplotlib!=3.6.1,>=3.4->seaborn) (2.9.0.post0)\n",
      "Requirement already satisfied: pytz>=2020.1 in d:\\anaconda3\\lib\\site-packages (from pandas>=1.2->seaborn) (2024.1)\n",
      "Requirement already satisfied: tzdata>=2022.7 in d:\\anaconda3\\lib\\site-packages (from pandas>=1.2->seaborn) (2023.3)\n",
      "Requirement already satisfied: six>=1.5 in d:\\anaconda3\\lib\\site-packages (from python-dateutil>=2.7->matplotlib!=3.6.1,>=3.4->seaborn) (1.16.0)\n",
      "Note: you may need to restart the kernel to use updated packages.\n"
     ]
    }
   ],
   "source": [
    "pip install seaborn"
   ]
  },
  {
   "cell_type": "code",
   "execution_count": 5,
   "id": "d5b9a11d",
   "metadata": {},
   "outputs": [
    {
     "name": "stdout",
     "output_type": "stream",
     "text": [
      "Requirement already satisfied: scikit-learn in d:\\anaconda3\\lib\\site-packages (1.5.1)\n",
      "Requirement already satisfied: numpy>=1.19.5 in d:\\anaconda3\\lib\\site-packages (from scikit-learn) (1.26.4)\n",
      "Requirement already satisfied: scipy>=1.6.0 in d:\\anaconda3\\lib\\site-packages (from scikit-learn) (1.13.1)\n",
      "Requirement already satisfied: joblib>=1.2.0 in d:\\anaconda3\\lib\\site-packages (from scikit-learn) (1.4.2)\n",
      "Requirement already satisfied: threadpoolctl>=3.1.0 in d:\\anaconda3\\lib\\site-packages (from scikit-learn) (3.5.0)\n",
      "Note: you may need to restart the kernel to use updated packages.\n"
     ]
    }
   ],
   "source": [
    "pip install scikit-learn"
   ]
  },
  {
   "cell_type": "code",
   "execution_count": 6,
   "id": "61388e47",
   "metadata": {},
   "outputs": [
    {
     "name": "stdout",
     "output_type": "stream",
     "text": [
      "Requirement already satisfied: gensim in d:\\anaconda3\\lib\\site-packages (4.3.3)\n",
      "Requirement already satisfied: numpy<2.0,>=1.18.5 in d:\\anaconda3\\lib\\site-packages (from gensim) (1.26.4)\n",
      "Requirement already satisfied: scipy<1.14.0,>=1.7.0 in d:\\anaconda3\\lib\\site-packages (from gensim) (1.13.1)\n",
      "Requirement already satisfied: smart-open>=1.8.1 in d:\\anaconda3\\lib\\site-packages (from gensim) (5.2.1)\n",
      "Note: you may need to restart the kernel to use updated packages.\n"
     ]
    }
   ],
   "source": [
    "pip install gensim"
   ]
  },
  {
   "cell_type": "markdown",
   "id": "afa4218d",
   "metadata": {},
   "source": [
    "<h1><b>IMPORTING LIBRARIES</b></h1>"
   ]
  },
  {
   "cell_type": "code",
   "execution_count": 8,
   "id": "6e5d50bb",
   "metadata": {},
   "outputs": [
    {
     "name": "stderr",
     "output_type": "stream",
     "text": [
      "[nltk_data] Downloading package punkt to\n",
      "[nltk_data]     C:\\Users\\Vincent\\AppData\\Roaming\\nltk_data...\n",
      "[nltk_data]   Package punkt is already up-to-date!\n",
      "[nltk_data] Downloading package averaged_perceptron_tagger to\n",
      "[nltk_data]     C:\\Users\\Vincent\\AppData\\Roaming\\nltk_data...\n",
      "[nltk_data]   Package averaged_perceptron_tagger is already up-to-\n",
      "[nltk_data]       date!\n",
      "[nltk_data] Downloading package wordnet to\n",
      "[nltk_data]     C:\\Users\\Vincent\\AppData\\Roaming\\nltk_data...\n",
      "[nltk_data]   Package wordnet is already up-to-date!\n"
     ]
    }
   ],
   "source": [
    "#CELL No. 1\n",
    "\n",
    "import pandas as pd\n",
    "import numpy as np\n",
    "import seaborn as sns\n",
    "import matplotlib.pyplot as plt\n",
    "\n",
    "#for text pre-processing\n",
    "import re, string\n",
    "import nltk\n",
    "from nltk.tokenize import word_tokenize\n",
    "from nltk.corpus import stopwords\n",
    "from nltk.tokenize import word_tokenize\n",
    "from nltk.stem import SnowballStemmer\n",
    "from nltk.corpus import wordnet\n",
    "from nltk.stem import WordNetLemmatizer\n",
    "\n",
    "nltk.download('punkt') #divides a text into list of sentences\n",
    "nltk.download('averaged_perceptron_tagger') #POS tagger\n",
    "nltk.download('wordnet')\n",
    "\n",
    "#for model-building\n",
    "from sklearn.model_selection import train_test_split\n",
    "from sklearn.linear_model import LogisticRegression\n",
    "from sklearn.linear_model import SGDClassifier\n",
    "from sklearn.naive_bayes import MultinomialNB\n",
    "\n",
    "#performance metrics\n",
    "from sklearn.metrics import classification_report, f1_score, accuracy_score, confusion_matrix\n",
    "#from sklearn.metrics import roc_curve, auc, roc_auc_score\n",
    "from sklearn import model_selection, preprocessing, linear_model, naive_bayes, metrics, svm\n",
    "\n",
    "# bag of words\n",
    "from sklearn.feature_extraction.text import TfidfVectorizer\n",
    "from sklearn.feature_extraction.text import CountVectorizer\n",
    "\n",
    "#for word embedding\n",
    "import gensim\n",
    "from gensim.models import Word2Vec #Word2Vec is mostly used for huge datasets"
   ]
  },
  {
   "cell_type": "markdown",
   "id": "64ebc00b",
   "metadata": {},
   "source": [
    "<h1><b>LOADING AND EXPLORING THE DATASET</b></h1>"
   ]
  },
  {
   "cell_type": "code",
   "execution_count": 10,
   "id": "a3bb0b94",
   "metadata": {},
   "outputs": [
    {
     "name": "stdout",
     "output_type": "stream",
     "text": [
      "(3900, 3)\n"
     ]
    },
    {
     "data": {
      "text/html": [
       "<div>\n",
       "<style scoped>\n",
       "    .dataframe tbody tr th:only-of-type {\n",
       "        vertical-align: middle;\n",
       "    }\n",
       "\n",
       "    .dataframe tbody tr th {\n",
       "        vertical-align: top;\n",
       "    }\n",
       "\n",
       "    .dataframe thead th {\n",
       "        text-align: right;\n",
       "    }\n",
       "</style>\n",
       "<table border=\"1\" class=\"dataframe\">\n",
       "  <thead>\n",
       "    <tr style=\"text-align: right;\">\n",
       "      <th></th>\n",
       "      <th>platform-group</th>\n",
       "      <th>text</th>\n",
       "      <th>label</th>\n",
       "    </tr>\n",
       "  </thead>\n",
       "  <tbody>\n",
       "    <tr>\n",
       "      <th>0</th>\n",
       "      <td>Youtube</td>\n",
       "      <td>ang problema ng mga stupedyante din kc nagmama...</td>\n",
       "      <td>0</td>\n",
       "    </tr>\n",
       "    <tr>\n",
       "      <th>1</th>\n",
       "      <td>Youtube</td>\n",
       "      <td>Ano naman ngayon kung may panuntunang dapat su...</td>\n",
       "      <td>0</td>\n",
       "    </tr>\n",
       "    <tr>\n",
       "      <th>2</th>\n",
       "      <td>Youtube</td>\n",
       "      <td>ANTITRINITARIAN sobrang mura na nga 50% pa.</td>\n",
       "      <td>0</td>\n",
       "    </tr>\n",
       "    <tr>\n",
       "      <th>3</th>\n",
       "      <td>Youtube</td>\n",
       "      <td>aquino gusto namin ang no or less tuition pero...</td>\n",
       "      <td>0</td>\n",
       "    </tr>\n",
       "    <tr>\n",
       "      <th>4</th>\n",
       "      <td>Youtube</td>\n",
       "      <td>BKIT DI NINYO ISINAMA ANG NGA GURO NA MAARING ...</td>\n",
       "      <td>0</td>\n",
       "    </tr>\n",
       "    <tr>\n",
       "      <th>5</th>\n",
       "      <td>Youtube</td>\n",
       "      <td>Bakit di nyo yan ginawa nun panahon ni PNOY??</td>\n",
       "      <td>0</td>\n",
       "    </tr>\n",
       "    <tr>\n",
       "      <th>6</th>\n",
       "      <td>Youtube</td>\n",
       "      <td>bakit kasi kelangan pa icategory\\n\\ndi nlng ga...</td>\n",
       "      <td>0</td>\n",
       "    </tr>\n",
       "    <tr>\n",
       "      <th>7</th>\n",
       "      <td>Youtube</td>\n",
       "      <td>Bakit nung kay pinoy di nila sinulong yan😂</td>\n",
       "      <td>0</td>\n",
       "    </tr>\n",
       "    <tr>\n",
       "      <th>8</th>\n",
       "      <td>Youtube</td>\n",
       "      <td>Bakit pa sya Sinabing State University or coll...</td>\n",
       "      <td>0</td>\n",
       "    </tr>\n",
       "    <tr>\n",
       "      <th>9</th>\n",
       "      <td>Youtube</td>\n",
       "      <td>dapat ang una cgurong gawin dito sa mga nais m...</td>\n",
       "      <td>0</td>\n",
       "    </tr>\n",
       "  </tbody>\n",
       "</table>\n",
       "</div>"
      ],
      "text/plain": [
       "  platform-group                                               text  label\n",
       "0        Youtube  ang problema ng mga stupedyante din kc nagmama...      0\n",
       "1        Youtube  Ano naman ngayon kung may panuntunang dapat su...      0\n",
       "2        Youtube        ANTITRINITARIAN sobrang mura na nga 50% pa.      0\n",
       "3        Youtube  aquino gusto namin ang no or less tuition pero...      0\n",
       "4        Youtube  BKIT DI NINYO ISINAMA ANG NGA GURO NA MAARING ...      0\n",
       "5        Youtube      Bakit di nyo yan ginawa nun panahon ni PNOY??      0\n",
       "6        Youtube  bakit kasi kelangan pa icategory\\n\\ndi nlng ga...      0\n",
       "7        Youtube         Bakit nung kay pinoy di nila sinulong yan😂      0\n",
       "8        Youtube  Bakit pa sya Sinabing State University or coll...      0\n",
       "9        Youtube  dapat ang una cgurong gawin dito sa mga nais m...      0"
      ]
     },
     "execution_count": 10,
     "metadata": {},
     "output_type": "execute_result"
    }
   ],
   "source": [
    "#CELL NO. 2\n",
    "\n",
    "# Import social media dataset and load to a dataframe\n",
    "\n",
    "df_uaqte=pd.read_csv('uaqte_balanced_dataset.csv')\n",
    "print(df_uaqte.shape)\n",
    "df_uaqte.head(10)"
   ]
  },
  {
   "cell_type": "code",
   "execution_count": 11,
   "id": "5faffb6b",
   "metadata": {},
   "outputs": [
    {
     "name": "stdout",
     "output_type": "stream",
     "text": [
      "label\n",
      "0    1300\n",
      "1    1300\n",
      "2    1300\n",
      "Name: count, dtype: int64\n"
     ]
    },
    {
     "data": {
      "text/plain": [
       "<Axes: xlabel='label', ylabel='count'>"
      ]
     },
     "execution_count": 11,
     "metadata": {},
     "output_type": "execute_result"
    },
    {
     "data": {
      "image/png": "[encoded data removed]",
      "text/plain": [
       "<Figure size 640x480 with 1 Axes>"
      ]
     },
     "metadata": {},
     "output_type": "display_data"
    }
   ],
   "source": [
    "#CELL NO. 3\n",
    "# CLASS DISTRIBUTION – check if dataset is balanced or not\n",
    "\n",
    "# Labels:\n",
    "# 0 - negative\n",
    "# 1 - positive\n",
    "# 2 - neutral\n",
    "\n",
    "x=df_uaqte['label'].value_counts()\n",
    "print(x)\n",
    "sns.barplot(x=x.index, y=x)"
   ]
  },
  {
   "cell_type": "code",
   "execution_count": 12,
   "id": "4a77e5db",
   "metadata": {},
   "outputs": [
    {
     "name": "stdout",
     "output_type": "stream",
     "text": [
      "Word Count:\n",
      "\tPositive Comment/Text:  53.326153846153844\n",
      "\tNegative Comment/Text:  29.056923076923077\n",
      "\tNeutral Comment/Text:  64.3576923076923\n",
      "\n",
      "Character Count:\n",
      "\tPositive Comment/Text:  334.42846153846153\n",
      "\tNegative Comment/Text:  162.3830769230769\n",
      "\tNeutral Comment/Text:  426.43538461538463\n",
      "\n",
      "Unique Word Count:\n",
      "\tPositive Comment/Text:  40.02538461538462\n",
      "\tNegative Comment/Text:  23.915384615384614\n",
      "\tNeutral Comment/Text:  49.494615384615386\n"
     ]
    }
   ],
   "source": [
    "#CELL NO. 4\n",
    "#WORD-COUNT\n",
    "print('Word Count:')\n",
    "df_uaqte['word_count'] = df_uaqte['text'].apply(lambda x: len(str(x).split()))\n",
    "print('\\tPositive Comment/Text: ', df_uaqte[df_uaqte['label']==1]['word_count'].mean()) #Positive \n",
    "print('\\tNegative Comment/Text: ', df_uaqte[df_uaqte['label']==0]['word_count'].mean()) #Negative\n",
    "print('\\tNeutral Comment/Text: ', df_uaqte[df_uaqte['label']==2]['word_count'].mean()) #Neutral \n",
    "\n",
    "#2. CHARACTER-COUNT\n",
    "print('\\nCharacter Count:')\n",
    "df_uaqte['char_count'] = df_uaqte['text'].apply(lambda x: len(str(x)))\n",
    "print('\\tPositive Comment/Text: ', df_uaqte[df_uaqte['label']==1]['char_count'].mean()) #Positive \n",
    "print('\\tNegative Comment/Text: ', df_uaqte[df_uaqte['label']==0]['char_count'].mean()) #Negative\n",
    "print('\\tNeutral Comment/Text: ', df_uaqte[df_uaqte['label']==2]['char_count'].mean()) #Neutral \n",
    "\n",
    "\n",
    "#3. UNIQUE WORD-COUNT\n",
    "print('\\nUnique Word Count:')\n",
    "df_uaqte['unique_word_count'] = df_uaqte['text'].apply(lambda x: len(set(str(x).split())))\n",
    "print('\\tPositive Comment/Text: ', df_uaqte[df_uaqte['label']==1]['unique_word_count'].mean()) #Positive \n",
    "print('\\tNegative Comment/Text: ', df_uaqte[df_uaqte['label']==0]['unique_word_count'].mean()) #Negative\n",
    "print('\\tNeutral Comment/Text: ', df_uaqte[df_uaqte['label']==2]['unique_word_count'].mean()) #Neutral "
   ]
  },
  {
   "cell_type": "code",
   "execution_count": 13,
   "id": "7819804c",
   "metadata": {},
   "outputs": [
    {
     "data": {
      "image/png": "[encoded data removed]",
      "text/plain": [
       "<Figure size 1500x500 with 3 Axes>"
      ]
     },
     "metadata": {},
     "output_type": "display_data"
    }
   ],
   "source": [
    "#CELL NO. 5\n",
    "#Plotting word-count per label/category\n",
    "fig, (ax1, ax2, ax3) = plt.subplots(1, 3, figsize=(15, 5))\n",
    "\n",
    "#Plot for positive sentiments\n",
    "train_words = df_uaqte[df_uaqte['label'] == 1]['word_count']\n",
    "ax1.hist(train_words, color='red')\n",
    "ax1.set_title('Positive')\n",
    "\n",
    "#Plot for negative sentiments\n",
    "train_words = df_uaqte[df_uaqte['label'] == 0]['word_count']\n",
    "ax2.hist(train_words, color='blue')\n",
    "ax2.set_title('Negative')\n",
    "\n",
    "#Plot for neutral sentiments\n",
    "train_words = df_uaqte[df_uaqte['label'] == 2]['word_count']\n",
    "ax3.hist(train_words, color='green')\n",
    "ax3.set_title('Neutral')\n",
    "\n",
    "fig.suptitle('Words per Text')\n",
    "plt.show()"
   ]
  },
  {
   "cell_type": "markdown",
   "id": "a95a0eba",
   "metadata": {},
   "source": [
    "<h1><b>PRE-PROCESSING</b></h1>\n",
    "<br>\n",
    "</t>Next cell demonstrates how to preprocess the dataset by removing punctuations & special characters, cleaning texts, removing stop words, and applying lemmatization"
   ]
  },
  {
   "cell_type": "markdown",
   "id": "3a560e72",
   "metadata": {},
   "source": [
    "<h5>1. Simple Text Cleaning</h5>"
   ]
  },
  {
   "cell_type": "code",
   "execution_count": 16,
   "id": "40d4f46a",
   "metadata": {},
   "outputs": [
    {
     "name": "stdout",
     "output_type": "stream",
     "text": [
      "this is a message to be cleaned it may involve some things like adjacent spaces and tabs\n"
     ]
    },
    {
     "name": "stderr",
     "output_type": "stream",
     "text": [
      "<>:12: SyntaxWarning: invalid escape sequence '\\s'\n",
      "<>:12: SyntaxWarning: invalid escape sequence '\\s'\n",
      "C:\\Users\\Vincent\\AppData\\Local\\Temp\\ipykernel_10256\\2448704128.py:12: SyntaxWarning: invalid escape sequence '\\s'\n",
      "  text = re.sub('\\s+', ' ', text)  #Remove extra space and tabs\n"
     ]
    }
   ],
   "source": [
    "#CELL NO. 6\n",
    "\n",
    "#1. Common text preprocessing\n",
    "text = \"   This is a message to be cleaned. It may involve some things like: , ?, :, ''  adjacent spaces and tabs     .  \"\n",
    "\n",
    "#convert to lowercase and remove punctuations and characters and then strip\n",
    "def preprocess(text):\n",
    "    text = text.lower() #lowercase text\n",
    "    text=text.strip()  #get rid of leading/trailing whitespace \n",
    "    text=re.compile('<.*?>').sub('', text) #Remove HTML tags/markups\n",
    "    text = re.compile('[%s]' % re.escape(string.punctuation)).sub(' ', text)  #Replace punctuation with space. Careful since punctuation can sometime be useful\n",
    "    text = re.sub('\\s+', ' ', text)  #Remove extra space and tabs\n",
    "    text = re.sub(r'\\[[0-9]*\\]',' ',text) #[0-9] matches any digit (0 to 10000...)\n",
    "    text=re.sub(r'[^\\w\\s]', '', str(text).lower().strip())\n",
    "    text = re.sub(r'\\d',' ',text) #matches any digit from 0 to 100000..., \\D matches non-digits\n",
    "    text = re.sub(r'\\s+',' ',text) #\\s matches any whitespace, \\s+ matches multiple whitespace, \\S matches non-whitespace \n",
    "    \n",
    "    return text\n",
    "\n",
    "text=preprocess(text)\n",
    "print(text)  #text is a string "
   ]
  },
  {
   "cell_type": "code",
   "execution_count": 17,
   "id": "2ab16675",
   "metadata": {},
   "outputs": [
    {
     "name": "stdout",
     "output_type": "stream",
     "text": [
      "['i', 'me', 'my', 'myself', 'we', 'our', 'ours', 'ourselves', 'you', \"you're\", \"you've\", \"you'll\", \"you'd\", 'your', 'yours', 'yourself', 'yourselves', 'he', 'him', 'his', 'himself', 'she', \"she's\", 'her', 'hers', 'herself', 'it', \"it's\", 'its', 'itself', 'they', 'them', 'their', 'theirs', 'themselves', 'what', 'which', 'who', 'whom', 'this', 'that', \"that'll\", 'these', 'those', 'am', 'is', 'are', 'was', 'were', 'be', 'been', 'being', 'have', 'has', 'had', 'having', 'do', 'does', 'did', 'doing', 'a', 'an', 'the', 'and', 'but', 'if', 'or', 'because', 'as', 'until', 'while', 'of', 'at', 'by', 'for', 'with', 'about', 'against', 'between', 'into', 'through', 'during', 'before', 'after', 'above', 'below', 'to', 'from', 'up', 'down', 'in', 'out', 'on', 'off', 'over', 'under', 'again', 'further', 'then', 'once', 'here', 'there', 'when', 'where', 'why', 'how', 'all', 'any', 'both', 'each', 'few', 'more', 'most', 'other', 'some', 'such', 'no', 'nor', 'not', 'only', 'own', 'same', 'so', 'than', 'too', 'very', 's', 't', 'can', 'will', 'just', 'don', \"don't\", 'should', \"should've\", 'now', 'd', 'll', 'm', 'o', 're', 've', 'y', 'ain', 'aren', \"aren't\", 'couldn', \"couldn't\", 'didn', \"didn't\", 'doesn', \"doesn't\", 'hadn', \"hadn't\", 'hasn', \"hasn't\", 'haven', \"haven't\", 'isn', \"isn't\", 'ma', 'mightn', \"mightn't\", 'mustn', \"mustn't\", 'needn', \"needn't\", 'shan', \"shan't\", 'shouldn', \"shouldn't\", 'wasn', \"wasn't\", 'weren', \"weren't\", 'won', \"won't\", 'wouldn', \"wouldn't\"]\n"
     ]
    },
    {
     "name": "stderr",
     "output_type": "stream",
     "text": [
      "[nltk_data] Downloading package stopwords to\n",
      "[nltk_data]     C:\\Users\\Vincent\\AppData\\Roaming\\nltk_data...\n",
      "[nltk_data]   Package stopwords is already up-to-date!\n",
      "[nltk_data] Downloading package omw-1.4 to\n",
      "[nltk_data]     C:\\Users\\Vincent\\AppData\\Roaming\\nltk_data...\n",
      "[nltk_data]   Package omw-1.4 is already up-to-date!\n"
     ]
    }
   ],
   "source": [
    "#CELL NO.7\n",
    "\n",
    "import nltk\n",
    "nltk.download('stopwords')\n",
    "nltk.download('omw-1.4')\n",
    "# Get the list of stopwords for a specific language (e.g., English)\n",
    "stopwords_list = stopwords.words('english')\n",
    "\n",
    "# Print the list of stopwords\n",
    "print(stopwords_list)"
   ]
  },
  {
   "cell_type": "code",
   "execution_count": 18,
   "id": "2cc15328",
   "metadata": {},
   "outputs": [
    {
     "name": "stdout",
     "output_type": "stream",
     "text": [
      "['ako', 'alin', 'am', 'amin', 'aming', 'ang', 'ano', 'anumang', 'apat', 'at', 'atin', 'ating', 'ay', 'bababa', 'bago', 'bakit', 'bawat', 'bilang', 'dahil', 'dalawa', 'dapat', 'din', 'dito', 'doon', 'gagawin', 'gayunman', 'ginagawa', 'ginawa', 'ginawang', 'gumawa', 'gusto', 'habang', 'hanggang', 'hindi', 'huwag', 'iba', 'ibaba', 'ibabaw', 'ibig', 'ikaw', 'ilagay', 'ilalim', 'ilan', 'inyong', 'isa', 'isang', 'itaas', 'ito', 'iyo', 'iyon', 'iyong', 'ka', 'kahit', 'kailangan', 'kailanman', 'kami', 'kanila', 'kanilang', 'kanino', 'kanya', 'kanyang', 'kapag', 'kapwa', 'karamihan', 'katiyakan', 'katulad', 'kaya', 'kaysa', 'ko', 'kong', 'kulang', 'kumuha', 'kung', 'laban', 'lahat', 'lamang', 'likod', 'lima', 'maaari', 'maaaring', 'maging', 'mahusay', 'makita', 'marami', 'marapat', 'mga', 'minsan', 'mismo', 'mula', 'muli', 'na', 'nabanggit', 'naging', 'nagkaroon', 'nais', 'nakita', 'namin', 'napaka', 'narito', 'nasaan', 'ng', 'nga', 'ngayon', 'ni', 'nila', 'nilang', 'nito', 'niya', 'niyang', 'noon', 'o', 'pa', 'paano', 'pababa', 'paggawa', 'pagitan', 'pagkakaroon', 'pagkatapos', 'palabas', 'pamamagitan', 'panahon', 'pangalawa', 'para', 'paraan', 'pareho', 'pataas', 'pero', 'pumunta', 'pumupunta', 'sa', 'saan', 'sabi', 'sabihin', 'sarili', 'sila', 'sino', 'siya', 'tatlo', 'tayo', 'tulad', 'tungkol', 'una', 'walang', 'ito', 'iyan']\n"
     ]
    }
   ],
   "source": [
    "#CELL NO.8\n",
    "\n",
    "# Define a list of common Tagalog stopwords\n",
    "tagalog_stopwords = [\n",
    "    'ako', 'alin', 'am', 'amin', 'aming', 'ang', 'ano', 'anumang', 'apat', 'at',\n",
    "    'atin', 'ating', 'ay', 'bababa', 'bago', 'bakit', 'bawat', 'bilang', 'dahil',\n",
    "    'dalawa', 'dapat', 'din', 'dito', 'doon', 'gagawin', 'gayunman', 'ginagawa',\n",
    "    'ginawa', 'ginawang', 'gumawa', 'gusto', 'habang', 'hanggang', 'hindi', 'huwag',\n",
    "    'iba', 'ibaba', 'ibabaw', 'ibig', 'ikaw', 'ilagay', 'ilalim', 'ilan', 'inyong',\n",
    "    'isa', 'isang', 'itaas', 'ito', 'iyo', 'iyon', 'iyong', 'ka', 'kahit', 'kailangan',\n",
    "    'kailanman', 'kami', 'kanila', 'kanilang', 'kanino', 'kanya', 'kanyang', 'kapag',\n",
    "    'kapwa', 'karamihan', 'katiyakan', 'katulad', 'kaya', 'kaysa', 'ko', 'kong', 'kulang',\n",
    "    'kumuha', 'kung', 'laban', 'lahat', 'lamang', 'likod', 'lima', 'maaari', 'maaaring',\n",
    "    'maging', 'mahusay', 'makita', 'marami', 'marapat', 'mga', 'minsan', 'mismo', 'mula',\n",
    "    'muli', 'na', 'nabanggit', 'naging', 'nagkaroon', 'nais', 'nakita', 'namin', 'napaka',\n",
    "    'narito', 'nasaan', 'ng', 'nga', 'ngayon', 'ni', 'nila', 'nilang', 'nito', 'niya',\n",
    "    'niyang', 'noon', 'o', 'pa', 'paano', 'pababa', 'paggawa', 'pagitan', 'pagkakaroon',\n",
    "    'pagkatapos', 'palabas', 'pamamagitan', 'panahon', 'pangalawa', 'para', 'paraan',\n",
    "    'pareho', 'pataas', 'pero', 'pumunta', 'pumupunta', 'sa', 'saan', 'sabi', 'sabihin',\n",
    "    'sarili', 'sila', 'sino', 'siya', 'tatlo', 'tayo', 'tulad', 'tungkol', 'una', 'walang',\n",
    "    'ito', 'iyan'\n",
    "]\n",
    "\n",
    "# Print the list of Tagalog stopwords\n",
    "print(tagalog_stopwords)"
   ]
  },
  {
   "cell_type": "markdown",
   "id": "25616588",
   "metadata": {},
   "source": [
    "<h5>2. Lexicon-based Text Preprocessing</h5><br>\n",
    " a. Stopword removal - removing insignificant words from English vocabulary using nltk. A few such words are ‘i’,’you’,’a’,’the’,’he’,’which’ etc.\n",
    "<br> b. Stemming - process of slicing the end or the beginning of words with the intention of removing affixes(prefix/suffix)\n",
    "<br> c. Lemmatization - process of reducing the word to its base form"
   ]
  },
  {
   "cell_type": "code",
   "execution_count": 20,
   "id": "fb36e6f8",
   "metadata": {},
   "outputs": [
    {
     "name": "stderr",
     "output_type": "stream",
     "text": [
      "[nltk_data] Downloading package punkt_tab to\n",
      "[nltk_data]     C:\\Users\\Vincent\\AppData\\Roaming\\nltk_data...\n",
      "[nltk_data]   Package punkt_tab is already up-to-date!\n",
      "[nltk_data] Downloading package averaged_perceptron_tagger_eng to\n",
      "[nltk_data]     C:\\Users\\Vincent\\AppData\\Roaming\\nltk_data...\n",
      "[nltk_data]   Package averaged_perceptron_tagger_eng is already up-to-\n",
      "[nltk_data]       date!\n"
     ]
    },
    {
     "name": "stdout",
     "output_type": "stream",
     "text": [
      "message cleaned may involve things like adjacent spaces tabs\n",
      "messag clean may involv thing like adjac space tab\n",
      "messag clean may involv thing like adjac space tab\n"
     ]
    }
   ],
   "source": [
    "#CELL NO.9\n",
    "#LEXICON-BASED TEXT PROCESSING EXAMPLES\n",
    "nltk.download('punkt_tab')\n",
    "nltk.download('averaged_perceptron_tagger_eng')\n",
    "\n",
    "#1. STOP WORDS REMOVAL\n",
    "def stopword(string):\n",
    "    english_stopwords = stopwords.words('english')\n",
    "    combined_stopwords = english_stopwords + tagalog_stopwords\n",
    "    \n",
    "    words = [word for word in string.split() if word.lower() not in combined_stopwords]\n",
    "    return ' '.join(words)\n",
    "\n",
    "text=stopword(text)\n",
    "print(text)\n",
    "\n",
    "#2. STEMMING\n",
    " \n",
    "# Initialize the stemmer\n",
    "snow = SnowballStemmer('english')\n",
    "def stemming(string):\n",
    "    a=[snow.stem(i) for i in word_tokenize(string) ]\n",
    "    return \" \".join(a)\n",
    "text=stemming(text)\n",
    "print(text)\n",
    "\n",
    "#3. LEMMATIZATION\n",
    "# Initialize the lemmatizer\n",
    "wl = WordNetLemmatizer()\n",
    " \n",
    "# This is a helper function to map NTLK position tags\n",
    "# Full list is available here: https://www.ling.upenn.edu/courses/Fall_2003/ling001/penn_treebank_pos.html\n",
    "def get_wordnet_pos(tag):\n",
    "    if tag.startswith('J'):\n",
    "        return wordnet.ADJ\n",
    "    elif tag.startswith('V'):\n",
    "        return wordnet.VERB\n",
    "    elif tag.startswith('N'):\n",
    "        return wordnet.NOUN\n",
    "    elif tag.startswith('R'):\n",
    "        return wordnet.ADV\n",
    "    else:\n",
    "        return wordnet.NOUN\n",
    "\n",
    "# Tokenize the sentence\n",
    "def lemmatizer(string):\n",
    "    word_pos_tags = nltk.pos_tag(word_tokenize(string)) # Get position tags\n",
    "    a=[wl.lemmatize(tag[0], get_wordnet_pos(tag[1])) for idx, tag in enumerate(word_pos_tags)] # Map the position tag and lemmatize the word/token\n",
    "    return \" \".join(a)\n",
    "\n",
    "text = lemmatizer(text)\n",
    "print(text)"
   ]
  },
  {
   "cell_type": "markdown",
   "id": "5d2c06c9",
   "metadata": {},
   "source": [
    "<h5>Final Preprocessing on our Dataset</h5><br>\n",
    "Applying all the preprocessing functions defined above to the data frame (df_uaqte / uaqte_balanced_dataset.csv) "
   ]
  },
  {
   "cell_type": "code",
   "execution_count": 22,
   "id": "30f8a98e",
   "metadata": {},
   "outputs": [
    {
     "data": {
      "text/html": [
       "<div>\n",
       "<style scoped>\n",
       "    .dataframe tbody tr th:only-of-type {\n",
       "        vertical-align: middle;\n",
       "    }\n",
       "\n",
       "    .dataframe tbody tr th {\n",
       "        vertical-align: top;\n",
       "    }\n",
       "\n",
       "    .dataframe thead th {\n",
       "        text-align: right;\n",
       "    }\n",
       "</style>\n",
       "<table border=\"1\" class=\"dataframe\">\n",
       "  <thead>\n",
       "    <tr style=\"text-align: right;\">\n",
       "      <th></th>\n",
       "      <th>platform-group</th>\n",
       "      <th>text</th>\n",
       "      <th>label</th>\n",
       "      <th>word_count</th>\n",
       "      <th>char_count</th>\n",
       "      <th>unique_word_count</th>\n",
       "      <th>clean_text</th>\n",
       "    </tr>\n",
       "  </thead>\n",
       "  <tbody>\n",
       "    <tr>\n",
       "      <th>0</th>\n",
       "      <td>Youtube</td>\n",
       "      <td>ang problema ng mga stupedyante din kc nagmama...</td>\n",
       "      <td>0</td>\n",
       "      <td>37</td>\n",
       "      <td>227</td>\n",
       "      <td>34</td>\n",
       "      <td>problema stupedyante kc nagmamadali baka naman...</td>\n",
       "    </tr>\n",
       "    <tr>\n",
       "      <th>1</th>\n",
       "      <td>Youtube</td>\n",
       "      <td>Ano naman ngayon kung may panuntunang dapat su...</td>\n",
       "      <td>0</td>\n",
       "      <td>17</td>\n",
       "      <td>104</td>\n",
       "      <td>16</td>\n",
       "      <td>naman may panuntunang sundin lang deserve lng ...</td>\n",
       "    </tr>\n",
       "    <tr>\n",
       "      <th>2</th>\n",
       "      <td>Youtube</td>\n",
       "      <td>ANTITRINITARIAN sobrang mura na nga 50% pa.</td>\n",
       "      <td>0</td>\n",
       "      <td>7</td>\n",
       "      <td>43</td>\n",
       "      <td>7</td>\n",
       "      <td>antitrinitarian sobrang mura</td>\n",
       "    </tr>\n",
       "    <tr>\n",
       "      <th>3</th>\n",
       "      <td>Youtube</td>\n",
       "      <td>aquino gusto namin ang no or less tuition pero...</td>\n",
       "      <td>0</td>\n",
       "      <td>16</td>\n",
       "      <td>96</td>\n",
       "      <td>16</td>\n",
       "      <td>aquino less tuition stop announce worthy</td>\n",
       "    </tr>\n",
       "    <tr>\n",
       "      <th>4</th>\n",
       "      <td>Youtube</td>\n",
       "      <td>BKIT DI NINYO ISINAMA ANG NGA GURO NA MAARING ...</td>\n",
       "      <td>0</td>\n",
       "      <td>21</td>\n",
       "      <td>117</td>\n",
       "      <td>20</td>\n",
       "      <td>bkit di ninyo isinama guro maaring mging joble...</td>\n",
       "    </tr>\n",
       "    <tr>\n",
       "      <th>5</th>\n",
       "      <td>Youtube</td>\n",
       "      <td>Bakit di nyo yan ginawa nun panahon ni PNOY??</td>\n",
       "      <td>0</td>\n",
       "      <td>9</td>\n",
       "      <td>45</td>\n",
       "      <td>9</td>\n",
       "      <td>di nyo yan nun pnoy</td>\n",
       "    </tr>\n",
       "    <tr>\n",
       "      <th>6</th>\n",
       "      <td>Youtube</td>\n",
       "      <td>bakit kasi kelangan pa icategory\\n\\ndi nlng ga...</td>\n",
       "      <td>0</td>\n",
       "      <td>44</td>\n",
       "      <td>259</td>\n",
       "      <td>38</td>\n",
       "      <td>kasi kelangan icategory di nlng gawing libre t...</td>\n",
       "    </tr>\n",
       "    <tr>\n",
       "      <th>7</th>\n",
       "      <td>Youtube</td>\n",
       "      <td>Bakit nung kay pinoy di nila sinulong yan😂</td>\n",
       "      <td>0</td>\n",
       "      <td>8</td>\n",
       "      <td>42</td>\n",
       "      <td>8</td>\n",
       "      <td>nung kay pinoy di sinulong yan</td>\n",
       "    </tr>\n",
       "    <tr>\n",
       "      <th>8</th>\n",
       "      <td>Youtube</td>\n",
       "      <td>Bakit pa sya Sinabing State University or coll...</td>\n",
       "      <td>0</td>\n",
       "      <td>55</td>\n",
       "      <td>304</td>\n",
       "      <td>48</td>\n",
       "      <td>sya sinabing state university college free nam...</td>\n",
       "    </tr>\n",
       "    <tr>\n",
       "      <th>9</th>\n",
       "      <td>Youtube</td>\n",
       "      <td>dapat ang una cgurong gawin dito sa mga nais m...</td>\n",
       "      <td>0</td>\n",
       "      <td>35</td>\n",
       "      <td>183</td>\n",
       "      <td>31</td>\n",
       "      <td>cgurong gawin makakuha libreng tuition fee gov...</td>\n",
       "    </tr>\n",
       "  </tbody>\n",
       "</table>\n",
       "</div>"
      ],
      "text/plain": [
       "  platform-group                                               text  label  \\\n",
       "0        Youtube  ang problema ng mga stupedyante din kc nagmama...      0   \n",
       "1        Youtube  Ano naman ngayon kung may panuntunang dapat su...      0   \n",
       "2        Youtube        ANTITRINITARIAN sobrang mura na nga 50% pa.      0   \n",
       "3        Youtube  aquino gusto namin ang no or less tuition pero...      0   \n",
       "4        Youtube  BKIT DI NINYO ISINAMA ANG NGA GURO NA MAARING ...      0   \n",
       "5        Youtube      Bakit di nyo yan ginawa nun panahon ni PNOY??      0   \n",
       "6        Youtube  bakit kasi kelangan pa icategory\\n\\ndi nlng ga...      0   \n",
       "7        Youtube         Bakit nung kay pinoy di nila sinulong yan😂      0   \n",
       "8        Youtube  Bakit pa sya Sinabing State University or coll...      0   \n",
       "9        Youtube  dapat ang una cgurong gawin dito sa mga nais m...      0   \n",
       "\n",
       "   word_count  char_count  unique_word_count  \\\n",
       "0          37         227                 34   \n",
       "1          17         104                 16   \n",
       "2           7          43                  7   \n",
       "3          16          96                 16   \n",
       "4          21         117                 20   \n",
       "5           9          45                  9   \n",
       "6          44         259                 38   \n",
       "7           8          42                  8   \n",
       "8          55         304                 48   \n",
       "9          35         183                 31   \n",
       "\n",
       "                                          clean_text  \n",
       "0  problema stupedyante kc nagmamadali baka naman...  \n",
       "1  naman may panuntunang sundin lang deserve lng ...  \n",
       "2                       antitrinitarian sobrang mura  \n",
       "3           aquino less tuition stop announce worthy  \n",
       "4  bkit di ninyo isinama guro maaring mging joble...  \n",
       "5                                di nyo yan nun pnoy  \n",
       "6  kasi kelangan icategory di nlng gawing libre t...  \n",
       "7                     nung kay pinoy di sinulong yan  \n",
       "8  sya sinabing state university college free nam...  \n",
       "9  cgurong gawin makakuha libreng tuition fee gov...  "
      ]
     },
     "execution_count": 22,
     "metadata": {},
     "output_type": "execute_result"
    }
   ],
   "source": [
    "#CELL NO.10\n",
    "\n",
    "def finalpreprocess(string):\n",
    "    return lemmatizer(stopword(preprocess(string)))\n",
    "df_uaqte['clean_text'] = df_uaqte['text'].apply(lambda x: finalpreprocess(x))\n",
    "\n",
    "df_uaqte.head(10)"
   ]
  },
  {
   "cell_type": "markdown",
   "id": "6c59a011",
   "metadata": {},
   "source": [
    "<h1>FEATURE EXTRACTION</h1>\n",
    "Extracting vectors from text"
   ]
  },
  {
   "cell_type": "markdown",
   "id": "67ff9a18",
   "metadata": {},
   "source": [
    "<b>Splitting the dataset using 80:20 ratio. 80% as training set and 20% as test set</b>"
   ]
  },
  {
   "cell_type": "code",
   "execution_count": 25,
   "id": "a6da10bd",
   "metadata": {},
   "outputs": [
    {
     "name": "stdout",
     "output_type": "stream",
     "text": [
      "DONE SPLITTING AND WORK TOKENIZING.\n"
     ]
    }
   ],
   "source": [
    "#CELL NO.11\n",
    "\n",
    "#SPLITTING THE TRAINING DATASET INTO TRAIN AND TEST\n",
    "\n",
    "X_train, X_val, y_train, y_val = train_test_split(df_uaqte[\"clean_text\"],\n",
    "                                                  df_uaqte[\"label\"],\n",
    "                                                  test_size=0.2,\n",
    "                                                  shuffle=True)\n",
    "\n",
    "# Word2Vec runs on tokenized sentences\n",
    "X_train_tok= [nltk.word_tokenize(i) for i in X_train]  #for word2vec\n",
    "X_val_tok= [nltk.word_tokenize(i) for i in X_val]      #for word2vec\n",
    "\n",
    "print(\"DONE SPLITTING AND WORK TOKENIZING.\")"
   ]
  },
  {
   "cell_type": "markdown",
   "id": "1c650395",
   "metadata": {},
   "source": [
    "<b>Extracting features/ vectors using Bag-of-words(with Tf-\n",
    "   Idf) and Word2Vec</b>\n",
    "   "
   ]
  },
  {
   "cell_type": "code",
   "execution_count": 27,
   "id": "c70a35fa",
   "metadata": {},
   "outputs": [
    {
     "name": "stdout",
     "output_type": "stream",
     "text": [
      "DONE RUNNING.\n"
     ]
    }
   ],
   "source": [
    "#CELL NO.12\n",
    "# create Word2vec model\n",
    "\n",
    "df_uaqte['clean_text_tok']=[nltk.word_tokenize(i) for i in df_uaqte['clean_text']] #convert preprocessed sentence to tokenized sentence\n",
    "model = Word2Vec(df_uaqte['clean_text_tok'],min_count=1)  #min_count=1 means word should be present at least across all documents,\n",
    "#if min_count=2 means if the word is present less than 2 times across all the documents then we shouldn't consider it\n",
    "\n",
    "w2v = dict(zip(model.wv.index_to_key, model.wv.vectors))  #combination of word and its vector\n",
    "\n",
    "#for converting sentence to vectors/numbers from word vectors result by Word2Vec\n",
    "class MeanEmbeddingVectorizer(object):\n",
    "    def __init__(self, word2vec):\n",
    "        self.word2vec = word2vec\n",
    "        # if a text is empty we should return a vector of zeros\n",
    "        # with the same dimensionality as all the other vectors\n",
    "        self.dim = len(next(iter(word2vec.values())))\n",
    "\n",
    "    def fit(self, X, y):\n",
    "        return self\n",
    "\n",
    "    def transform(self, X):\n",
    "        return np.array([\n",
    "            np.mean([self.word2vec[w] for w in words if w in self.word2vec]\n",
    "                    or [np.zeros(self.dim)], axis=0)\n",
    "            for words in X\n",
    "        ])\n",
    "\n",
    "print(\"DONE RUNNING.\")"
   ]
  },
  {
   "cell_type": "code",
   "execution_count": 28,
   "id": "cac81d28",
   "metadata": {},
   "outputs": [
    {
     "name": "stdout",
     "output_type": "stream",
     "text": [
      "DONE CREATING VECTORS.\n"
     ]
    }
   ],
   "source": [
    "#CELL NO. 13\n",
    "\n",
    "#TF-IDF\n",
    "# Convert x_train to vector since model can only run on numbers and not words- Fit and transform\n",
    "tfidf_vectorizer = TfidfVectorizer(use_idf=True)\n",
    "X_train_vectors_tfidf = tfidf_vectorizer.fit_transform(X_train) #tfidf runs on non-tokenized sentences unlike word2vec\n",
    "\n",
    "# Only transform x_test (not fit and transform)\n",
    "X_val_vectors_tfidf = tfidf_vectorizer.transform(X_val) #Don't fit() your TfidfVectorizer to your test data: it will \n",
    "\n",
    "#change the word-indexes & weights to match test data. Rather, fit on the training data, then use the same train-data-\n",
    "#fit model on the test data, to reflect the fact you're analyzing the test data only based on what was learned without \n",
    "#it, and the have compatible\n",
    "\n",
    "#Word2vec\n",
    "# Fit and transform\n",
    "modelw = MeanEmbeddingVectorizer(w2v)\n",
    "X_train_vectors_w2v = modelw.transform(X_train_tok)\n",
    "X_val_vectors_w2v = modelw.transform(X_val_tok)\n",
    "\n",
    "print(\"DONE CREATING VECTORS.\")"
   ]
  },
  {
   "cell_type": "markdown",
   "id": "0a947892",
   "metadata": {},
   "source": [
    "<h1>TRAINING MODELS</h1>"
   ]
  },
  {
   "cell_type": "markdown",
   "id": "248a157a",
   "metadata": {},
   "source": [
    "<h3>Multinomial Logistic Regression with TF-IDF</h3>"
   ]
  },
  {
   "cell_type": "code",
   "execution_count": 31,
   "id": "f50fd6da",
   "metadata": {},
   "outputs": [
    {
     "name": "stderr",
     "output_type": "stream",
     "text": [
      "D:\\anaconda3\\Lib\\site-packages\\sklearn\\linear_model\\_logistic.py:1247: FutureWarning: 'multi_class' was deprecated in version 1.5 and will be removed in 1.7. From then on, it will always use 'multinomial'. Leave it to its default value to avoid this warning.\n",
      "  warnings.warn(\n"
     ]
    },
    {
     "name": "stdout",
     "output_type": "stream",
     "text": [
      "Accuracy: 0.8076923076923077\n",
      "\n",
      "              precision    recall  f1-score   support\n",
      "\n",
      "           0       0.76      0.88      0.82       250\n",
      "           1       0.83      0.75      0.79       259\n",
      "           2       0.84      0.79      0.82       271\n",
      "\n",
      "    accuracy                           0.81       780\n",
      "   macro avg       0.81      0.81      0.81       780\n",
      "weighted avg       0.81      0.81      0.81       780\n",
      "\n",
      "Confusion Matrix: \n",
      " [[221  14  15]\n",
      " [ 39 195  25]\n",
      " [ 32  25 214]]\n"
     ]
    },
    {
     "data": {
      "image/png": "[encoded data removed]",
      "text/plain": [
       "<Figure size 800x600 with 2 Axes>"
      ]
     },
     "metadata": {},
     "output_type": "display_data"
    }
   ],
   "source": [
    "#CELL NO.14\n",
    "#FITTING THE CLASSIFICATION MODEL using Logistic Regression(tf-idf)\n",
    "lr_tfidf=LogisticRegression(solver = 'lbfgs', multi_class='multinomial', max_iter=1000)\n",
    "lr_tfidf.fit(X_train_vectors_tfidf, y_train)  #model\n",
    "\n",
    "#Predict y value for test dataset\n",
    "y_predict = lr_tfidf.predict(X_val_vectors_tfidf)\n",
    " \n",
    "#Generate confusion matrix\n",
    "conf_matrix = confusion_matrix (y_val, y_predict)\n",
    "\n",
    "#Print accuracy score and classification report\n",
    "print('Accuracy: %s\\n' % metrics.accuracy_score(y_predict, y_val))\n",
    "print(classification_report(y_val,y_predict))\n",
    "print('Confusion Matrix: \\n',conf_matrix)\n",
    " \n",
    "# Plot confusion matrix as a heatmap\n",
    "plt.figure(figsize=(8, 6))\n",
    "sns.heatmap(conf_matrix, annot=True, fmt='d', cmap='Blues', \n",
    "            xticklabels=lr_tfidf.classes_, yticklabels=lr_tfidf.classes_)\n",
    "plt.xlabel('Predicted')\n",
    "plt.ylabel('Actual')\n",
    "plt.title('Confusion Matrix')\n",
    "plt.show()"
   ]
  },
  {
   "cell_type": "markdown",
   "id": "76680d36",
   "metadata": {},
   "source": [
    "<h3>Naive Bayes with TF-IDF</h3>"
   ]
  },
  {
   "cell_type": "code",
   "execution_count": 33,
   "id": "c3038e90",
   "metadata": {},
   "outputs": [
    {
     "name": "stdout",
     "output_type": "stream",
     "text": [
      "Accuracy: 0.8\n",
      "\n",
      "              precision    recall  f1-score   support\n",
      "\n",
      "           0       0.74      0.86      0.80       250\n",
      "           1       0.82      0.77      0.79       259\n",
      "           2       0.85      0.77      0.81       271\n",
      "\n",
      "    accuracy                           0.80       780\n",
      "   macro avg       0.80      0.80      0.80       780\n",
      "weighted avg       0.80      0.80      0.80       780\n",
      "\n",
      "Confusion Matrix: \n",
      " [[216  16  18]\n",
      " [ 41 199  19]\n",
      " [ 33  29 209]]\n"
     ]
    },
    {
     "data": {
      "image/png": "[encoded data removed]",
      "text/plain": [
       "<Figure size 800x600 with 2 Axes>"
      ]
     },
     "metadata": {},
     "output_type": "display_data"
    }
   ],
   "source": [
    "#CELL NO.14\n",
    "\n",
    "#FITTING THE CLASSIFICATION MODEL using Naive Bayes(tf-idf)\n",
    "\n",
    "nb_tfidf = MultinomialNB()\n",
    "nb_tfidf.fit(X_train_vectors_tfidf, y_train)  #model\n",
    "\n",
    "#Predict y value for test dataset\n",
    "y_predict = nb_tfidf.predict(X_val_vectors_tfidf)\n",
    " \n",
    "#Generate confusion matrix\n",
    "conf_matrix = confusion_matrix (y_val, y_predict)\n",
    "\n",
    "#Print accuracy score and classification report\n",
    "print('Accuracy: %s\\n' % metrics.accuracy_score(y_predict, y_val))\n",
    "print(classification_report(y_val,y_predict))\n",
    "print('Confusion Matrix: \\n',conf_matrix)\n",
    "\n",
    "# Plot confusion matrix as a heatmap\n",
    "plt.figure(figsize=(8, 6))\n",
    "sns.heatmap(conf_matrix, annot=True, fmt='d', cmap='Blues', \n",
    "            xticklabels=nb_tfidf.classes_, yticklabels=nb_tfidf.classes_)\n",
    "plt.xlabel('Predicted')\n",
    "plt.ylabel('Actual')\n",
    "plt.title('Confusion Matrix')\n",
    "plt.show()"
   ]
  },
  {
   "cell_type": "markdown",
   "id": "87313f5b",
   "metadata": {},
   "source": [
    "<h3>Multinomial Logistic Regression with Word2Vec</h3>"
   ]
  },
  {
   "cell_type": "code",
   "execution_count": 35,
   "id": "8711a9a4",
   "metadata": {},
   "outputs": [
    {
     "name": "stderr",
     "output_type": "stream",
     "text": [
      "D:\\anaconda3\\Lib\\site-packages\\sklearn\\linear_model\\_logistic.py:1247: FutureWarning: 'multi_class' was deprecated in version 1.5 and will be removed in 1.7. From then on, it will always use 'multinomial'. Leave it to its default value to avoid this warning.\n",
      "  warnings.warn(\n"
     ]
    },
    {
     "name": "stdout",
     "output_type": "stream",
     "text": [
      "Accuracy: 0.7397435897435898\n",
      "\n",
      "              precision    recall  f1-score   support\n",
      "\n",
      "           0       0.66      0.84      0.73       250\n",
      "           1       0.83      0.66      0.74       259\n",
      "           2       0.77      0.73      0.75       271\n",
      "\n",
      "    accuracy                           0.74       780\n",
      "   macro avg       0.75      0.74      0.74       780\n",
      "weighted avg       0.75      0.74      0.74       780\n",
      "\n",
      "Confusion Matrix: \n",
      " [[209  18  23]\n",
      " [ 52 171  36]\n",
      " [ 58  16 197]]\n"
     ]
    },
    {
     "data": {
      "image/png": "[encoded data removed]",
      "text/plain": [
       "<Figure size 800x600 with 2 Axes>"
      ]
     },
     "metadata": {},
     "output_type": "display_data"
    }
   ],
   "source": [
    "#CELL NO.15\n",
    "\n",
    "#FITTING THE CLASSIFICATION MODEL using Logistic Regression (W2v)\n",
    "lr_w2v=LogisticRegression(solver = 'lbfgs', multi_class='multinomial', max_iter=1000)\n",
    "lr_w2v.fit(X_train_vectors_w2v, y_train)  #model\n",
    "\n",
    "#Predict y value for test dataset\n",
    "y_predict = lr_w2v.predict(X_val_vectors_w2v)\n",
    "\n",
    "#Generate confusion matrix\n",
    "conf_matrix = confusion_matrix (y_val, y_predict)\n",
    "\n",
    "#Print accuracy score and classification report\n",
    "print('Accuracy: %s\\n' % metrics.accuracy_score(y_predict, y_val))\n",
    "print(classification_report(y_val,y_predict))\n",
    "print('Confusion Matrix: \\n',conf_matrix)\n",
    "\n",
    "# Plot confusion matrix as a heatmap\n",
    "plt.figure(figsize=(8, 6))\n",
    "sns.heatmap(conf_matrix, annot=True, fmt='d', cmap='Blues', \n",
    "            xticklabels=lr_w2v.classes_, yticklabels=lr_w2v.classes_)\n",
    "plt.xlabel('Predicted')\n",
    "plt.ylabel('Actual')\n",
    "plt.title('Confusion Matrix')\n",
    "plt.show()"
   ]
  },
  {
   "cell_type": "markdown",
   "id": "2ca2c32f",
   "metadata": {},
   "source": [
    "<h3>Linear SVM with Word2Vec</h3>"
   ]
  },
  {
   "cell_type": "code",
   "execution_count": 37,
   "id": "5b566c11",
   "metadata": {},
   "outputs": [
    {
     "name": "stdout",
     "output_type": "stream",
     "text": [
      "Accuracy: 0.6307692307692307\n",
      "\n",
      "              precision    recall  f1-score   support\n",
      "\n",
      "           0       0.55      0.92      0.69       250\n",
      "           1       0.92      0.35      0.50       259\n",
      "           2       0.65      0.64      0.64       271\n",
      "\n",
      "    accuracy                           0.63       780\n",
      "   macro avg       0.71      0.63      0.61       780\n",
      "weighted avg       0.71      0.63      0.61       780\n",
      "\n",
      "Confusion Matrix: \n",
      " [[229   2  19]\n",
      " [ 94  90  75]\n",
      " [ 92   6 173]]\n"
     ]
    },
    {
     "data": {
      "image/png": "[encoded data removed]",
      "text/plain": [
       "<Figure size 800x600 with 2 Axes>"
      ]
     },
     "metadata": {},
     "output_type": "display_data"
    }
   ],
   "source": [
    "#CELL NO.16\n",
    "#FITTING THE CLASSIFICATION MODEL using Linear SVM (W2v)\n",
    "svm_w2v=sgd = SGDClassifier(loss='hinge', penalty='l2',alpha=1e-3, random_state=123, max_iter=5, tol=None)\n",
    "\n",
    "svm_w2v.fit(X_train_vectors_w2v, y_train)#model\n",
    "\n",
    "#Predict y value for test dataset\n",
    "y_predict = svm_w2v.predict(X_val_vectors_w2v)\n",
    "\n",
    "#Generate confusion matrix\n",
    "conf_matrix = confusion_matrix (y_val, y_predict)\n",
    "\n",
    "#Print accuracy score and classification report\n",
    "print('Accuracy: %s\\n' % metrics.accuracy_score(y_predict, y_val))\n",
    "print(classification_report(y_val,y_predict))\n",
    "print('Confusion Matrix: \\n',conf_matrix)\n",
    "\n",
    "# Plot confusion matrix as a heatmap\n",
    "plt.figure(figsize=(8, 6))\n",
    "sns.heatmap(conf_matrix, annot=True, fmt='d', cmap='Blues', \n",
    "            xticklabels=svm_w2v.classes_, yticklabels=svm_w2v.classes_)\n",
    "plt.xlabel('Predicted')\n",
    "plt.ylabel('Actual')\n",
    "plt.title('Confusion Matrix')\n",
    "plt.show()"
   ]
  },
  {
   "cell_type": "markdown",
   "id": "a3d3ce60",
   "metadata": {},
   "source": [
    "<h1>GENERATE PREDICTIONS USING THE BEST CLASSIFIER MODEL</h1>"
   ]
  },
  {
   "cell_type": "code",
   "execution_count": 39,
   "id": "598a5ca8",
   "metadata": {},
   "outputs": [
    {
     "name": "stdout",
     "output_type": "stream",
     "text": [
      "      platform-group                                               text  \\\n",
      "0  Facebook-REGION 5  Thank you so much sa CHEd at sa Kay Ms.Jocel L...   \n",
      "1    Facebook-CARAGA  Hi po... Naa pabay chance na maapil as TES ben...   \n",
      "2  Facebook-REGION 1  Hello ask ko po pano po mag apply ng scholarsh...   \n",
      "3            Twitter  Nakakagigil yung scholar ka ng ched pero yung ...   \n",
      "4            Twitter                       ched/unifast napakahassle mo   \n",
      "\n",
      "                                          clean_text  predict_prob  label  \n",
      "0  thank much ched kay m jocel labao regional foc...      0.774940      1  \n",
      "1      hi po naa pabay chance maapil tes beneficiary      0.248446      0  \n",
      "2  hello ask po pano po mag apply scholarship nd ...      0.470364      1  \n",
      "3  nakakagigil yung scholar ched yung date pera s...      0.077050      0  \n",
      "4                       ched unifast napakahassle mo      0.225729      0  \n"
     ]
    }
   ],
   "source": [
    "#CELL NO.17\n",
    "\n",
    "#Testing it on new dataset with the best model\n",
    "df_test=pd.read_csv('make_predictions.csv')  #reading the data\n",
    "df_test['clean_text'] = df_test['text'].apply(lambda x: finalpreprocess(x)) #preprocess the data\n",
    "X_test=df_test['clean_text']\n",
    "\n",
    "X_vector=tfidf_vectorizer.transform(X_test) #converting X_test to vector\n",
    "y_predict = lr_tfidf.predict(X_vector)      #use the trained model on X_vector\n",
    "y_prob = lr_tfidf.predict_proba(X_vector)[:,1]\n",
    "df_test['predict_prob']= y_prob\n",
    "df_test['label']= y_predict\n",
    "\n",
    "print(df_test.head())\n",
    "final=df_test[['text','label']].reset_index(drop=True)\n",
    "final.to_csv('submission.csv')"
   ]
  }
 ],
 "metadata": {
  "kernelspec": {
   "display_name": "Python [conda env:base] *",
   "language": "python",
   "name": "conda-base-py"
  },
  "language_info": {
   "codemirror_mode": {
    "name": "ipython",
    "version": 3
   },
   "file_extension": ".py",
   "mimetype": "text/x-python",
   "name": "python",
   "nbconvert_exporter": "python",
   "pygments_lexer": "ipython3",
   "version": "3.12.7"
  }
 },
 "nbformat": 4,
 "nbformat_minor": 5
}
